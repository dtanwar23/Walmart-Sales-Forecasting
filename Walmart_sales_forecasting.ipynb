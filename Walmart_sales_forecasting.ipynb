{
  "metadata": {
    "kernelspec": {
      "language": "python",
      "display_name": "Python 3",
      "name": "python3"
    },
    "language_info": {
      "pygments_lexer": "ipython3",
      "nbconvert_exporter": "python",
      "version": "3.6.4",
      "file_extension": ".py",
      "codemirror_mode": {
        "name": "ipython",
        "version": 3
      },
      "name": "python",
      "mimetype": "text/x-python"
    },
    "colab": {
      "provenance": [],
      "include_colab_link": true
    }
  },
  "nbformat_minor": 0,
  "nbformat": 4,
  "cells": [
    {
      "cell_type": "markdown",
      "metadata": {
        "id": "view-in-github",
        "colab_type": "text"
      },
      "source": [
        "<a href=\"https://colab.research.google.com/github/dtanwar23/Walmart-Sales-Forecasting/blob/main/Walmart_sales_forecasting.ipynb\" target=\"_parent\"><img src=\"https://colab.research.google.com/assets/colab-badge.svg\" alt=\"Open In Colab\"/></a>"
      ]
    },
    {
      "source": [
        "\n",
        "# IMPORTANT: RUN THIS CELL IN ORDER TO IMPORT YOUR KAGGLE DATA SOURCES\n",
        "# TO THE CORRECT LOCATION (/kaggle/input) IN YOUR NOTEBOOK,\n",
        "# THEN FEEL FREE TO DELETE THIS CELL.\n",
        "# NOTE: THIS NOTEBOOK ENVIRONMENT DIFFERS FROM KAGGLE'S PYTHON\n",
        "# ENVIRONMENT SO THERE MAY BE MISSING LIBRARIES USED BY YOUR\n",
        "# NOTEBOOK.\n",
        "\n",
        "import os\n",
        "import sys\n",
        "from tempfile import NamedTemporaryFile\n",
        "from urllib.request import urlopen\n",
        "from urllib.parse import unquote, urlparse\n",
        "from urllib.error import HTTPError\n",
        "from zipfile import ZipFile\n",
        "import tarfile\n",
        "import shutil\n",
        "\n",
        "CHUNK_SIZE = 40960\n",
        "DATA_SOURCE_MAPPING = 'housesalesprediction:https%3A%2F%2Fstorage.googleapis.com%2Fkaggle-data-sets%2F128%2F270%2Fbundle%2Farchive.zip%3FX-Goog-Algorithm%3DGOOG4-RSA-SHA256%26X-Goog-Credential%3Dgcp-kaggle-com%2540kaggle-161607.iam.gserviceaccount.com%252F20240522%252Fauto%252Fstorage%252Fgoog4_request%26X-Goog-Date%3D20240522T000314Z%26X-Goog-Expires%3D259200%26X-Goog-SignedHeaders%3Dhost%26X-Goog-Signature%3D20de21c528bd9549d1c98fefdfc8f8c70599350e979a10014fa2dc7a19ffb12c9513fdc42a17cede4027dc50c64d7f8487e7c76282d3395653e938c03adc08c0525ca7d061f2f04fdd111068cf2c600b81d5e9245bc08cc5ebb4b0adb5d82b657beaa605fe9f374b08794382dd81fd45571a87bc08762bd4d875cd7711198b0833ae7b8f5ab24cb0504dad01ec0ba08cba303374ecea4f32cfa99c50db4c1d4f7675a2ff1c9739aad8a3e0b0d84196f17c5eea1ec55ba2bb2570c84e6624d365bdfd94d198b9f2ed1b2b099ba4f2b35cf656ddc587a5112ccc662699481859da21e5c10942688ba9f694e02c0c80eb244c1c512284118cb4cd5428cc66ab493b,tv-sales-forecast:https%3A%2F%2Fstorage.googleapis.com%2Fkaggle-data-sets%2F166%2F348%2Fbundle%2Farchive.zip%3FX-Goog-Algorithm%3DGOOG4-RSA-SHA256%26X-Goog-Credential%3Dgcp-kaggle-com%2540kaggle-161607.iam.gserviceaccount.com%252F20240522%252Fauto%252Fstorage%252Fgoog4_request%26X-Goog-Date%3D20240522T000314Z%26X-Goog-Expires%3D259200%26X-Goog-SignedHeaders%3Dhost%26X-Goog-Signature%3D6a0a60d134858c8d5c063e72123311e70c44a65e12fe5375b85e40a6806ccc024b8c9b59118d66485e1feed1d12e4ddd0bc4436cc29f1ff2fe327a5a46dbab87b2304741749b74eda9d2b799427dd8ebdc187aaeea2e7163cdd5d53d3a411006b4bedba7dfaa79f3f99881dfd93542b90ddc470d93b3d579234136219093645fed7f11f9b14d2505ca1561a735ae26214b65e9aa6f8be706f9e6252705a068f15dae773aa8e52f10c2dca0a3877f040927ca731e189c4e3cd8bd8be104b640604422a8f2f3fb7589cb1ba3a2798cfcac6a39cbe45cca2b91562666bc9716843ab225b21b5ab6b2778ee81574616c331b3be66291e95ff83c1222540b896154e1,retail-sales-forecasting:https%3A%2F%2Fstorage.googleapis.com%2Fkaggle-data-sets%2F1789%2F3097%2Fbundle%2Farchive.zip%3FX-Goog-Algorithm%3DGOOG4-RSA-SHA256%26X-Goog-Credential%3Dgcp-kaggle-com%2540kaggle-161607.iam.gserviceaccount.com%252F20240522%252Fauto%252Fstorage%252Fgoog4_request%26X-Goog-Date%3D20240522T000314Z%26X-Goog-Expires%3D259200%26X-Goog-SignedHeaders%3Dhost%26X-Goog-Signature%3D09918825319cf51608c6bd9218c2814702ac704cf5126a81548174fba3a103af4084e35d27ae8913ccf3bfcf1b93b6c5274d55763313ac929f71f6108a7108212ba7a143574cec5692882534e556d3c5357c5c3075df3b900568dd5edf1cc3365f2578910c135045aacc427cf6d37544cc8d53cb904a25895cf5e9e026a20b3b0ea4bd59063db2b30473712cd00d2f6af7c9435af3d83077afc1f74f3260d5423144ca8cce24e80ba3bf4e4f7f0c37f0ee76b19e3a08b033d44bffe5cba5c5ccd89c76b87371ad90ebce3aa93aa67ba2b8dc068587494d6c543151a347189b8a02b1bbe24906169cb49fa310b94655814017c24e3c6d9293a79edad960d84eb0,productdemandforecasting:https%3A%2F%2Fstorage.googleapis.com%2Fkaggle-data-sets%2F2208%2F3724%2Fbundle%2Farchive.zip%3FX-Goog-Algorithm%3DGOOG4-RSA-SHA256%26X-Goog-Credential%3Dgcp-kaggle-com%2540kaggle-161607.iam.gserviceaccount.com%252F20240522%252Fauto%252Fstorage%252Fgoog4_request%26X-Goog-Date%3D20240522T000315Z%26X-Goog-Expires%3D259200%26X-Goog-SignedHeaders%3Dhost%26X-Goog-Signature%3D853b5fc4dc38c63a7b2b2c215b301c8c6b3d75a8a6ff1eb15b7dcca6e8468a91b6307e729bc3fa7387a6a799bbe19c9d6ea0d8d5a2467d625c5b98a215ee329175a4f759a3b747251e2961ba281fd0d021281b046b23b702ec13533c3779835a45f667a08650997ea5432c82c0dedcc7c4dffba356de3452fa535f4f231a22ae6fc6a503a4ff357fd31dfc67b8d35880dd420a27e15c061205a9f89ff6220e9529c88fdf0d1e0e9adf70244c190c06db2fec53e263c690e6e7ded9d80772c4ce31c8c26d10203a73a83097b9580c40a384262a7b09e3723690dbaadc85a1a4a2045d31e25bd1a5e2df6ce1949c98eb1b927e91b34740d8f6bc88fc9fbb6527b5,wallmart-sales-forecast-datasets:https%3A%2F%2Fstorage.googleapis.com%2Fkaggle-data-sets%2F5098%2F7703%2Fbundle%2Farchive.zip%3FX-Goog-Algorithm%3DGOOG4-RSA-SHA256%26X-Goog-Credential%3Dgcp-kaggle-com%2540kaggle-161607.iam.gserviceaccount.com%252F20240522%252Fauto%252Fstorage%252Fgoog4_request%26X-Goog-Date%3D20240522T000315Z%26X-Goog-Expires%3D259200%26X-Goog-SignedHeaders%3Dhost%26X-Goog-Signature%3D542ec9cb83861869c5afb84bfa5ad1f42a81d5158f966b6c25677439002442dd82787f69cb3451e38154d4c619e0e08906d0d2a37ce0c99c2846306c6c7a8dda160be9cd7f52fb282389a91a394901f10eb9b89811b7536bc7053dc3c92522f3908030db058ca5b4f3ba6b00e042352fd6d7429af9bdf84ebd3de4a863975ef571d67b52466392c3113b734026a743564c60ac3b04e3bb42efe69e0e7c8decb23e44cd7737ac9068ae81e9e694aaf33fcf9c99dce80653409e009568024799ddd6115b4d0b33f11623e0a36fad3629c4fab48a97fcac92325421db38352b334c50185955fd8834840dbbb573e2820823346de3775e9fbf6fbfb572169d2c561a,big-mart-sales-prediction:https%3A%2F%2Fstorage.googleapis.com%2Fkaggle-data-sets%2F8538%2F11952%2Fbundle%2Farchive.zip%3FX-Goog-Algorithm%3DGOOG4-RSA-SHA256%26X-Goog-Credential%3Dgcp-kaggle-com%2540kaggle-161607.iam.gserviceaccount.com%252F20240522%252Fauto%252Fstorage%252Fgoog4_request%26X-Goog-Date%3D20240522T000315Z%26X-Goog-Expires%3D259200%26X-Goog-SignedHeaders%3Dhost%26X-Goog-Signature%3D8d203c7edd2aa7ac2f45146120865bcc326e3dc950133ec7f1a4436bab2d8a8e0b8b571d40a12056d03532ba918bec73bb4337d8b6d816fcf746b50c9ccd03fba22f45159473bdeb34d4f6ece50df283fd497e82184ebb738f15b98cd9dd5126f6511362d63f5d1a5059ac8c25cf148025dccc571b835260fed24adefc79244cbb4a4ab2874932209be573870a51bf730afb186710d2d077309e4804f019e311dd41e15519c22a4f190e2d18cdf2f903f4f7171362fda4ef4f7b38e91857e5f63f2271991e2d1f6e6ab4ed42769647beffbb32bc0314541c20e92bbd3af8141f75b9b9aed6b902d06f0dc80f8650ffa4dde10b674ff8a78a050067ca1206e189,supermarket-sales:https%3A%2F%2Fstorage.googleapis.com%2Fkaggle-data-sets%2F205965%2F451952%2Fbundle%2Farchive.zip%3FX-Goog-Algorithm%3DGOOG4-RSA-SHA256%26X-Goog-Credential%3Dgcp-kaggle-com%2540kaggle-161607.iam.gserviceaccount.com%252F20240522%252Fauto%252Fstorage%252Fgoog4_request%26X-Goog-Date%3D20240522T000315Z%26X-Goog-Expires%3D259200%26X-Goog-SignedHeaders%3Dhost%26X-Goog-Signature%3D8b86b4c0f493c559d3d2402baa0dac84947af1c7f9d1f130043db48f1eaa5cc0a5cbb8d7eaf4476c6fcd478fa2808199ad06a2cc4394d7a0f246dc25a3f580febec7016896a419249f51f91c3bcc205b38f21e13f3e08a77a48496c61cf11230b6cdf1789c5196fad6cdc4acc7f8ecda9dd5234fd0f58693f841f6b226f052122a37c0d43d018c2f6e8f27b48cec939acb0bef47869dee107e9d10d200b54150b6bdc4d8f87972e06084e489fa4148c5660b81baaf2fb00f7644255733c94d6d351769bd05d5767a92b504bb24e01cd6c3af4d2bc32687cec3943847bc2a7a3917faa45252e72aa8c9eabb7078bdd8652289ad2aee964e3ac20218d2575caa87,walmart-sales-prediction:https%3A%2F%2Fstorage.googleapis.com%2Fkaggle-data-sets%2F1113976%2F1871199%2Fbundle%2Farchive.zip%3FX-Goog-Algorithm%3DGOOG4-RSA-SHA256%26X-Goog-Credential%3Dgcp-kaggle-com%2540kaggle-161607.iam.gserviceaccount.com%252F20240522%252Fauto%252Fstorage%252Fgoog4_request%26X-Goog-Date%3D20240522T000315Z%26X-Goog-Expires%3D259200%26X-Goog-SignedHeaders%3Dhost%26X-Goog-Signature%3D7c8110cb6c615f91980bcfd856ec1a42fdc533b4920a969bdea72d98643c2adf625369dd4407808aa4ef13936083c6e21c9d7755573235f0bf070dcd70ea6fab7493fe00f705f6e8695a9d4ae1bb8f8fd13be55dd0fe8d94e54c7a55fe09c947aa2f1a19de10d361e349b936a724a829e21eb55ad1f430adf000465d1bedbd98e945087aff64c275a16619f08f48dbbe5b4c293c91c46a89557ddd187bcfec0b7089d67a79d488f3f1f034e39f4ea378a0fa7dcb64e4cfcc85f2606d293229993804afe4ea25f00ae76d387aa1d6c61355430df67d6b41846a8047e5c7d7fc6c960b85595370388af9da896f2f5a07ae51a23725b60246f34365e62682b783f0,walmart-dataset-retail:https%3A%2F%2Fstorage.googleapis.com%2Fkaggle-data-sets%2F1674428%2F2746241%2Fbundle%2Farchive.zip%3FX-Goog-Algorithm%3DGOOG4-RSA-SHA256%26X-Goog-Credential%3Dgcp-kaggle-com%2540kaggle-161607.iam.gserviceaccount.com%252F20240522%252Fauto%252Fstorage%252Fgoog4_request%26X-Goog-Date%3D20240522T000315Z%26X-Goog-Expires%3D259200%26X-Goog-SignedHeaders%3Dhost%26X-Goog-Signature%3D5e744322f02ca9e8034dc5f00624eef85bdf3dc113142d8bdf4094a6923901de6fc090c5f276e622f7f24d06709d00e229b59950e227db0b03f562b874c2be46a7aebbba58893ac451a7e2b7a53ab3d95db6ecb8fa3f174d844d3bb37534f2b21ff14543e0906762efa81fe15072ae13143e7842d495db28cdc3a2afdc158bfc54cbd67206c2a789782ff9c9bf0381bf671edaf1a8a8d0930c51245d8826adc6b938f917c3c48839f015f2e58970f237ce1dac4a0423e60d6de3353923f0da87ef7dfe522ce8ca70007dc0b8495a4d43a134744f8e1d4d5f2e30d044dd819036735419f024e476155edae4455fb7b0b19303c5a582ec5f58228c8edb91c24480,walmart-dataset:https%3A%2F%2Fstorage.googleapis.com%2Fkaggle-data-sets%2F1820993%2F2970526%2Fbundle%2Farchive.zip%3FX-Goog-Algorithm%3DGOOG4-RSA-SHA256%26X-Goog-Credential%3Dgcp-kaggle-com%2540kaggle-161607.iam.gserviceaccount.com%252F20240522%252Fauto%252Fstorage%252Fgoog4_request%26X-Goog-Date%3D20240522T000315Z%26X-Goog-Expires%3D259200%26X-Goog-SignedHeaders%3Dhost%26X-Goog-Signature%3D59af0cee4a0dbde30209e1bfe33d1d036daa130111181baee1d1cd99d6e062bd83d53a27b598873c58e38bfda7dfb54c61739dfbc3d6f497239807f6bf05ade8b5afa9ad0c3ad3a7bcdebc7720be404a4d5cf01dff51784ea8beeedc8a57019d1c53c8678549e7610cbf25fd92b1f73f81eebef67d0f545e95942815d788f0908b5cb836e55ec48588ac1cb2329752647dee92af2b437e810dcf6249c254bfa535183c379a8c89a787d512926c655cf03937c199c1d7621880b5fec82fdf41fccd8f8f9abe367723f033c18a6db0a246156c18dcea361d2fe95881fea58f98378a3155c937ee2874e9ee61f31a23391b1a4d64c72887b0a1a496e212eab97754,walmart-sales-forecast:https%3A%2F%2Fstorage.googleapis.com%2Fkaggle-data-sets%2F2107830%2F3502310%2Fbundle%2Farchive.zip%3FX-Goog-Algorithm%3DGOOG4-RSA-SHA256%26X-Goog-Credential%3Dgcp-kaggle-com%2540kaggle-161607.iam.gserviceaccount.com%252F20240522%252Fauto%252Fstorage%252Fgoog4_request%26X-Goog-Date%3D20240522T000315Z%26X-Goog-Expires%3D259200%26X-Goog-SignedHeaders%3Dhost%26X-Goog-Signature%3D4d895ac459dff9a129c4cd0bd9e58af825f3f411af88f87ef3d328d1835f3a9c919d577c21fe555e10377d35b2d37e6e7d1e4c208fecc8cb28eb789b71546de305b59bd12048ccdb237d9f0286ab4193cdf772ebe78351c4694a7a1790e0c7c0841c264e0ae78fb52718539b9aa9ae6d65b3004d96175638571350352fb856e6490480fe9cccd24228c9eb9ba4949077b5c8b0b1a73675d12e9fa551914395f73d216f65c827030c81db66dfe8df9d3e6d3682a8ad029c84cdabe67789eae32c2b86153da9ea5dafa00fdad1e8f5173a74621b0cf5a2194044d2a53cb7e446ad8d595b316ddfedc0e559c5959394262398d85899461820dd39a6c533a9729a7a'\n",
        "\n",
        "KAGGLE_INPUT_PATH='/kaggle/input'\n",
        "KAGGLE_WORKING_PATH='/kaggle/working'\n",
        "KAGGLE_SYMLINK='kaggle'\n",
        "\n",
        "!umount /kaggle/input/ 2> /dev/null\n",
        "shutil.rmtree('/kaggle/input', ignore_errors=True)\n",
        "os.makedirs(KAGGLE_INPUT_PATH, 0o777, exist_ok=True)\n",
        "os.makedirs(KAGGLE_WORKING_PATH, 0o777, exist_ok=True)\n",
        "\n",
        "try:\n",
        "  os.symlink(KAGGLE_INPUT_PATH, os.path.join(\"..\", 'input'), target_is_directory=True)\n",
        "except FileExistsError:\n",
        "  pass\n",
        "try:\n",
        "  os.symlink(KAGGLE_WORKING_PATH, os.path.join(\"..\", 'working'), target_is_directory=True)\n",
        "except FileExistsError:\n",
        "  pass\n",
        "\n",
        "for data_source_mapping in DATA_SOURCE_MAPPING.split(','):\n",
        "    directory, download_url_encoded = data_source_mapping.split(':')\n",
        "    download_url = unquote(download_url_encoded)\n",
        "    filename = urlparse(download_url).path\n",
        "    destination_path = os.path.join(KAGGLE_INPUT_PATH, directory)\n",
        "    try:\n",
        "        with urlopen(download_url) as fileres, NamedTemporaryFile() as tfile:\n",
        "            total_length = fileres.headers['content-length']\n",
        "            print(f'Downloading {directory}, {total_length} bytes compressed')\n",
        "            dl = 0\n",
        "            data = fileres.read(CHUNK_SIZE)\n",
        "            while len(data) > 0:\n",
        "                dl += len(data)\n",
        "                tfile.write(data)\n",
        "                done = int(50 * dl / int(total_length))\n",
        "                sys.stdout.write(f\"\\r[{'=' * done}{' ' * (50-done)}] {dl} bytes downloaded\")\n",
        "                sys.stdout.flush()\n",
        "                data = fileres.read(CHUNK_SIZE)\n",
        "            if filename.endswith('.zip'):\n",
        "              with ZipFile(tfile) as zfile:\n",
        "                zfile.extractall(destination_path)\n",
        "            else:\n",
        "              with tarfile.open(tfile.name) as tarfile:\n",
        "                tarfile.extractall(destination_path)\n",
        "            print(f'\\nDownloaded and uncompressed: {directory}')\n",
        "    except HTTPError as e:\n",
        "        print(f'Failed to load (likely expired) {download_url} to path {destination_path}')\n",
        "        continue\n",
        "    except OSError as e:\n",
        "        print(f'Failed to load {download_url} to path {destination_path}')\n",
        "        continue\n",
        "\n",
        "print('Data source import complete.')\n"
      ],
      "metadata": {
        "id": "bARS54JznA2W",
        "outputId": "50afba5c-cd69-4f38-9131-102aec7e7b67",
        "colab": {
          "base_uri": "https://localhost:8080/"
        }
      },
      "cell_type": "code",
      "outputs": [
        {
          "output_type": "stream",
          "name": "stdout",
          "text": [
            "Downloading housesalesprediction, 798275 bytes compressed\n",
            "[==================================================] 798275 bytes downloaded\n",
            "Downloaded and uncompressed: housesalesprediction\n",
            "Downloading tv-sales-forecast, 173635 bytes compressed\n",
            "[==================================================] 173635 bytes downloaded\n",
            "Downloaded and uncompressed: tv-sales-forecast\n",
            "Downloading retail-sales-forecasting, 6231 bytes compressed\n",
            "[==================================================] 6231 bytes downloaded\n",
            "Downloaded and uncompressed: retail-sales-forecasting\n",
            "Downloading productdemandforecasting, 5263446 bytes compressed\n",
            "[==================================================] 5263446 bytes downloaded\n",
            "Downloaded and uncompressed: productdemandforecasting\n",
            "Downloading wallmart-sales-forecast-datasets, 3524213 bytes compressed\n",
            "[==================================================] 3524213 bytes downloaded\n",
            "Downloaded and uncompressed: wallmart-sales-forecast-datasets\n",
            "Downloading big-mart-sales-prediction, 391658 bytes compressed\n",
            "[==================================================] 391658 bytes downloaded\n",
            "Downloaded and uncompressed: big-mart-sales-prediction\n",
            "Downloading supermarket-sales, 36801 bytes compressed\n",
            "[==================================================] 36801 bytes downloaded\n",
            "Downloaded and uncompressed: supermarket-sales\n",
            "Downloading walmart-sales-prediction, 3524213 bytes compressed\n",
            "[==================================================] 3524213 bytes downloaded\n",
            "Downloaded and uncompressed: walmart-sales-prediction\n",
            "Downloading walmart-dataset-retail, 125119 bytes compressed\n",
            "[==================================================] 125119 bytes downloaded\n",
            "Downloaded and uncompressed: walmart-dataset-retail\n",
            "Downloading walmart-dataset, 125095 bytes compressed\n",
            "[==================================================] 125095 bytes downloaded\n",
            "Downloaded and uncompressed: walmart-dataset\n",
            "Downloading walmart-sales-forecast, 3524213 bytes compressed\n",
            "[==================================================] 3524213 bytes downloaded\n",
            "Downloaded and uncompressed: walmart-sales-forecast\n",
            "Data source import complete.\n"
          ]
        }
      ],
      "execution_count": null
    },
    {
      "cell_type": "code",
      "source": [
        "from google.colab import drive\n",
        "drive.mount('/content/drive')"
      ],
      "metadata": {
        "colab": {
          "base_uri": "https://localhost:8080/"
        },
        "id": "0Mz-Ux_7oZn6",
        "outputId": "0000b0ad-2e7b-4c92-dad6-356379830876"
      },
      "execution_count": 1,
      "outputs": [
        {
          "output_type": "stream",
          "name": "stdout",
          "text": [
            "Mounted at /content/drive\n"
          ]
        }
      ]
    },
    {
      "cell_type": "markdown",
      "source": [
        "# Background"
      ],
      "metadata": {
        "id": "0mLlJcpjnA2d"
      }
    },
    {
      "cell_type": "markdown",
      "source": [
        "Walmart is a renowned retail corporation that operates a chain of hypermarkets. Here, Walmart has provided a data combining of 45 stores including store information and monthly sales. The data is provided on weekly basis. Walmart tries to find the impact of holidays on the sales of store. For which it has included four holidays’ weeks into the dataset which are Christmas, Thanksgiving, Super bowl, Labor Day. Here we are owing to Analyze the dataset given. Before doing that, let me point out the objective of this analysis."
      ],
      "metadata": {
        "id": "3zRuZMvKnA2f"
      }
    },
    {
      "cell_type": "markdown",
      "source": [
        "# Business Objectives"
      ],
      "metadata": {
        "id": "fZPAOs-tnA2g"
      }
    },
    {
      "cell_type": "markdown",
      "source": [
        "Our Main Objective is to predict sales of store in a week. As in dataset size and time related data are given as feature, so analyze if sales are impacted by time-based factors and space- based factor. Most importantly how inclusion of holidays in a week soars the sales in store?"
      ],
      "metadata": {
        "id": "3fT5PqivnA2g"
      }
    },
    {
      "cell_type": "markdown",
      "source": [
        "# Importing Necessary Libraries and Data"
      ],
      "metadata": {
        "id": "W__Gq_NinA2h"
      }
    },
    {
      "cell_type": "code",
      "source": [
        "import numpy as np      # To use np.arrays\n",
        "import pandas as pd     # To use dataframes\n",
        "from pandas.plotting import autocorrelation_plot as auto_corr\n",
        "\n",
        "# To plot\n",
        "import matplotlib.pyplot as plt\n",
        "%matplotlib inline\n",
        "import matplotlib as mpl\n",
        "import seaborn as sns\n",
        "\n",
        "#For date-time\n",
        "import math\n",
        "from datetime import datetime\n",
        "from datetime import timedelta\n",
        "\n",
        "# Another imports if needs\n",
        "import itertools\n",
        "import statsmodels.api as sm\n",
        "import statsmodels.tsa.api as smt\n",
        "import statsmodels.formula.api as smf\n",
        "\n",
        "from sklearn.model_selection import train_test_split\n",
        "from statsmodels.tsa.seasonal import seasonal_decompose as season\n",
        "from sklearn.metrics import mean_squared_error, mean_absolute_error\n",
        "from sklearn.metrics import accuracy_score, balanced_accuracy_score\n",
        "from sklearn.model_selection import cross_val_score\n",
        "from sklearn.pipeline import make_pipeline, Pipeline\n",
        "from sklearn.ensemble import RandomForestRegressor\n",
        "from sklearn import metrics\n",
        "from sklearn.linear_model import LinearRegression\n",
        "from sklearn import preprocessing\n",
        "\n",
        "from statsmodels.tsa.holtwinters import ExponentialSmoothing\n",
        "from statsmodels.tsa.stattools import adfuller, acf, pacf\n",
        "from statsmodels.tsa.arima_model import ARIMA\n",
        "!pip install pmdarima\n",
        "from pmdarima.utils import decomposed_plot\n",
        "from pmdarima.arima import decompose\n",
        "from pmdarima import auto_arima\n",
        "\n",
        "\n",
        "import warnings\n",
        "warnings.filterwarnings(\"ignore\")\n",
        "\n"
      ],
      "metadata": {
        "execution": {
          "iopub.status.busy": "2022-04-22T05:35:55.320993Z",
          "iopub.execute_input": "2022-04-22T05:35:55.321363Z",
          "iopub.status.idle": "2022-04-22T05:36:10.591102Z",
          "shell.execute_reply.started": "2022-04-22T05:35:55.321275Z",
          "shell.execute_reply": "2022-04-22T05:36:10.590237Z"
        },
        "trusted": true,
        "id": "Td0xf6iDnA2h",
        "outputId": "b88a5b77-2422-49cf-8269-cc7cba2cbe10",
        "colab": {
          "base_uri": "https://localhost:8080/"
        }
      },
      "execution_count": null,
      "outputs": [
        {
          "output_type": "stream",
          "name": "stdout",
          "text": [
            "Collecting pmdarima\n",
            "  Downloading pmdarima-2.0.4-cp310-cp310-manylinux_2_17_x86_64.manylinux2014_x86_64.manylinux_2_28_x86_64.whl (2.1 MB)\n",
            "\u001b[2K     \u001b[90m━━━━━━━━━━━━━━━━━━━━━━━━━━━━━━━━━━━━━━━━\u001b[0m \u001b[32m2.1/2.1 MB\u001b[0m \u001b[31m22.7 MB/s\u001b[0m eta \u001b[36m0:00:00\u001b[0m\n",
            "\u001b[?25hRequirement already satisfied: joblib>=0.11 in /usr/local/lib/python3.10/dist-packages (from pmdarima) (1.4.2)\n",
            "Requirement already satisfied: Cython!=0.29.18,!=0.29.31,>=0.29 in /usr/local/lib/python3.10/dist-packages (from pmdarima) (3.0.10)\n",
            "Requirement already satisfied: numpy>=1.21.2 in /usr/local/lib/python3.10/dist-packages (from pmdarima) (1.25.2)\n",
            "Requirement already satisfied: pandas>=0.19 in /usr/local/lib/python3.10/dist-packages (from pmdarima) (2.0.3)\n",
            "Requirement already satisfied: scikit-learn>=0.22 in /usr/local/lib/python3.10/dist-packages (from pmdarima) (1.2.2)\n",
            "Requirement already satisfied: scipy>=1.3.2 in /usr/local/lib/python3.10/dist-packages (from pmdarima) (1.11.4)\n",
            "Requirement already satisfied: statsmodels>=0.13.2 in /usr/local/lib/python3.10/dist-packages (from pmdarima) (0.14.2)\n",
            "Requirement already satisfied: urllib3 in /usr/local/lib/python3.10/dist-packages (from pmdarima) (2.0.7)\n",
            "Requirement already satisfied: setuptools!=50.0.0,>=38.6.0 in /usr/local/lib/python3.10/dist-packages (from pmdarima) (67.7.2)\n",
            "Requirement already satisfied: packaging>=17.1 in /usr/local/lib/python3.10/dist-packages (from pmdarima) (24.0)\n",
            "Requirement already satisfied: python-dateutil>=2.8.2 in /usr/local/lib/python3.10/dist-packages (from pandas>=0.19->pmdarima) (2.8.2)\n",
            "Requirement already satisfied: pytz>=2020.1 in /usr/local/lib/python3.10/dist-packages (from pandas>=0.19->pmdarima) (2023.4)\n",
            "Requirement already satisfied: tzdata>=2022.1 in /usr/local/lib/python3.10/dist-packages (from pandas>=0.19->pmdarima) (2024.1)\n",
            "Requirement already satisfied: threadpoolctl>=2.0.0 in /usr/local/lib/python3.10/dist-packages (from scikit-learn>=0.22->pmdarima) (3.5.0)\n",
            "Requirement already satisfied: patsy>=0.5.6 in /usr/local/lib/python3.10/dist-packages (from statsmodels>=0.13.2->pmdarima) (0.5.6)\n",
            "Requirement already satisfied: six in /usr/local/lib/python3.10/dist-packages (from patsy>=0.5.6->statsmodels>=0.13.2->pmdarima) (1.16.0)\n",
            "Installing collected packages: pmdarima\n",
            "Successfully installed pmdarima-2.0.4\n"
          ]
        }
      ]
    },
    {
      "cell_type": "code",
      "source": [
        "pd.options.display.max_columns=100 # to see columns"
      ],
      "metadata": {
        "execution": {
          "iopub.status.busy": "2022-04-22T05:36:10.593435Z",
          "iopub.execute_input": "2022-04-22T05:36:10.593768Z",
          "iopub.status.idle": "2022-04-22T05:36:10.60123Z",
          "shell.execute_reply.started": "2022-04-22T05:36:10.593699Z",
          "shell.execute_reply": "2022-04-22T05:36:10.600459Z"
        },
        "trusted": true,
        "id": "NTadvWlSnA2i"
      },
      "execution_count": null,
      "outputs": []
    },
    {
      "cell_type": "code",
      "source": [
        "df_store = pd.read_csv('../input/walmart-sales-forecast/stores.csv') #store data"
      ],
      "metadata": {
        "execution": {
          "iopub.status.busy": "2022-04-22T05:36:10.603165Z",
          "iopub.execute_input": "2022-04-22T05:36:10.603651Z",
          "iopub.status.idle": "2022-04-22T05:36:10.623725Z",
          "shell.execute_reply.started": "2022-04-22T05:36:10.603607Z",
          "shell.execute_reply": "2022-04-22T05:36:10.62304Z"
        },
        "trusted": true,
        "id": "8LQAjLCpnA2j"
      },
      "execution_count": null,
      "outputs": []
    },
    {
      "cell_type": "code",
      "source": [
        "df_train = pd.read_csv('../input/walmart-sales-forecast/train.csv') # train set"
      ],
      "metadata": {
        "execution": {
          "iopub.status.busy": "2022-04-22T05:36:10.625116Z",
          "iopub.execute_input": "2022-04-22T05:36:10.625371Z",
          "iopub.status.idle": "2022-04-22T05:36:11.028432Z",
          "shell.execute_reply.started": "2022-04-22T05:36:10.625337Z",
          "shell.execute_reply": "2022-04-22T05:36:11.027213Z"
        },
        "trusted": true,
        "id": "ktUheLznnA2k"
      },
      "execution_count": null,
      "outputs": []
    },
    {
      "cell_type": "code",
      "source": [
        "df_features = pd.read_csv('../input/walmart-sales-forecast/features.csv') #external information"
      ],
      "metadata": {
        "execution": {
          "iopub.status.busy": "2022-04-22T05:36:11.035191Z",
          "iopub.execute_input": "2022-04-22T05:36:11.035431Z",
          "iopub.status.idle": "2022-04-22T05:36:11.06575Z",
          "shell.execute_reply.started": "2022-04-22T05:36:11.035401Z",
          "shell.execute_reply": "2022-04-22T05:36:11.065039Z"
        },
        "trusted": true,
        "id": "SIBWR-VcnA2k"
      },
      "execution_count": null,
      "outputs": []
    },
    {
      "cell_type": "markdown",
      "source": [
        "# First Look to Data and Merging Three Dataframes"
      ],
      "metadata": {
        "id": "r9LaxtJEnA2l"
      }
    },
    {
      "cell_type": "code",
      "source": [
        "df_store.head()"
      ],
      "metadata": {
        "execution": {
          "iopub.status.busy": "2022-04-22T05:36:11.067257Z",
          "iopub.execute_input": "2022-04-22T05:36:11.067534Z",
          "iopub.status.idle": "2022-04-22T05:36:11.086389Z",
          "shell.execute_reply.started": "2022-04-22T05:36:11.067496Z",
          "shell.execute_reply": "2022-04-22T05:36:11.085647Z"
        },
        "trusted": true,
        "id": "__DL97dynA2l",
        "outputId": "5a4c622c-ba41-45bd-ba65-fb32a58d868e",
        "colab": {
          "base_uri": "https://localhost:8080/",
          "height": 206
        }
      },
      "execution_count": null,
      "outputs": [
        {
          "output_type": "execute_result",
          "data": {
            "text/plain": [
              "   Store Type    Size\n",
              "0      1    A  151315\n",
              "1      2    A  202307\n",
              "2      3    B   37392\n",
              "3      4    A  205863\n",
              "4      5    B   34875"
            ],
            "text/html": [
              "\n",
              "  <div id=\"df-e0cb1cbc-c4ea-4aa2-8b67-21ecd44052ab\" class=\"colab-df-container\">\n",
              "    <div>\n",
              "<style scoped>\n",
              "    .dataframe tbody tr th:only-of-type {\n",
              "        vertical-align: middle;\n",
              "    }\n",
              "\n",
              "    .dataframe tbody tr th {\n",
              "        vertical-align: top;\n",
              "    }\n",
              "\n",
              "    .dataframe thead th {\n",
              "        text-align: right;\n",
              "    }\n",
              "</style>\n",
              "<table border=\"1\" class=\"dataframe\">\n",
              "  <thead>\n",
              "    <tr style=\"text-align: right;\">\n",
              "      <th></th>\n",
              "      <th>Store</th>\n",
              "      <th>Type</th>\n",
              "      <th>Size</th>\n",
              "    </tr>\n",
              "  </thead>\n",
              "  <tbody>\n",
              "    <tr>\n",
              "      <th>0</th>\n",
              "      <td>1</td>\n",
              "      <td>A</td>\n",
              "      <td>151315</td>\n",
              "    </tr>\n",
              "    <tr>\n",
              "      <th>1</th>\n",
              "      <td>2</td>\n",
              "      <td>A</td>\n",
              "      <td>202307</td>\n",
              "    </tr>\n",
              "    <tr>\n",
              "      <th>2</th>\n",
              "      <td>3</td>\n",
              "      <td>B</td>\n",
              "      <td>37392</td>\n",
              "    </tr>\n",
              "    <tr>\n",
              "      <th>3</th>\n",
              "      <td>4</td>\n",
              "      <td>A</td>\n",
              "      <td>205863</td>\n",
              "    </tr>\n",
              "    <tr>\n",
              "      <th>4</th>\n",
              "      <td>5</td>\n",
              "      <td>B</td>\n",
              "      <td>34875</td>\n",
              "    </tr>\n",
              "  </tbody>\n",
              "</table>\n",
              "</div>\n",
              "    <div class=\"colab-df-buttons\">\n",
              "\n",
              "  <div class=\"colab-df-container\">\n",
              "    <button class=\"colab-df-convert\" onclick=\"convertToInteractive('df-e0cb1cbc-c4ea-4aa2-8b67-21ecd44052ab')\"\n",
              "            title=\"Convert this dataframe to an interactive table.\"\n",
              "            style=\"display:none;\">\n",
              "\n",
              "  <svg xmlns=\"http://www.w3.org/2000/svg\" height=\"24px\" viewBox=\"0 -960 960 960\">\n",
              "    <path d=\"M120-120v-720h720v720H120Zm60-500h600v-160H180v160Zm220 220h160v-160H400v160Zm0 220h160v-160H400v160ZM180-400h160v-160H180v160Zm440 0h160v-160H620v160ZM180-180h160v-160H180v160Zm440 0h160v-160H620v160Z\"/>\n",
              "  </svg>\n",
              "    </button>\n",
              "\n",
              "  <style>\n",
              "    .colab-df-container {\n",
              "      display:flex;\n",
              "      gap: 12px;\n",
              "    }\n",
              "\n",
              "    .colab-df-convert {\n",
              "      background-color: #E8F0FE;\n",
              "      border: none;\n",
              "      border-radius: 50%;\n",
              "      cursor: pointer;\n",
              "      display: none;\n",
              "      fill: #1967D2;\n",
              "      height: 32px;\n",
              "      padding: 0 0 0 0;\n",
              "      width: 32px;\n",
              "    }\n",
              "\n",
              "    .colab-df-convert:hover {\n",
              "      background-color: #E2EBFA;\n",
              "      box-shadow: 0px 1px 2px rgba(60, 64, 67, 0.3), 0px 1px 3px 1px rgba(60, 64, 67, 0.15);\n",
              "      fill: #174EA6;\n",
              "    }\n",
              "\n",
              "    .colab-df-buttons div {\n",
              "      margin-bottom: 4px;\n",
              "    }\n",
              "\n",
              "    [theme=dark] .colab-df-convert {\n",
              "      background-color: #3B4455;\n",
              "      fill: #D2E3FC;\n",
              "    }\n",
              "\n",
              "    [theme=dark] .colab-df-convert:hover {\n",
              "      background-color: #434B5C;\n",
              "      box-shadow: 0px 1px 3px 1px rgba(0, 0, 0, 0.15);\n",
              "      filter: drop-shadow(0px 1px 2px rgba(0, 0, 0, 0.3));\n",
              "      fill: #FFFFFF;\n",
              "    }\n",
              "  </style>\n",
              "\n",
              "    <script>\n",
              "      const buttonEl =\n",
              "        document.querySelector('#df-e0cb1cbc-c4ea-4aa2-8b67-21ecd44052ab button.colab-df-convert');\n",
              "      buttonEl.style.display =\n",
              "        google.colab.kernel.accessAllowed ? 'block' : 'none';\n",
              "\n",
              "      async function convertToInteractive(key) {\n",
              "        const element = document.querySelector('#df-e0cb1cbc-c4ea-4aa2-8b67-21ecd44052ab');\n",
              "        const dataTable =\n",
              "          await google.colab.kernel.invokeFunction('convertToInteractive',\n",
              "                                                    [key], {});\n",
              "        if (!dataTable) return;\n",
              "\n",
              "        const docLinkHtml = 'Like what you see? Visit the ' +\n",
              "          '<a target=\"_blank\" href=https://colab.research.google.com/notebooks/data_table.ipynb>data table notebook</a>'\n",
              "          + ' to learn more about interactive tables.';\n",
              "        element.innerHTML = '';\n",
              "        dataTable['output_type'] = 'display_data';\n",
              "        await google.colab.output.renderOutput(dataTable, element);\n",
              "        const docLink = document.createElement('div');\n",
              "        docLink.innerHTML = docLinkHtml;\n",
              "        element.appendChild(docLink);\n",
              "      }\n",
              "    </script>\n",
              "  </div>\n",
              "\n",
              "\n",
              "<div id=\"df-80a41b0d-3be9-497d-bb34-9850456808b9\">\n",
              "  <button class=\"colab-df-quickchart\" onclick=\"quickchart('df-80a41b0d-3be9-497d-bb34-9850456808b9')\"\n",
              "            title=\"Suggest charts\"\n",
              "            style=\"display:none;\">\n",
              "\n",
              "<svg xmlns=\"http://www.w3.org/2000/svg\" height=\"24px\"viewBox=\"0 0 24 24\"\n",
              "     width=\"24px\">\n",
              "    <g>\n",
              "        <path d=\"M19 3H5c-1.1 0-2 .9-2 2v14c0 1.1.9 2 2 2h14c1.1 0 2-.9 2-2V5c0-1.1-.9-2-2-2zM9 17H7v-7h2v7zm4 0h-2V7h2v10zm4 0h-2v-4h2v4z\"/>\n",
              "    </g>\n",
              "</svg>\n",
              "  </button>\n",
              "\n",
              "<style>\n",
              "  .colab-df-quickchart {\n",
              "      --bg-color: #E8F0FE;\n",
              "      --fill-color: #1967D2;\n",
              "      --hover-bg-color: #E2EBFA;\n",
              "      --hover-fill-color: #174EA6;\n",
              "      --disabled-fill-color: #AAA;\n",
              "      --disabled-bg-color: #DDD;\n",
              "  }\n",
              "\n",
              "  [theme=dark] .colab-df-quickchart {\n",
              "      --bg-color: #3B4455;\n",
              "      --fill-color: #D2E3FC;\n",
              "      --hover-bg-color: #434B5C;\n",
              "      --hover-fill-color: #FFFFFF;\n",
              "      --disabled-bg-color: #3B4455;\n",
              "      --disabled-fill-color: #666;\n",
              "  }\n",
              "\n",
              "  .colab-df-quickchart {\n",
              "    background-color: var(--bg-color);\n",
              "    border: none;\n",
              "    border-radius: 50%;\n",
              "    cursor: pointer;\n",
              "    display: none;\n",
              "    fill: var(--fill-color);\n",
              "    height: 32px;\n",
              "    padding: 0;\n",
              "    width: 32px;\n",
              "  }\n",
              "\n",
              "  .colab-df-quickchart:hover {\n",
              "    background-color: var(--hover-bg-color);\n",
              "    box-shadow: 0 1px 2px rgba(60, 64, 67, 0.3), 0 1px 3px 1px rgba(60, 64, 67, 0.15);\n",
              "    fill: var(--button-hover-fill-color);\n",
              "  }\n",
              "\n",
              "  .colab-df-quickchart-complete:disabled,\n",
              "  .colab-df-quickchart-complete:disabled:hover {\n",
              "    background-color: var(--disabled-bg-color);\n",
              "    fill: var(--disabled-fill-color);\n",
              "    box-shadow: none;\n",
              "  }\n",
              "\n",
              "  .colab-df-spinner {\n",
              "    border: 2px solid var(--fill-color);\n",
              "    border-color: transparent;\n",
              "    border-bottom-color: var(--fill-color);\n",
              "    animation:\n",
              "      spin 1s steps(1) infinite;\n",
              "  }\n",
              "\n",
              "  @keyframes spin {\n",
              "    0% {\n",
              "      border-color: transparent;\n",
              "      border-bottom-color: var(--fill-color);\n",
              "      border-left-color: var(--fill-color);\n",
              "    }\n",
              "    20% {\n",
              "      border-color: transparent;\n",
              "      border-left-color: var(--fill-color);\n",
              "      border-top-color: var(--fill-color);\n",
              "    }\n",
              "    30% {\n",
              "      border-color: transparent;\n",
              "      border-left-color: var(--fill-color);\n",
              "      border-top-color: var(--fill-color);\n",
              "      border-right-color: var(--fill-color);\n",
              "    }\n",
              "    40% {\n",
              "      border-color: transparent;\n",
              "      border-right-color: var(--fill-color);\n",
              "      border-top-color: var(--fill-color);\n",
              "    }\n",
              "    60% {\n",
              "      border-color: transparent;\n",
              "      border-right-color: var(--fill-color);\n",
              "    }\n",
              "    80% {\n",
              "      border-color: transparent;\n",
              "      border-right-color: var(--fill-color);\n",
              "      border-bottom-color: var(--fill-color);\n",
              "    }\n",
              "    90% {\n",
              "      border-color: transparent;\n",
              "      border-bottom-color: var(--fill-color);\n",
              "    }\n",
              "  }\n",
              "</style>\n",
              "\n",
              "  <script>\n",
              "    async function quickchart(key) {\n",
              "      const quickchartButtonEl =\n",
              "        document.querySelector('#' + key + ' button');\n",
              "      quickchartButtonEl.disabled = true;  // To prevent multiple clicks.\n",
              "      quickchartButtonEl.classList.add('colab-df-spinner');\n",
              "      try {\n",
              "        const charts = await google.colab.kernel.invokeFunction(\n",
              "            'suggestCharts', [key], {});\n",
              "      } catch (error) {\n",
              "        console.error('Error during call to suggestCharts:', error);\n",
              "      }\n",
              "      quickchartButtonEl.classList.remove('colab-df-spinner');\n",
              "      quickchartButtonEl.classList.add('colab-df-quickchart-complete');\n",
              "    }\n",
              "    (() => {\n",
              "      let quickchartButtonEl =\n",
              "        document.querySelector('#df-80a41b0d-3be9-497d-bb34-9850456808b9 button');\n",
              "      quickchartButtonEl.style.display =\n",
              "        google.colab.kernel.accessAllowed ? 'block' : 'none';\n",
              "    })();\n",
              "  </script>\n",
              "</div>\n",
              "\n",
              "    </div>\n",
              "  </div>\n"
            ],
            "application/vnd.google.colaboratory.intrinsic+json": {
              "type": "dataframe",
              "variable_name": "df_store",
              "summary": "{\n  \"name\": \"df_store\",\n  \"rows\": 45,\n  \"fields\": [\n    {\n      \"column\": \"Store\",\n      \"properties\": {\n        \"dtype\": \"number\",\n        \"std\": 13,\n        \"min\": 1,\n        \"max\": 45,\n        \"num_unique_values\": 45,\n        \"samples\": [\n          40,\n          26,\n          27\n        ],\n        \"semantic_type\": \"\",\n        \"description\": \"\"\n      }\n    },\n    {\n      \"column\": \"Type\",\n      \"properties\": {\n        \"dtype\": \"category\",\n        \"num_unique_values\": 3,\n        \"samples\": [\n          \"A\",\n          \"B\",\n          \"C\"\n        ],\n        \"semantic_type\": \"\",\n        \"description\": \"\"\n      }\n    },\n    {\n      \"column\": \"Size\",\n      \"properties\": {\n        \"dtype\": \"number\",\n        \"std\": 63825,\n        \"min\": 34875,\n        \"max\": 219622,\n        \"num_unique_values\": 40,\n        \"samples\": [\n          203742,\n          93188,\n          57197\n        ],\n        \"semantic_type\": \"\",\n        \"description\": \"\"\n      }\n    }\n  ]\n}"
            }
          },
          "metadata": {},
          "execution_count": 7
        }
      ]
    },
    {
      "cell_type": "code",
      "source": [
        "df_train.head()"
      ],
      "metadata": {
        "execution": {
          "iopub.status.busy": "2022-04-22T05:36:11.087551Z",
          "iopub.execute_input": "2022-04-22T05:36:11.087866Z",
          "iopub.status.idle": "2022-04-22T05:36:11.099914Z",
          "shell.execute_reply.started": "2022-04-22T05:36:11.087819Z",
          "shell.execute_reply": "2022-04-22T05:36:11.099037Z"
        },
        "trusted": true,
        "id": "kiXEsmV1nA2l",
        "outputId": "e4e5f569-3de7-4846-b438-143bbe94d2b8",
        "colab": {
          "base_uri": "https://localhost:8080/",
          "height": 206
        }
      },
      "execution_count": null,
      "outputs": [
        {
          "output_type": "execute_result",
          "data": {
            "text/plain": [
              "   Store  Dept        Date  Weekly_Sales  IsHoliday\n",
              "0      1     1  2010-02-05      24924.50      False\n",
              "1      1     1  2010-02-12      46039.49       True\n",
              "2      1     1  2010-02-19      41595.55      False\n",
              "3      1     1  2010-02-26      19403.54      False\n",
              "4      1     1  2010-03-05      21827.90      False"
            ],
            "text/html": [
              "\n",
              "  <div id=\"df-c667714f-2faa-4d0d-b7e8-356e6a9fa6f2\" class=\"colab-df-container\">\n",
              "    <div>\n",
              "<style scoped>\n",
              "    .dataframe tbody tr th:only-of-type {\n",
              "        vertical-align: middle;\n",
              "    }\n",
              "\n",
              "    .dataframe tbody tr th {\n",
              "        vertical-align: top;\n",
              "    }\n",
              "\n",
              "    .dataframe thead th {\n",
              "        text-align: right;\n",
              "    }\n",
              "</style>\n",
              "<table border=\"1\" class=\"dataframe\">\n",
              "  <thead>\n",
              "    <tr style=\"text-align: right;\">\n",
              "      <th></th>\n",
              "      <th>Store</th>\n",
              "      <th>Dept</th>\n",
              "      <th>Date</th>\n",
              "      <th>Weekly_Sales</th>\n",
              "      <th>IsHoliday</th>\n",
              "    </tr>\n",
              "  </thead>\n",
              "  <tbody>\n",
              "    <tr>\n",
              "      <th>0</th>\n",
              "      <td>1</td>\n",
              "      <td>1</td>\n",
              "      <td>2010-02-05</td>\n",
              "      <td>24924.50</td>\n",
              "      <td>False</td>\n",
              "    </tr>\n",
              "    <tr>\n",
              "      <th>1</th>\n",
              "      <td>1</td>\n",
              "      <td>1</td>\n",
              "      <td>2010-02-12</td>\n",
              "      <td>46039.49</td>\n",
              "      <td>True</td>\n",
              "    </tr>\n",
              "    <tr>\n",
              "      <th>2</th>\n",
              "      <td>1</td>\n",
              "      <td>1</td>\n",
              "      <td>2010-02-19</td>\n",
              "      <td>41595.55</td>\n",
              "      <td>False</td>\n",
              "    </tr>\n",
              "    <tr>\n",
              "      <th>3</th>\n",
              "      <td>1</td>\n",
              "      <td>1</td>\n",
              "      <td>2010-02-26</td>\n",
              "      <td>19403.54</td>\n",
              "      <td>False</td>\n",
              "    </tr>\n",
              "    <tr>\n",
              "      <th>4</th>\n",
              "      <td>1</td>\n",
              "      <td>1</td>\n",
              "      <td>2010-03-05</td>\n",
              "      <td>21827.90</td>\n",
              "      <td>False</td>\n",
              "    </tr>\n",
              "  </tbody>\n",
              "</table>\n",
              "</div>\n",
              "    <div class=\"colab-df-buttons\">\n",
              "\n",
              "  <div class=\"colab-df-container\">\n",
              "    <button class=\"colab-df-convert\" onclick=\"convertToInteractive('df-c667714f-2faa-4d0d-b7e8-356e6a9fa6f2')\"\n",
              "            title=\"Convert this dataframe to an interactive table.\"\n",
              "            style=\"display:none;\">\n",
              "\n",
              "  <svg xmlns=\"http://www.w3.org/2000/svg\" height=\"24px\" viewBox=\"0 -960 960 960\">\n",
              "    <path d=\"M120-120v-720h720v720H120Zm60-500h600v-160H180v160Zm220 220h160v-160H400v160Zm0 220h160v-160H400v160ZM180-400h160v-160H180v160Zm440 0h160v-160H620v160ZM180-180h160v-160H180v160Zm440 0h160v-160H620v160Z\"/>\n",
              "  </svg>\n",
              "    </button>\n",
              "\n",
              "  <style>\n",
              "    .colab-df-container {\n",
              "      display:flex;\n",
              "      gap: 12px;\n",
              "    }\n",
              "\n",
              "    .colab-df-convert {\n",
              "      background-color: #E8F0FE;\n",
              "      border: none;\n",
              "      border-radius: 50%;\n",
              "      cursor: pointer;\n",
              "      display: none;\n",
              "      fill: #1967D2;\n",
              "      height: 32px;\n",
              "      padding: 0 0 0 0;\n",
              "      width: 32px;\n",
              "    }\n",
              "\n",
              "    .colab-df-convert:hover {\n",
              "      background-color: #E2EBFA;\n",
              "      box-shadow: 0px 1px 2px rgba(60, 64, 67, 0.3), 0px 1px 3px 1px rgba(60, 64, 67, 0.15);\n",
              "      fill: #174EA6;\n",
              "    }\n",
              "\n",
              "    .colab-df-buttons div {\n",
              "      margin-bottom: 4px;\n",
              "    }\n",
              "\n",
              "    [theme=dark] .colab-df-convert {\n",
              "      background-color: #3B4455;\n",
              "      fill: #D2E3FC;\n",
              "    }\n",
              "\n",
              "    [theme=dark] .colab-df-convert:hover {\n",
              "      background-color: #434B5C;\n",
              "      box-shadow: 0px 1px 3px 1px rgba(0, 0, 0, 0.15);\n",
              "      filter: drop-shadow(0px 1px 2px rgba(0, 0, 0, 0.3));\n",
              "      fill: #FFFFFF;\n",
              "    }\n",
              "  </style>\n",
              "\n",
              "    <script>\n",
              "      const buttonEl =\n",
              "        document.querySelector('#df-c667714f-2faa-4d0d-b7e8-356e6a9fa6f2 button.colab-df-convert');\n",
              "      buttonEl.style.display =\n",
              "        google.colab.kernel.accessAllowed ? 'block' : 'none';\n",
              "\n",
              "      async function convertToInteractive(key) {\n",
              "        const element = document.querySelector('#df-c667714f-2faa-4d0d-b7e8-356e6a9fa6f2');\n",
              "        const dataTable =\n",
              "          await google.colab.kernel.invokeFunction('convertToInteractive',\n",
              "                                                    [key], {});\n",
              "        if (!dataTable) return;\n",
              "\n",
              "        const docLinkHtml = 'Like what you see? Visit the ' +\n",
              "          '<a target=\"_blank\" href=https://colab.research.google.com/notebooks/data_table.ipynb>data table notebook</a>'\n",
              "          + ' to learn more about interactive tables.';\n",
              "        element.innerHTML = '';\n",
              "        dataTable['output_type'] = 'display_data';\n",
              "        await google.colab.output.renderOutput(dataTable, element);\n",
              "        const docLink = document.createElement('div');\n",
              "        docLink.innerHTML = docLinkHtml;\n",
              "        element.appendChild(docLink);\n",
              "      }\n",
              "    </script>\n",
              "  </div>\n",
              "\n",
              "\n",
              "<div id=\"df-d57dca25-94b9-41ab-bd31-915e9c0f6c2c\">\n",
              "  <button class=\"colab-df-quickchart\" onclick=\"quickchart('df-d57dca25-94b9-41ab-bd31-915e9c0f6c2c')\"\n",
              "            title=\"Suggest charts\"\n",
              "            style=\"display:none;\">\n",
              "\n",
              "<svg xmlns=\"http://www.w3.org/2000/svg\" height=\"24px\"viewBox=\"0 0 24 24\"\n",
              "     width=\"24px\">\n",
              "    <g>\n",
              "        <path d=\"M19 3H5c-1.1 0-2 .9-2 2v14c0 1.1.9 2 2 2h14c1.1 0 2-.9 2-2V5c0-1.1-.9-2-2-2zM9 17H7v-7h2v7zm4 0h-2V7h2v10zm4 0h-2v-4h2v4z\"/>\n",
              "    </g>\n",
              "</svg>\n",
              "  </button>\n",
              "\n",
              "<style>\n",
              "  .colab-df-quickchart {\n",
              "      --bg-color: #E8F0FE;\n",
              "      --fill-color: #1967D2;\n",
              "      --hover-bg-color: #E2EBFA;\n",
              "      --hover-fill-color: #174EA6;\n",
              "      --disabled-fill-color: #AAA;\n",
              "      --disabled-bg-color: #DDD;\n",
              "  }\n",
              "\n",
              "  [theme=dark] .colab-df-quickchart {\n",
              "      --bg-color: #3B4455;\n",
              "      --fill-color: #D2E3FC;\n",
              "      --hover-bg-color: #434B5C;\n",
              "      --hover-fill-color: #FFFFFF;\n",
              "      --disabled-bg-color: #3B4455;\n",
              "      --disabled-fill-color: #666;\n",
              "  }\n",
              "\n",
              "  .colab-df-quickchart {\n",
              "    background-color: var(--bg-color);\n",
              "    border: none;\n",
              "    border-radius: 50%;\n",
              "    cursor: pointer;\n",
              "    display: none;\n",
              "    fill: var(--fill-color);\n",
              "    height: 32px;\n",
              "    padding: 0;\n",
              "    width: 32px;\n",
              "  }\n",
              "\n",
              "  .colab-df-quickchart:hover {\n",
              "    background-color: var(--hover-bg-color);\n",
              "    box-shadow: 0 1px 2px rgba(60, 64, 67, 0.3), 0 1px 3px 1px rgba(60, 64, 67, 0.15);\n",
              "    fill: var(--button-hover-fill-color);\n",
              "  }\n",
              "\n",
              "  .colab-df-quickchart-complete:disabled,\n",
              "  .colab-df-quickchart-complete:disabled:hover {\n",
              "    background-color: var(--disabled-bg-color);\n",
              "    fill: var(--disabled-fill-color);\n",
              "    box-shadow: none;\n",
              "  }\n",
              "\n",
              "  .colab-df-spinner {\n",
              "    border: 2px solid var(--fill-color);\n",
              "    border-color: transparent;\n",
              "    border-bottom-color: var(--fill-color);\n",
              "    animation:\n",
              "      spin 1s steps(1) infinite;\n",
              "  }\n",
              "\n",
              "  @keyframes spin {\n",
              "    0% {\n",
              "      border-color: transparent;\n",
              "      border-bottom-color: var(--fill-color);\n",
              "      border-left-color: var(--fill-color);\n",
              "    }\n",
              "    20% {\n",
              "      border-color: transparent;\n",
              "      border-left-color: var(--fill-color);\n",
              "      border-top-color: var(--fill-color);\n",
              "    }\n",
              "    30% {\n",
              "      border-color: transparent;\n",
              "      border-left-color: var(--fill-color);\n",
              "      border-top-color: var(--fill-color);\n",
              "      border-right-color: var(--fill-color);\n",
              "    }\n",
              "    40% {\n",
              "      border-color: transparent;\n",
              "      border-right-color: var(--fill-color);\n",
              "      border-top-color: var(--fill-color);\n",
              "    }\n",
              "    60% {\n",
              "      border-color: transparent;\n",
              "      border-right-color: var(--fill-color);\n",
              "    }\n",
              "    80% {\n",
              "      border-color: transparent;\n",
              "      border-right-color: var(--fill-color);\n",
              "      border-bottom-color: var(--fill-color);\n",
              "    }\n",
              "    90% {\n",
              "      border-color: transparent;\n",
              "      border-bottom-color: var(--fill-color);\n",
              "    }\n",
              "  }\n",
              "</style>\n",
              "\n",
              "  <script>\n",
              "    async function quickchart(key) {\n",
              "      const quickchartButtonEl =\n",
              "        document.querySelector('#' + key + ' button');\n",
              "      quickchartButtonEl.disabled = true;  // To prevent multiple clicks.\n",
              "      quickchartButtonEl.classList.add('colab-df-spinner');\n",
              "      try {\n",
              "        const charts = await google.colab.kernel.invokeFunction(\n",
              "            'suggestCharts', [key], {});\n",
              "      } catch (error) {\n",
              "        console.error('Error during call to suggestCharts:', error);\n",
              "      }\n",
              "      quickchartButtonEl.classList.remove('colab-df-spinner');\n",
              "      quickchartButtonEl.classList.add('colab-df-quickchart-complete');\n",
              "    }\n",
              "    (() => {\n",
              "      let quickchartButtonEl =\n",
              "        document.querySelector('#df-d57dca25-94b9-41ab-bd31-915e9c0f6c2c button');\n",
              "      quickchartButtonEl.style.display =\n",
              "        google.colab.kernel.accessAllowed ? 'block' : 'none';\n",
              "    })();\n",
              "  </script>\n",
              "</div>\n",
              "\n",
              "    </div>\n",
              "  </div>\n"
            ],
            "application/vnd.google.colaboratory.intrinsic+json": {
              "type": "dataframe",
              "variable_name": "df_train"
            }
          },
          "metadata": {},
          "execution_count": 8
        }
      ]
    },
    {
      "cell_type": "code",
      "source": [
        "df_features.head()"
      ],
      "metadata": {
        "execution": {
          "iopub.status.busy": "2022-04-22T05:36:11.101457Z",
          "iopub.execute_input": "2022-04-22T05:36:11.101982Z",
          "iopub.status.idle": "2022-04-22T05:36:11.120651Z",
          "shell.execute_reply.started": "2022-04-22T05:36:11.101941Z",
          "shell.execute_reply": "2022-04-22T05:36:11.119887Z"
        },
        "trusted": true,
        "id": "nj-IQmAunA2l",
        "outputId": "814317b4-0477-4609-a9b8-f931736f98b3",
        "colab": {
          "base_uri": "https://localhost:8080/",
          "height": 206
        }
      },
      "execution_count": null,
      "outputs": [
        {
          "output_type": "execute_result",
          "data": {
            "text/plain": [
              "   Store        Date  Temperature  Fuel_Price  MarkDown1  MarkDown2  \\\n",
              "0      1  2010-02-05        42.31       2.572        NaN        NaN   \n",
              "1      1  2010-02-12        38.51       2.548        NaN        NaN   \n",
              "2      1  2010-02-19        39.93       2.514        NaN        NaN   \n",
              "3      1  2010-02-26        46.63       2.561        NaN        NaN   \n",
              "4      1  2010-03-05        46.50       2.625        NaN        NaN   \n",
              "\n",
              "   MarkDown3  MarkDown4  MarkDown5         CPI  Unemployment  IsHoliday  \n",
              "0        NaN        NaN        NaN  211.096358         8.106      False  \n",
              "1        NaN        NaN        NaN  211.242170         8.106       True  \n",
              "2        NaN        NaN        NaN  211.289143         8.106      False  \n",
              "3        NaN        NaN        NaN  211.319643         8.106      False  \n",
              "4        NaN        NaN        NaN  211.350143         8.106      False  "
            ],
            "text/html": [
              "\n",
              "  <div id=\"df-873def7a-adac-4e00-83b5-d6f1a3e3bd9d\" class=\"colab-df-container\">\n",
              "    <div>\n",
              "<style scoped>\n",
              "    .dataframe tbody tr th:only-of-type {\n",
              "        vertical-align: middle;\n",
              "    }\n",
              "\n",
              "    .dataframe tbody tr th {\n",
              "        vertical-align: top;\n",
              "    }\n",
              "\n",
              "    .dataframe thead th {\n",
              "        text-align: right;\n",
              "    }\n",
              "</style>\n",
              "<table border=\"1\" class=\"dataframe\">\n",
              "  <thead>\n",
              "    <tr style=\"text-align: right;\">\n",
              "      <th></th>\n",
              "      <th>Store</th>\n",
              "      <th>Date</th>\n",
              "      <th>Temperature</th>\n",
              "      <th>Fuel_Price</th>\n",
              "      <th>MarkDown1</th>\n",
              "      <th>MarkDown2</th>\n",
              "      <th>MarkDown3</th>\n",
              "      <th>MarkDown4</th>\n",
              "      <th>MarkDown5</th>\n",
              "      <th>CPI</th>\n",
              "      <th>Unemployment</th>\n",
              "      <th>IsHoliday</th>\n",
              "    </tr>\n",
              "  </thead>\n",
              "  <tbody>\n",
              "    <tr>\n",
              "      <th>0</th>\n",
              "      <td>1</td>\n",
              "      <td>2010-02-05</td>\n",
              "      <td>42.31</td>\n",
              "      <td>2.572</td>\n",
              "      <td>NaN</td>\n",
              "      <td>NaN</td>\n",
              "      <td>NaN</td>\n",
              "      <td>NaN</td>\n",
              "      <td>NaN</td>\n",
              "      <td>211.096358</td>\n",
              "      <td>8.106</td>\n",
              "      <td>False</td>\n",
              "    </tr>\n",
              "    <tr>\n",
              "      <th>1</th>\n",
              "      <td>1</td>\n",
              "      <td>2010-02-12</td>\n",
              "      <td>38.51</td>\n",
              "      <td>2.548</td>\n",
              "      <td>NaN</td>\n",
              "      <td>NaN</td>\n",
              "      <td>NaN</td>\n",
              "      <td>NaN</td>\n",
              "      <td>NaN</td>\n",
              "      <td>211.242170</td>\n",
              "      <td>8.106</td>\n",
              "      <td>True</td>\n",
              "    </tr>\n",
              "    <tr>\n",
              "      <th>2</th>\n",
              "      <td>1</td>\n",
              "      <td>2010-02-19</td>\n",
              "      <td>39.93</td>\n",
              "      <td>2.514</td>\n",
              "      <td>NaN</td>\n",
              "      <td>NaN</td>\n",
              "      <td>NaN</td>\n",
              "      <td>NaN</td>\n",
              "      <td>NaN</td>\n",
              "      <td>211.289143</td>\n",
              "      <td>8.106</td>\n",
              "      <td>False</td>\n",
              "    </tr>\n",
              "    <tr>\n",
              "      <th>3</th>\n",
              "      <td>1</td>\n",
              "      <td>2010-02-26</td>\n",
              "      <td>46.63</td>\n",
              "      <td>2.561</td>\n",
              "      <td>NaN</td>\n",
              "      <td>NaN</td>\n",
              "      <td>NaN</td>\n",
              "      <td>NaN</td>\n",
              "      <td>NaN</td>\n",
              "      <td>211.319643</td>\n",
              "      <td>8.106</td>\n",
              "      <td>False</td>\n",
              "    </tr>\n",
              "    <tr>\n",
              "      <th>4</th>\n",
              "      <td>1</td>\n",
              "      <td>2010-03-05</td>\n",
              "      <td>46.50</td>\n",
              "      <td>2.625</td>\n",
              "      <td>NaN</td>\n",
              "      <td>NaN</td>\n",
              "      <td>NaN</td>\n",
              "      <td>NaN</td>\n",
              "      <td>NaN</td>\n",
              "      <td>211.350143</td>\n",
              "      <td>8.106</td>\n",
              "      <td>False</td>\n",
              "    </tr>\n",
              "  </tbody>\n",
              "</table>\n",
              "</div>\n",
              "    <div class=\"colab-df-buttons\">\n",
              "\n",
              "  <div class=\"colab-df-container\">\n",
              "    <button class=\"colab-df-convert\" onclick=\"convertToInteractive('df-873def7a-adac-4e00-83b5-d6f1a3e3bd9d')\"\n",
              "            title=\"Convert this dataframe to an interactive table.\"\n",
              "            style=\"display:none;\">\n",
              "\n",
              "  <svg xmlns=\"http://www.w3.org/2000/svg\" height=\"24px\" viewBox=\"0 -960 960 960\">\n",
              "    <path d=\"M120-120v-720h720v720H120Zm60-500h600v-160H180v160Zm220 220h160v-160H400v160Zm0 220h160v-160H400v160ZM180-400h160v-160H180v160Zm440 0h160v-160H620v160ZM180-180h160v-160H180v160Zm440 0h160v-160H620v160Z\"/>\n",
              "  </svg>\n",
              "    </button>\n",
              "\n",
              "  <style>\n",
              "    .colab-df-container {\n",
              "      display:flex;\n",
              "      gap: 12px;\n",
              "    }\n",
              "\n",
              "    .colab-df-convert {\n",
              "      background-color: #E8F0FE;\n",
              "      border: none;\n",
              "      border-radius: 50%;\n",
              "      cursor: pointer;\n",
              "      display: none;\n",
              "      fill: #1967D2;\n",
              "      height: 32px;\n",
              "      padding: 0 0 0 0;\n",
              "      width: 32px;\n",
              "    }\n",
              "\n",
              "    .colab-df-convert:hover {\n",
              "      background-color: #E2EBFA;\n",
              "      box-shadow: 0px 1px 2px rgba(60, 64, 67, 0.3), 0px 1px 3px 1px rgba(60, 64, 67, 0.15);\n",
              "      fill: #174EA6;\n",
              "    }\n",
              "\n",
              "    .colab-df-buttons div {\n",
              "      margin-bottom: 4px;\n",
              "    }\n",
              "\n",
              "    [theme=dark] .colab-df-convert {\n",
              "      background-color: #3B4455;\n",
              "      fill: #D2E3FC;\n",
              "    }\n",
              "\n",
              "    [theme=dark] .colab-df-convert:hover {\n",
              "      background-color: #434B5C;\n",
              "      box-shadow: 0px 1px 3px 1px rgba(0, 0, 0, 0.15);\n",
              "      filter: drop-shadow(0px 1px 2px rgba(0, 0, 0, 0.3));\n",
              "      fill: #FFFFFF;\n",
              "    }\n",
              "  </style>\n",
              "\n",
              "    <script>\n",
              "      const buttonEl =\n",
              "        document.querySelector('#df-873def7a-adac-4e00-83b5-d6f1a3e3bd9d button.colab-df-convert');\n",
              "      buttonEl.style.display =\n",
              "        google.colab.kernel.accessAllowed ? 'block' : 'none';\n",
              "\n",
              "      async function convertToInteractive(key) {\n",
              "        const element = document.querySelector('#df-873def7a-adac-4e00-83b5-d6f1a3e3bd9d');\n",
              "        const dataTable =\n",
              "          await google.colab.kernel.invokeFunction('convertToInteractive',\n",
              "                                                    [key], {});\n",
              "        if (!dataTable) return;\n",
              "\n",
              "        const docLinkHtml = 'Like what you see? Visit the ' +\n",
              "          '<a target=\"_blank\" href=https://colab.research.google.com/notebooks/data_table.ipynb>data table notebook</a>'\n",
              "          + ' to learn more about interactive tables.';\n",
              "        element.innerHTML = '';\n",
              "        dataTable['output_type'] = 'display_data';\n",
              "        await google.colab.output.renderOutput(dataTable, element);\n",
              "        const docLink = document.createElement('div');\n",
              "        docLink.innerHTML = docLinkHtml;\n",
              "        element.appendChild(docLink);\n",
              "      }\n",
              "    </script>\n",
              "  </div>\n",
              "\n",
              "\n",
              "<div id=\"df-b34ca5c5-877b-4381-9e96-6322a46a1a92\">\n",
              "  <button class=\"colab-df-quickchart\" onclick=\"quickchart('df-b34ca5c5-877b-4381-9e96-6322a46a1a92')\"\n",
              "            title=\"Suggest charts\"\n",
              "            style=\"display:none;\">\n",
              "\n",
              "<svg xmlns=\"http://www.w3.org/2000/svg\" height=\"24px\"viewBox=\"0 0 24 24\"\n",
              "     width=\"24px\">\n",
              "    <g>\n",
              "        <path d=\"M19 3H5c-1.1 0-2 .9-2 2v14c0 1.1.9 2 2 2h14c1.1 0 2-.9 2-2V5c0-1.1-.9-2-2-2zM9 17H7v-7h2v7zm4 0h-2V7h2v10zm4 0h-2v-4h2v4z\"/>\n",
              "    </g>\n",
              "</svg>\n",
              "  </button>\n",
              "\n",
              "<style>\n",
              "  .colab-df-quickchart {\n",
              "      --bg-color: #E8F0FE;\n",
              "      --fill-color: #1967D2;\n",
              "      --hover-bg-color: #E2EBFA;\n",
              "      --hover-fill-color: #174EA6;\n",
              "      --disabled-fill-color: #AAA;\n",
              "      --disabled-bg-color: #DDD;\n",
              "  }\n",
              "\n",
              "  [theme=dark] .colab-df-quickchart {\n",
              "      --bg-color: #3B4455;\n",
              "      --fill-color: #D2E3FC;\n",
              "      --hover-bg-color: #434B5C;\n",
              "      --hover-fill-color: #FFFFFF;\n",
              "      --disabled-bg-color: #3B4455;\n",
              "      --disabled-fill-color: #666;\n",
              "  }\n",
              "\n",
              "  .colab-df-quickchart {\n",
              "    background-color: var(--bg-color);\n",
              "    border: none;\n",
              "    border-radius: 50%;\n",
              "    cursor: pointer;\n",
              "    display: none;\n",
              "    fill: var(--fill-color);\n",
              "    height: 32px;\n",
              "    padding: 0;\n",
              "    width: 32px;\n",
              "  }\n",
              "\n",
              "  .colab-df-quickchart:hover {\n",
              "    background-color: var(--hover-bg-color);\n",
              "    box-shadow: 0 1px 2px rgba(60, 64, 67, 0.3), 0 1px 3px 1px rgba(60, 64, 67, 0.15);\n",
              "    fill: var(--button-hover-fill-color);\n",
              "  }\n",
              "\n",
              "  .colab-df-quickchart-complete:disabled,\n",
              "  .colab-df-quickchart-complete:disabled:hover {\n",
              "    background-color: var(--disabled-bg-color);\n",
              "    fill: var(--disabled-fill-color);\n",
              "    box-shadow: none;\n",
              "  }\n",
              "\n",
              "  .colab-df-spinner {\n",
              "    border: 2px solid var(--fill-color);\n",
              "    border-color: transparent;\n",
              "    border-bottom-color: var(--fill-color);\n",
              "    animation:\n",
              "      spin 1s steps(1) infinite;\n",
              "  }\n",
              "\n",
              "  @keyframes spin {\n",
              "    0% {\n",
              "      border-color: transparent;\n",
              "      border-bottom-color: var(--fill-color);\n",
              "      border-left-color: var(--fill-color);\n",
              "    }\n",
              "    20% {\n",
              "      border-color: transparent;\n",
              "      border-left-color: var(--fill-color);\n",
              "      border-top-color: var(--fill-color);\n",
              "    }\n",
              "    30% {\n",
              "      border-color: transparent;\n",
              "      border-left-color: var(--fill-color);\n",
              "      border-top-color: var(--fill-color);\n",
              "      border-right-color: var(--fill-color);\n",
              "    }\n",
              "    40% {\n",
              "      border-color: transparent;\n",
              "      border-right-color: var(--fill-color);\n",
              "      border-top-color: var(--fill-color);\n",
              "    }\n",
              "    60% {\n",
              "      border-color: transparent;\n",
              "      border-right-color: var(--fill-color);\n",
              "    }\n",
              "    80% {\n",
              "      border-color: transparent;\n",
              "      border-right-color: var(--fill-color);\n",
              "      border-bottom-color: var(--fill-color);\n",
              "    }\n",
              "    90% {\n",
              "      border-color: transparent;\n",
              "      border-bottom-color: var(--fill-color);\n",
              "    }\n",
              "  }\n",
              "</style>\n",
              "\n",
              "  <script>\n",
              "    async function quickchart(key) {\n",
              "      const quickchartButtonEl =\n",
              "        document.querySelector('#' + key + ' button');\n",
              "      quickchartButtonEl.disabled = true;  // To prevent multiple clicks.\n",
              "      quickchartButtonEl.classList.add('colab-df-spinner');\n",
              "      try {\n",
              "        const charts = await google.colab.kernel.invokeFunction(\n",
              "            'suggestCharts', [key], {});\n",
              "      } catch (error) {\n",
              "        console.error('Error during call to suggestCharts:', error);\n",
              "      }\n",
              "      quickchartButtonEl.classList.remove('colab-df-spinner');\n",
              "      quickchartButtonEl.classList.add('colab-df-quickchart-complete');\n",
              "    }\n",
              "    (() => {\n",
              "      let quickchartButtonEl =\n",
              "        document.querySelector('#df-b34ca5c5-877b-4381-9e96-6322a46a1a92 button');\n",
              "      quickchartButtonEl.style.display =\n",
              "        google.colab.kernel.accessAllowed ? 'block' : 'none';\n",
              "    })();\n",
              "  </script>\n",
              "</div>\n",
              "\n",
              "    </div>\n",
              "  </div>\n"
            ],
            "application/vnd.google.colaboratory.intrinsic+json": {
              "type": "dataframe",
              "variable_name": "df_features",
              "summary": "{\n  \"name\": \"df_features\",\n  \"rows\": 8190,\n  \"fields\": [\n    {\n      \"column\": \"Store\",\n      \"properties\": {\n        \"dtype\": \"number\",\n        \"std\": 12,\n        \"min\": 1,\n        \"max\": 45,\n        \"num_unique_values\": 45,\n        \"samples\": [\n          40,\n          26,\n          27\n        ],\n        \"semantic_type\": \"\",\n        \"description\": \"\"\n      }\n    },\n    {\n      \"column\": \"Date\",\n      \"properties\": {\n        \"dtype\": \"object\",\n        \"num_unique_values\": 182,\n        \"samples\": [\n          \"2010-06-18\",\n          \"2010-11-26\",\n          \"2013-01-18\"\n        ],\n        \"semantic_type\": \"\",\n        \"description\": \"\"\n      }\n    },\n    {\n      \"column\": \"Temperature\",\n      \"properties\": {\n        \"dtype\": \"number\",\n        \"std\": 18.67860684890715,\n        \"min\": -7.29,\n        \"max\": 101.95,\n        \"num_unique_values\": 4178,\n        \"samples\": [\n          83.8,\n          31.48,\n          79.14\n        ],\n        \"semantic_type\": \"\",\n        \"description\": \"\"\n      }\n    },\n    {\n      \"column\": \"Fuel_Price\",\n      \"properties\": {\n        \"dtype\": \"number\",\n        \"std\": 0.43133657110071344,\n        \"min\": 2.472,\n        \"max\": 4.468,\n        \"num_unique_values\": 1011,\n        \"samples\": [\n          2.782,\n          2.936,\n          3.282\n        ],\n        \"semantic_type\": \"\",\n        \"description\": \"\"\n      }\n    },\n    {\n      \"column\": \"MarkDown1\",\n      \"properties\": {\n        \"dtype\": \"number\",\n        \"std\": 9262.74744752368,\n        \"min\": -2781.45,\n        \"max\": 103184.98,\n        \"num_unique_values\": 4023,\n        \"samples\": [\n          9273.46,\n          7024.93,\n          8569.82\n        ],\n        \"semantic_type\": \"\",\n        \"description\": \"\"\n      }\n    },\n    {\n      \"column\": \"MarkDown2\",\n      \"properties\": {\n        \"dtype\": \"number\",\n        \"std\": 8793.58301550764,\n        \"min\": -265.76,\n        \"max\": 104519.54,\n        \"num_unique_values\": 2715,\n        \"samples\": [\n          252.8,\n          2675.46,\n          2347.13\n        ],\n        \"semantic_type\": \"\",\n        \"description\": \"\"\n      }\n    },\n    {\n      \"column\": \"MarkDown3\",\n      \"properties\": {\n        \"dtype\": \"number\",\n        \"std\": 11276.462208022936,\n        \"min\": -179.26,\n        \"max\": 149483.31,\n        \"num_unique_values\": 2885,\n        \"samples\": [\n          7.35,\n          182.74,\n          163.27\n        ],\n        \"semantic_type\": \"\",\n        \"description\": \"\"\n      }\n    },\n    {\n      \"column\": \"MarkDown4\",\n      \"properties\": {\n        \"dtype\": \"number\",\n        \"std\": 6792.329861347649,\n        \"min\": 0.22,\n        \"max\": 67474.85,\n        \"num_unique_values\": 3405,\n        \"samples\": [\n          113.37,\n          1270.8,\n          24079.57\n        ],\n        \"semantic_type\": \"\",\n        \"description\": \"\"\n      }\n    },\n    {\n      \"column\": \"MarkDown5\",\n      \"properties\": {\n        \"dtype\": \"number\",\n        \"std\": 13086.690278200194,\n        \"min\": -185.17,\n        \"max\": 771448.1,\n        \"num_unique_values\": 4045,\n        \"samples\": [\n          3666.08,\n          3479.8,\n          4958.33\n        ],\n        \"semantic_type\": \"\",\n        \"description\": \"\"\n      }\n    },\n    {\n      \"column\": \"CPI\",\n      \"properties\": {\n        \"dtype\": \"number\",\n        \"std\": 39.73834609860848,\n        \"min\": 126.064,\n        \"max\": 228.9764563,\n        \"num_unique_values\": 2505,\n        \"samples\": [\n          139.1226129,\n          216.0282356,\n          210.0451024\n        ],\n        \"semantic_type\": \"\",\n        \"description\": \"\"\n      }\n    },\n    {\n      \"column\": \"Unemployment\",\n      \"properties\": {\n        \"dtype\": \"number\",\n        \"std\": 1.8772585939174304,\n        \"min\": 3.684,\n        \"max\": 14.313,\n        \"num_unique_values\": 404,\n        \"samples\": [\n          7.259,\n          5.213,\n          6.901\n        ],\n        \"semantic_type\": \"\",\n        \"description\": \"\"\n      }\n    },\n    {\n      \"column\": \"IsHoliday\",\n      \"properties\": {\n        \"dtype\": \"boolean\",\n        \"num_unique_values\": 2,\n        \"samples\": [\n          true,\n          false\n        ],\n        \"semantic_type\": \"\",\n        \"description\": \"\"\n      }\n    }\n  ]\n}"
            }
          },
          "metadata": {},
          "execution_count": 9
        }
      ]
    },
    {
      "cell_type": "code",
      "source": [
        "# merging 3 different sets\n",
        "df = df_train.merge(df_features, on=['Store', 'Date'], how='inner').merge(df_store, on=['Store'], how='inner')\n",
        "df.head(5)"
      ],
      "metadata": {
        "execution": {
          "iopub.status.busy": "2022-04-22T05:36:11.122285Z",
          "iopub.execute_input": "2022-04-22T05:36:11.122629Z",
          "iopub.status.idle": "2022-04-22T05:36:11.332406Z",
          "shell.execute_reply.started": "2022-04-22T05:36:11.122589Z",
          "shell.execute_reply": "2022-04-22T05:36:11.331644Z"
        },
        "trusted": true,
        "id": "HiyJO3BUnA2l",
        "outputId": "a04cca87-a83c-4278-e8e2-1e8b6cd44a73",
        "colab": {
          "base_uri": "https://localhost:8080/",
          "height": 313
        }
      },
      "execution_count": null,
      "outputs": [
        {
          "output_type": "execute_result",
          "data": {
            "text/plain": [
              "   Store  Dept        Date  Weekly_Sales  IsHoliday_x  Temperature  \\\n",
              "0      1     1  2010-02-05      24924.50        False        42.31   \n",
              "1      1     2  2010-02-05      50605.27        False        42.31   \n",
              "2      1     3  2010-02-05      13740.12        False        42.31   \n",
              "3      1     4  2010-02-05      39954.04        False        42.31   \n",
              "4      1     5  2010-02-05      32229.38        False        42.31   \n",
              "\n",
              "   Fuel_Price  MarkDown1  MarkDown2  MarkDown3  MarkDown4  MarkDown5  \\\n",
              "0       2.572        NaN        NaN        NaN        NaN        NaN   \n",
              "1       2.572        NaN        NaN        NaN        NaN        NaN   \n",
              "2       2.572        NaN        NaN        NaN        NaN        NaN   \n",
              "3       2.572        NaN        NaN        NaN        NaN        NaN   \n",
              "4       2.572        NaN        NaN        NaN        NaN        NaN   \n",
              "\n",
              "          CPI  Unemployment  IsHoliday_y Type    Size  \n",
              "0  211.096358         8.106        False    A  151315  \n",
              "1  211.096358         8.106        False    A  151315  \n",
              "2  211.096358         8.106        False    A  151315  \n",
              "3  211.096358         8.106        False    A  151315  \n",
              "4  211.096358         8.106        False    A  151315  "
            ],
            "text/html": [
              "\n",
              "  <div id=\"df-ac9f944f-f056-447a-b9bb-2d62dbef527e\" class=\"colab-df-container\">\n",
              "    <div>\n",
              "<style scoped>\n",
              "    .dataframe tbody tr th:only-of-type {\n",
              "        vertical-align: middle;\n",
              "    }\n",
              "\n",
              "    .dataframe tbody tr th {\n",
              "        vertical-align: top;\n",
              "    }\n",
              "\n",
              "    .dataframe thead th {\n",
              "        text-align: right;\n",
              "    }\n",
              "</style>\n",
              "<table border=\"1\" class=\"dataframe\">\n",
              "  <thead>\n",
              "    <tr style=\"text-align: right;\">\n",
              "      <th></th>\n",
              "      <th>Store</th>\n",
              "      <th>Dept</th>\n",
              "      <th>Date</th>\n",
              "      <th>Weekly_Sales</th>\n",
              "      <th>IsHoliday_x</th>\n",
              "      <th>Temperature</th>\n",
              "      <th>Fuel_Price</th>\n",
              "      <th>MarkDown1</th>\n",
              "      <th>MarkDown2</th>\n",
              "      <th>MarkDown3</th>\n",
              "      <th>MarkDown4</th>\n",
              "      <th>MarkDown5</th>\n",
              "      <th>CPI</th>\n",
              "      <th>Unemployment</th>\n",
              "      <th>IsHoliday_y</th>\n",
              "      <th>Type</th>\n",
              "      <th>Size</th>\n",
              "    </tr>\n",
              "  </thead>\n",
              "  <tbody>\n",
              "    <tr>\n",
              "      <th>0</th>\n",
              "      <td>1</td>\n",
              "      <td>1</td>\n",
              "      <td>2010-02-05</td>\n",
              "      <td>24924.50</td>\n",
              "      <td>False</td>\n",
              "      <td>42.31</td>\n",
              "      <td>2.572</td>\n",
              "      <td>NaN</td>\n",
              "      <td>NaN</td>\n",
              "      <td>NaN</td>\n",
              "      <td>NaN</td>\n",
              "      <td>NaN</td>\n",
              "      <td>211.096358</td>\n",
              "      <td>8.106</td>\n",
              "      <td>False</td>\n",
              "      <td>A</td>\n",
              "      <td>151315</td>\n",
              "    </tr>\n",
              "    <tr>\n",
              "      <th>1</th>\n",
              "      <td>1</td>\n",
              "      <td>2</td>\n",
              "      <td>2010-02-05</td>\n",
              "      <td>50605.27</td>\n",
              "      <td>False</td>\n",
              "      <td>42.31</td>\n",
              "      <td>2.572</td>\n",
              "      <td>NaN</td>\n",
              "      <td>NaN</td>\n",
              "      <td>NaN</td>\n",
              "      <td>NaN</td>\n",
              "      <td>NaN</td>\n",
              "      <td>211.096358</td>\n",
              "      <td>8.106</td>\n",
              "      <td>False</td>\n",
              "      <td>A</td>\n",
              "      <td>151315</td>\n",
              "    </tr>\n",
              "    <tr>\n",
              "      <th>2</th>\n",
              "      <td>1</td>\n",
              "      <td>3</td>\n",
              "      <td>2010-02-05</td>\n",
              "      <td>13740.12</td>\n",
              "      <td>False</td>\n",
              "      <td>42.31</td>\n",
              "      <td>2.572</td>\n",
              "      <td>NaN</td>\n",
              "      <td>NaN</td>\n",
              "      <td>NaN</td>\n",
              "      <td>NaN</td>\n",
              "      <td>NaN</td>\n",
              "      <td>211.096358</td>\n",
              "      <td>8.106</td>\n",
              "      <td>False</td>\n",
              "      <td>A</td>\n",
              "      <td>151315</td>\n",
              "    </tr>\n",
              "    <tr>\n",
              "      <th>3</th>\n",
              "      <td>1</td>\n",
              "      <td>4</td>\n",
              "      <td>2010-02-05</td>\n",
              "      <td>39954.04</td>\n",
              "      <td>False</td>\n",
              "      <td>42.31</td>\n",
              "      <td>2.572</td>\n",
              "      <td>NaN</td>\n",
              "      <td>NaN</td>\n",
              "      <td>NaN</td>\n",
              "      <td>NaN</td>\n",
              "      <td>NaN</td>\n",
              "      <td>211.096358</td>\n",
              "      <td>8.106</td>\n",
              "      <td>False</td>\n",
              "      <td>A</td>\n",
              "      <td>151315</td>\n",
              "    </tr>\n",
              "    <tr>\n",
              "      <th>4</th>\n",
              "      <td>1</td>\n",
              "      <td>5</td>\n",
              "      <td>2010-02-05</td>\n",
              "      <td>32229.38</td>\n",
              "      <td>False</td>\n",
              "      <td>42.31</td>\n",
              "      <td>2.572</td>\n",
              "      <td>NaN</td>\n",
              "      <td>NaN</td>\n",
              "      <td>NaN</td>\n",
              "      <td>NaN</td>\n",
              "      <td>NaN</td>\n",
              "      <td>211.096358</td>\n",
              "      <td>8.106</td>\n",
              "      <td>False</td>\n",
              "      <td>A</td>\n",
              "      <td>151315</td>\n",
              "    </tr>\n",
              "  </tbody>\n",
              "</table>\n",
              "</div>\n",
              "    <div class=\"colab-df-buttons\">\n",
              "\n",
              "  <div class=\"colab-df-container\">\n",
              "    <button class=\"colab-df-convert\" onclick=\"convertToInteractive('df-ac9f944f-f056-447a-b9bb-2d62dbef527e')\"\n",
              "            title=\"Convert this dataframe to an interactive table.\"\n",
              "            style=\"display:none;\">\n",
              "\n",
              "  <svg xmlns=\"http://www.w3.org/2000/svg\" height=\"24px\" viewBox=\"0 -960 960 960\">\n",
              "    <path d=\"M120-120v-720h720v720H120Zm60-500h600v-160H180v160Zm220 220h160v-160H400v160Zm0 220h160v-160H400v160ZM180-400h160v-160H180v160Zm440 0h160v-160H620v160ZM180-180h160v-160H180v160Zm440 0h160v-160H620v160Z\"/>\n",
              "  </svg>\n",
              "    </button>\n",
              "\n",
              "  <style>\n",
              "    .colab-df-container {\n",
              "      display:flex;\n",
              "      gap: 12px;\n",
              "    }\n",
              "\n",
              "    .colab-df-convert {\n",
              "      background-color: #E8F0FE;\n",
              "      border: none;\n",
              "      border-radius: 50%;\n",
              "      cursor: pointer;\n",
              "      display: none;\n",
              "      fill: #1967D2;\n",
              "      height: 32px;\n",
              "      padding: 0 0 0 0;\n",
              "      width: 32px;\n",
              "    }\n",
              "\n",
              "    .colab-df-convert:hover {\n",
              "      background-color: #E2EBFA;\n",
              "      box-shadow: 0px 1px 2px rgba(60, 64, 67, 0.3), 0px 1px 3px 1px rgba(60, 64, 67, 0.15);\n",
              "      fill: #174EA6;\n",
              "    }\n",
              "\n",
              "    .colab-df-buttons div {\n",
              "      margin-bottom: 4px;\n",
              "    }\n",
              "\n",
              "    [theme=dark] .colab-df-convert {\n",
              "      background-color: #3B4455;\n",
              "      fill: #D2E3FC;\n",
              "    }\n",
              "\n",
              "    [theme=dark] .colab-df-convert:hover {\n",
              "      background-color: #434B5C;\n",
              "      box-shadow: 0px 1px 3px 1px rgba(0, 0, 0, 0.15);\n",
              "      filter: drop-shadow(0px 1px 2px rgba(0, 0, 0, 0.3));\n",
              "      fill: #FFFFFF;\n",
              "    }\n",
              "  </style>\n",
              "\n",
              "    <script>\n",
              "      const buttonEl =\n",
              "        document.querySelector('#df-ac9f944f-f056-447a-b9bb-2d62dbef527e button.colab-df-convert');\n",
              "      buttonEl.style.display =\n",
              "        google.colab.kernel.accessAllowed ? 'block' : 'none';\n",
              "\n",
              "      async function convertToInteractive(key) {\n",
              "        const element = document.querySelector('#df-ac9f944f-f056-447a-b9bb-2d62dbef527e');\n",
              "        const dataTable =\n",
              "          await google.colab.kernel.invokeFunction('convertToInteractive',\n",
              "                                                    [key], {});\n",
              "        if (!dataTable) return;\n",
              "\n",
              "        const docLinkHtml = 'Like what you see? Visit the ' +\n",
              "          '<a target=\"_blank\" href=https://colab.research.google.com/notebooks/data_table.ipynb>data table notebook</a>'\n",
              "          + ' to learn more about interactive tables.';\n",
              "        element.innerHTML = '';\n",
              "        dataTable['output_type'] = 'display_data';\n",
              "        await google.colab.output.renderOutput(dataTable, element);\n",
              "        const docLink = document.createElement('div');\n",
              "        docLink.innerHTML = docLinkHtml;\n",
              "        element.appendChild(docLink);\n",
              "      }\n",
              "    </script>\n",
              "  </div>\n",
              "\n",
              "\n",
              "<div id=\"df-b7117c89-6d34-4a80-87dd-f2de0132c45c\">\n",
              "  <button class=\"colab-df-quickchart\" onclick=\"quickchart('df-b7117c89-6d34-4a80-87dd-f2de0132c45c')\"\n",
              "            title=\"Suggest charts\"\n",
              "            style=\"display:none;\">\n",
              "\n",
              "<svg xmlns=\"http://www.w3.org/2000/svg\" height=\"24px\"viewBox=\"0 0 24 24\"\n",
              "     width=\"24px\">\n",
              "    <g>\n",
              "        <path d=\"M19 3H5c-1.1 0-2 .9-2 2v14c0 1.1.9 2 2 2h14c1.1 0 2-.9 2-2V5c0-1.1-.9-2-2-2zM9 17H7v-7h2v7zm4 0h-2V7h2v10zm4 0h-2v-4h2v4z\"/>\n",
              "    </g>\n",
              "</svg>\n",
              "  </button>\n",
              "\n",
              "<style>\n",
              "  .colab-df-quickchart {\n",
              "      --bg-color: #E8F0FE;\n",
              "      --fill-color: #1967D2;\n",
              "      --hover-bg-color: #E2EBFA;\n",
              "      --hover-fill-color: #174EA6;\n",
              "      --disabled-fill-color: #AAA;\n",
              "      --disabled-bg-color: #DDD;\n",
              "  }\n",
              "\n",
              "  [theme=dark] .colab-df-quickchart {\n",
              "      --bg-color: #3B4455;\n",
              "      --fill-color: #D2E3FC;\n",
              "      --hover-bg-color: #434B5C;\n",
              "      --hover-fill-color: #FFFFFF;\n",
              "      --disabled-bg-color: #3B4455;\n",
              "      --disabled-fill-color: #666;\n",
              "  }\n",
              "\n",
              "  .colab-df-quickchart {\n",
              "    background-color: var(--bg-color);\n",
              "    border: none;\n",
              "    border-radius: 50%;\n",
              "    cursor: pointer;\n",
              "    display: none;\n",
              "    fill: var(--fill-color);\n",
              "    height: 32px;\n",
              "    padding: 0;\n",
              "    width: 32px;\n",
              "  }\n",
              "\n",
              "  .colab-df-quickchart:hover {\n",
              "    background-color: var(--hover-bg-color);\n",
              "    box-shadow: 0 1px 2px rgba(60, 64, 67, 0.3), 0 1px 3px 1px rgba(60, 64, 67, 0.15);\n",
              "    fill: var(--button-hover-fill-color);\n",
              "  }\n",
              "\n",
              "  .colab-df-quickchart-complete:disabled,\n",
              "  .colab-df-quickchart-complete:disabled:hover {\n",
              "    background-color: var(--disabled-bg-color);\n",
              "    fill: var(--disabled-fill-color);\n",
              "    box-shadow: none;\n",
              "  }\n",
              "\n",
              "  .colab-df-spinner {\n",
              "    border: 2px solid var(--fill-color);\n",
              "    border-color: transparent;\n",
              "    border-bottom-color: var(--fill-color);\n",
              "    animation:\n",
              "      spin 1s steps(1) infinite;\n",
              "  }\n",
              "\n",
              "  @keyframes spin {\n",
              "    0% {\n",
              "      border-color: transparent;\n",
              "      border-bottom-color: var(--fill-color);\n",
              "      border-left-color: var(--fill-color);\n",
              "    }\n",
              "    20% {\n",
              "      border-color: transparent;\n",
              "      border-left-color: var(--fill-color);\n",
              "      border-top-color: var(--fill-color);\n",
              "    }\n",
              "    30% {\n",
              "      border-color: transparent;\n",
              "      border-left-color: var(--fill-color);\n",
              "      border-top-color: var(--fill-color);\n",
              "      border-right-color: var(--fill-color);\n",
              "    }\n",
              "    40% {\n",
              "      border-color: transparent;\n",
              "      border-right-color: var(--fill-color);\n",
              "      border-top-color: var(--fill-color);\n",
              "    }\n",
              "    60% {\n",
              "      border-color: transparent;\n",
              "      border-right-color: var(--fill-color);\n",
              "    }\n",
              "    80% {\n",
              "      border-color: transparent;\n",
              "      border-right-color: var(--fill-color);\n",
              "      border-bottom-color: var(--fill-color);\n",
              "    }\n",
              "    90% {\n",
              "      border-color: transparent;\n",
              "      border-bottom-color: var(--fill-color);\n",
              "    }\n",
              "  }\n",
              "</style>\n",
              "\n",
              "  <script>\n",
              "    async function quickchart(key) {\n",
              "      const quickchartButtonEl =\n",
              "        document.querySelector('#' + key + ' button');\n",
              "      quickchartButtonEl.disabled = true;  // To prevent multiple clicks.\n",
              "      quickchartButtonEl.classList.add('colab-df-spinner');\n",
              "      try {\n",
              "        const charts = await google.colab.kernel.invokeFunction(\n",
              "            'suggestCharts', [key], {});\n",
              "      } catch (error) {\n",
              "        console.error('Error during call to suggestCharts:', error);\n",
              "      }\n",
              "      quickchartButtonEl.classList.remove('colab-df-spinner');\n",
              "      quickchartButtonEl.classList.add('colab-df-quickchart-complete');\n",
              "    }\n",
              "    (() => {\n",
              "      let quickchartButtonEl =\n",
              "        document.querySelector('#df-b7117c89-6d34-4a80-87dd-f2de0132c45c button');\n",
              "      quickchartButtonEl.style.display =\n",
              "        google.colab.kernel.accessAllowed ? 'block' : 'none';\n",
              "    })();\n",
              "  </script>\n",
              "</div>\n",
              "\n",
              "    </div>\n",
              "  </div>\n"
            ],
            "application/vnd.google.colaboratory.intrinsic+json": {
              "type": "dataframe",
              "variable_name": "df"
            }
          },
          "metadata": {},
          "execution_count": 10
        }
      ]
    },
    {
      "cell_type": "code",
      "source": [
        "df.drop(['IsHoliday_y'], axis=1,inplace=True) # removing dublicated column"
      ],
      "metadata": {
        "execution": {
          "iopub.status.busy": "2022-04-22T05:36:11.333862Z",
          "iopub.execute_input": "2022-04-22T05:36:11.334295Z",
          "iopub.status.idle": "2022-04-22T05:36:11.402002Z",
          "shell.execute_reply.started": "2022-04-22T05:36:11.334254Z",
          "shell.execute_reply": "2022-04-22T05:36:11.401167Z"
        },
        "trusted": true,
        "id": "sYhZbf3lnA2m"
      },
      "execution_count": null,
      "outputs": []
    },
    {
      "cell_type": "code",
      "source": [
        "df.rename(columns={'IsHoliday_x':'IsHoliday'},inplace=True) # rename the column"
      ],
      "metadata": {
        "execution": {
          "iopub.status.busy": "2022-04-22T05:36:11.40342Z",
          "iopub.execute_input": "2022-04-22T05:36:11.403785Z",
          "iopub.status.idle": "2022-04-22T05:36:11.409174Z",
          "shell.execute_reply.started": "2022-04-22T05:36:11.403745Z",
          "shell.execute_reply": "2022-04-22T05:36:11.408374Z"
        },
        "trusted": true,
        "id": "XZR0mF4onA2m"
      },
      "execution_count": null,
      "outputs": []
    },
    {
      "cell_type": "code",
      "source": [
        "df.head() # last ready data set"
      ],
      "metadata": {
        "scrolled": true,
        "execution": {
          "iopub.status.busy": "2022-04-22T05:36:11.410847Z",
          "iopub.execute_input": "2022-04-22T05:36:11.411122Z",
          "iopub.status.idle": "2022-04-22T05:36:11.436105Z",
          "shell.execute_reply.started": "2022-04-22T05:36:11.411085Z",
          "shell.execute_reply": "2022-04-22T05:36:11.435376Z"
        },
        "trusted": true,
        "id": "ccitAFtnnA2m"
      },
      "execution_count": null,
      "outputs": []
    },
    {
      "cell_type": "code",
      "source": [
        "df.shape"
      ],
      "metadata": {
        "execution": {
          "iopub.status.busy": "2022-04-22T05:36:11.437578Z",
          "iopub.execute_input": "2022-04-22T05:36:11.437964Z",
          "iopub.status.idle": "2022-04-22T05:36:11.446768Z",
          "shell.execute_reply.started": "2022-04-22T05:36:11.437923Z",
          "shell.execute_reply": "2022-04-22T05:36:11.445799Z"
        },
        "trusted": true,
        "id": "wmcc8OntnA2m"
      },
      "execution_count": null,
      "outputs": []
    },
    {
      "cell_type": "markdown",
      "source": [
        "# Store & Department Numbers"
      ],
      "metadata": {
        "id": "w4bnTy6xnA2m"
      }
    },
    {
      "cell_type": "code",
      "source": [
        "df['Store'].nunique() # number of different values"
      ],
      "metadata": {
        "execution": {
          "iopub.status.busy": "2022-04-22T05:36:11.452107Z",
          "iopub.execute_input": "2022-04-22T05:36:11.452321Z",
          "iopub.status.idle": "2022-04-22T05:36:11.462457Z",
          "shell.execute_reply.started": "2022-04-22T05:36:11.452289Z",
          "shell.execute_reply": "2022-04-22T05:36:11.461605Z"
        },
        "trusted": true,
        "id": "SoS9xNAonA2m"
      },
      "execution_count": null,
      "outputs": []
    },
    {
      "cell_type": "code",
      "source": [
        "df['Dept'].nunique() # number of different values"
      ],
      "metadata": {
        "scrolled": true,
        "execution": {
          "iopub.status.busy": "2022-04-22T05:36:11.464091Z",
          "iopub.execute_input": "2022-04-22T05:36:11.464598Z",
          "iopub.status.idle": "2022-04-22T05:36:11.474779Z",
          "shell.execute_reply.started": "2022-04-22T05:36:11.46456Z",
          "shell.execute_reply": "2022-04-22T05:36:11.473795Z"
        },
        "trusted": true,
        "id": "pFSHNGQ3nA2m"
      },
      "execution_count": null,
      "outputs": []
    },
    {
      "cell_type": "markdown",
      "source": [
        "Now, I will look at the average weekly sales for each store and each department to see if there is any weird values or not. There are 45 stores and 81 departments for stores."
      ],
      "metadata": {
        "id": "NOgIR6P4nA2n"
      }
    },
    {
      "cell_type": "code",
      "source": [
        "store_dept_table = pd.pivot_table(df, index='Store', columns='Dept',\n",
        "                                  values='Weekly_Sales', aggfunc=np.mean)\n",
        "display(store_dept_table)"
      ],
      "metadata": {
        "execution": {
          "iopub.status.busy": "2022-04-22T05:36:11.476222Z",
          "iopub.execute_input": "2022-04-22T05:36:11.476515Z",
          "iopub.status.idle": "2022-04-22T05:36:11.705763Z",
          "shell.execute_reply.started": "2022-04-22T05:36:11.476477Z",
          "shell.execute_reply": "2022-04-22T05:36:11.705034Z"
        },
        "trusted": true,
        "id": "9TJziyRrnA2n"
      },
      "execution_count": null,
      "outputs": []
    },
    {
      "cell_type": "markdown",
      "source": [
        "Store numbers begin from 1 to 45, department numbers are from 1 to 99, but some numbers are missing such as there is no 88 or 89 etc. Total number of departments is 81.\n",
        "\n",
        "From the pivot table, it is obviously seen that there are some wrong values such as there are 0 and minus values for weekly sales. But sales amount can not be minus. Also, it is impossible for one department not to sell anything whole week. So, I will change this values."
      ],
      "metadata": {
        "id": "Dt19KSsGnA2n"
      }
    },
    {
      "cell_type": "code",
      "source": [
        "df.loc[df['Weekly_Sales']<=0]"
      ],
      "metadata": {
        "execution": {
          "iopub.status.busy": "2022-04-22T05:36:11.706852Z",
          "iopub.execute_input": "2022-04-22T05:36:11.707104Z",
          "iopub.status.idle": "2022-04-22T05:36:11.741554Z",
          "shell.execute_reply.started": "2022-04-22T05:36:11.707069Z",
          "shell.execute_reply": "2022-04-22T05:36:11.740707Z"
        },
        "trusted": true,
        "id": "kfoqtkE8nA2n"
      },
      "execution_count": null,
      "outputs": []
    },
    {
      "cell_type": "markdown",
      "source": [
        "1358 rows in 421570 rows means 0.3%, so I can delete and ignore these rows which contains wrong sales values."
      ],
      "metadata": {
        "id": "1nnkt4rtnA2n"
      }
    },
    {
      "cell_type": "code",
      "source": [
        "df = df.loc[df['Weekly_Sales'] > 0]"
      ],
      "metadata": {
        "execution": {
          "iopub.status.busy": "2022-04-22T05:36:11.743104Z",
          "iopub.execute_input": "2022-04-22T05:36:11.743432Z",
          "iopub.status.idle": "2022-04-22T05:36:11.777507Z",
          "shell.execute_reply.started": "2022-04-22T05:36:11.743394Z",
          "shell.execute_reply": "2022-04-22T05:36:11.776679Z"
        },
        "trusted": true,
        "id": "kLzYP9uBnA2o"
      },
      "execution_count": null,
      "outputs": []
    },
    {
      "cell_type": "code",
      "source": [
        "df.shape # new data shape"
      ],
      "metadata": {
        "execution": {
          "iopub.status.busy": "2022-04-22T05:36:11.778865Z",
          "iopub.execute_input": "2022-04-22T05:36:11.77921Z",
          "iopub.status.idle": "2022-04-22T05:36:11.7868Z",
          "shell.execute_reply.started": "2022-04-22T05:36:11.779172Z",
          "shell.execute_reply": "2022-04-22T05:36:11.785875Z"
        },
        "trusted": true,
        "id": "gFIsuTyfnA2o"
      },
      "execution_count": null,
      "outputs": []
    },
    {
      "cell_type": "markdown",
      "source": [
        "# Date"
      ],
      "metadata": {
        "id": "gySqPspNnA2o"
      }
    },
    {
      "cell_type": "code",
      "source": [
        "df['Date'].head(5).append(df['Date'].tail(5)) # to see first and last 5 rows."
      ],
      "metadata": {
        "execution": {
          "iopub.status.busy": "2022-04-22T05:36:11.788482Z",
          "iopub.execute_input": "2022-04-22T05:36:11.789057Z",
          "iopub.status.idle": "2022-04-22T05:36:11.799342Z",
          "shell.execute_reply.started": "2022-04-22T05:36:11.789017Z",
          "shell.execute_reply": "2022-04-22T05:36:11.798508Z"
        },
        "trusted": true,
        "id": "Op1r2KWdnA2o"
      },
      "execution_count": null,
      "outputs": []
    },
    {
      "cell_type": "markdown",
      "source": [
        "Our data is from 5th of February 2010 to 26th of October 2012.  "
      ],
      "metadata": {
        "id": "Jh1SAkoEnA2p"
      }
    },
    {
      "cell_type": "markdown",
      "source": [
        "# IsHoliday column"
      ],
      "metadata": {
        "id": "iUfC3iUynA2p"
      }
    },
    {
      "cell_type": "code",
      "source": [
        "sns.barplot(x='IsHoliday', y='Weekly_Sales', data=df)"
      ],
      "metadata": {
        "scrolled": true,
        "execution": {
          "iopub.status.busy": "2022-04-22T05:36:11.80121Z",
          "iopub.execute_input": "2022-04-22T05:36:11.801876Z",
          "iopub.status.idle": "2022-04-22T05:36:17.023362Z",
          "shell.execute_reply.started": "2022-04-22T05:36:11.801835Z",
          "shell.execute_reply": "2022-04-22T05:36:17.022589Z"
        },
        "trusted": true,
        "id": "d07TZAbKnA2p"
      },
      "execution_count": null,
      "outputs": []
    },
    {
      "cell_type": "code",
      "source": [
        "df_holiday = df.loc[df['IsHoliday']==True]\n",
        "df_holiday['Date'].unique()"
      ],
      "metadata": {
        "execution": {
          "iopub.status.busy": "2022-04-22T05:36:17.02496Z",
          "iopub.execute_input": "2022-04-22T05:36:17.025484Z",
          "iopub.status.idle": "2022-04-22T05:36:17.04134Z",
          "shell.execute_reply.started": "2022-04-22T05:36:17.02544Z",
          "shell.execute_reply": "2022-04-22T05:36:17.040195Z"
        },
        "trusted": true,
        "id": "u9VF3DUXnA2p"
      },
      "execution_count": null,
      "outputs": []
    },
    {
      "cell_type": "code",
      "source": [
        "df_not_holiday = df.loc[df['IsHoliday']==False]\n",
        "df_not_holiday['Date'].nunique()"
      ],
      "metadata": {
        "execution": {
          "iopub.status.busy": "2022-04-22T05:36:17.042794Z",
          "iopub.execute_input": "2022-04-22T05:36:17.043239Z",
          "iopub.status.idle": "2022-04-22T05:36:17.110521Z",
          "shell.execute_reply.started": "2022-04-22T05:36:17.043199Z",
          "shell.execute_reply": "2022-04-22T05:36:17.109762Z"
        },
        "trusted": true,
        "id": "_LK1xdSBnA2p"
      },
      "execution_count": null,
      "outputs": []
    },
    {
      "cell_type": "markdown",
      "source": [
        "All holidays are not in the data. There are 4 holiday values such as;\n",
        "\n",
        "Super Bowl: 12-Feb-10, 11-Feb-11, 10-Feb-12, 8-Feb-13\n",
        "\n",
        "Labor Day: 10-Sep-10, 9-Sep-11, 7-Sep-12, 6-Sep-13\n",
        "\n",
        "Thanksgiving: 26-Nov-10, 25-Nov-11, 23-Nov-12, 29-Nov-13\n",
        "\n",
        "Christmas: 31-Dec-10, 30-Dec-11, 28-Dec-12, 27-Dec-13\n",
        "\n",
        "\n",
        "After the 07-Sep-2012 holidays are in test set for prediction. When we look at the data, average weekly sales for holidays are significantly higher than not-holiday days. In train data, there are 133 weeks for non-holiday and 10 weeks for holiday."
      ],
      "metadata": {
        "id": "UEp9rR5QnA2p"
      }
    },
    {
      "cell_type": "markdown",
      "source": [
        "I want to see differences between holiday types. So, I create new columns for 4 types of holidays and fill them with boolean values. If date belongs to this type of holiday it is True, if not False."
      ],
      "metadata": {
        "id": "PXSVCaIinA2q"
      }
    },
    {
      "cell_type": "code",
      "source": [
        "# Super bowl dates in train set\n",
        "df.loc[(df['Date'] == '2010-02-12')|(df['Date'] == '2011-02-11')|(df['Date'] == '2012-02-10'),'Super_Bowl'] = True\n",
        "df.loc[(df['Date'] != '2010-02-12')&(df['Date'] != '2011-02-11')&(df['Date'] != '2012-02-10'),'Super_Bowl'] = False"
      ],
      "metadata": {
        "execution": {
          "iopub.status.busy": "2022-04-22T05:36:17.112027Z",
          "iopub.execute_input": "2022-04-22T05:36:17.112456Z",
          "iopub.status.idle": "2022-04-22T05:36:17.567184Z",
          "shell.execute_reply.started": "2022-04-22T05:36:17.112415Z",
          "shell.execute_reply": "2022-04-22T05:36:17.566287Z"
        },
        "trusted": true,
        "id": "MJhbQJK6nA2v"
      },
      "execution_count": null,
      "outputs": []
    },
    {
      "cell_type": "code",
      "source": [
        "# Labor day dates in train set\n",
        "df.loc[(df['Date'] == '2010-09-10')|(df['Date'] == '2011-09-09')|(df['Date'] == '2012-09-07'),'Labor_Day'] = True\n",
        "df.loc[(df['Date'] != '2010-09-10')&(df['Date'] != '2011-09-09')&(df['Date'] != '2012-09-07'),'Labor_Day'] = False"
      ],
      "metadata": {
        "execution": {
          "iopub.status.busy": "2022-04-22T05:36:17.568887Z",
          "iopub.execute_input": "2022-04-22T05:36:17.569351Z",
          "iopub.status.idle": "2022-04-22T05:36:18.056123Z",
          "shell.execute_reply.started": "2022-04-22T05:36:17.569305Z",
          "shell.execute_reply": "2022-04-22T05:36:18.055164Z"
        },
        "trusted": true,
        "id": "lvNdfNeWnA2w"
      },
      "execution_count": null,
      "outputs": []
    },
    {
      "cell_type": "code",
      "source": [
        "# Thanksgiving dates in train set\n",
        "df.loc[(df['Date'] == '2010-11-26')|(df['Date'] == '2011-11-25'),'Thanksgiving'] = True\n",
        "df.loc[(df['Date'] != '2010-11-26')&(df['Date'] != '2011-11-25'),'Thanksgiving'] = False"
      ],
      "metadata": {
        "execution": {
          "iopub.status.busy": "2022-04-22T05:36:18.057728Z",
          "iopub.execute_input": "2022-04-22T05:36:18.058232Z",
          "iopub.status.idle": "2022-04-22T05:36:18.503178Z",
          "shell.execute_reply.started": "2022-04-22T05:36:18.058191Z",
          "shell.execute_reply": "2022-04-22T05:36:18.502324Z"
        },
        "trusted": true,
        "id": "lVVlfeP2nA2w"
      },
      "execution_count": null,
      "outputs": []
    },
    {
      "cell_type": "code",
      "source": [
        "#Christmas dates in train set\n",
        "df.loc[(df['Date'] == '2010-12-31')|(df['Date'] == '2011-12-30'),'Christmas'] = True\n",
        "df.loc[(df['Date'] != '2010-12-31')&(df['Date'] != '2011-12-30'),'Christmas'] = False"
      ],
      "metadata": {
        "execution": {
          "iopub.status.busy": "2022-04-22T05:36:18.508037Z",
          "iopub.execute_input": "2022-04-22T05:36:18.510912Z",
          "iopub.status.idle": "2022-04-22T05:36:18.85323Z",
          "shell.execute_reply.started": "2022-04-22T05:36:18.510862Z",
          "shell.execute_reply": "2022-04-22T05:36:18.852426Z"
        },
        "trusted": true,
        "id": "oN18-M48nA2w"
      },
      "execution_count": null,
      "outputs": []
    },
    {
      "cell_type": "code",
      "source": [
        "sns.barplot(x='Christmas', y='Weekly_Sales', data=df) # Christmas holiday vs not-Christmas"
      ],
      "metadata": {
        "scrolled": true,
        "execution": {
          "iopub.status.busy": "2022-04-22T05:36:18.854527Z",
          "iopub.execute_input": "2022-04-22T05:36:18.854846Z",
          "iopub.status.idle": "2022-04-22T05:36:24.379839Z",
          "shell.execute_reply.started": "2022-04-22T05:36:18.854806Z",
          "shell.execute_reply": "2022-04-22T05:36:24.379088Z"
        },
        "trusted": true,
        "id": "ZLm_LN4tnA2w"
      },
      "execution_count": null,
      "outputs": []
    },
    {
      "cell_type": "code",
      "source": [
        "sns.barplot(x='Thanksgiving', y='Weekly_Sales', data=df) # Thanksgiving holiday vs not-thanksgiving"
      ],
      "metadata": {
        "execution": {
          "iopub.status.busy": "2022-04-22T05:36:24.381313Z",
          "iopub.execute_input": "2022-04-22T05:36:24.381585Z",
          "iopub.status.idle": "2022-04-22T05:36:30.554564Z",
          "shell.execute_reply.started": "2022-04-22T05:36:24.381545Z",
          "shell.execute_reply": "2022-04-22T05:36:30.553669Z"
        },
        "trusted": true,
        "id": "NuQEFNiqnA2w"
      },
      "execution_count": null,
      "outputs": []
    },
    {
      "cell_type": "code",
      "source": [
        "sns.barplot(x='Super_Bowl', y='Weekly_Sales', data=df) # Super bowl holiday vs not-super bowl"
      ],
      "metadata": {
        "scrolled": true,
        "execution": {
          "iopub.status.busy": "2022-04-22T05:36:30.55607Z",
          "iopub.execute_input": "2022-04-22T05:36:30.55704Z",
          "iopub.status.idle": "2022-04-22T05:36:36.056323Z",
          "shell.execute_reply.started": "2022-04-22T05:36:30.556991Z",
          "shell.execute_reply": "2022-04-22T05:36:36.055596Z"
        },
        "trusted": true,
        "id": "XUUET6HznA2w"
      },
      "execution_count": null,
      "outputs": []
    },
    {
      "cell_type": "code",
      "source": [
        "sns.barplot(x='Labor_Day', y='Weekly_Sales', data=df) # Labor day holiday vs not-labor day"
      ],
      "metadata": {
        "execution": {
          "iopub.status.busy": "2022-04-22T05:36:36.05764Z",
          "iopub.execute_input": "2022-04-22T05:36:36.058102Z",
          "iopub.status.idle": "2022-04-22T05:36:41.91872Z",
          "shell.execute_reply.started": "2022-04-22T05:36:36.058058Z",
          "shell.execute_reply": "2022-04-22T05:36:41.917765Z"
        },
        "trusted": true,
        "id": "p6cDr9TFnA2w"
      },
      "execution_count": null,
      "outputs": []
    },
    {
      "cell_type": "markdown",
      "source": [
        "It is shown that for the graphs, Labor Day and Christmas do not increase weekly average sales. There is positive effect on sales in Super bowl, but the highest difference is in the Thanksgiving. I think, people generally prefer to buy Christmas gifts 1-2 weeks before Christmas, so it does not change sales in the Christmas week. And, there is Black Friday sales in the Thanksgiving week."
      ],
      "metadata": {
        "id": "u_nibA7unA2w"
      }
    },
    {
      "cell_type": "markdown",
      "source": [
        "# Type Effect on Holidays"
      ],
      "metadata": {
        "id": "r5MULiglnA2w"
      }
    },
    {
      "cell_type": "markdown",
      "source": [
        "There are three different store types in the data as A, B and C."
      ],
      "metadata": {
        "id": "dw17n41xnA2w"
      }
    },
    {
      "cell_type": "code",
      "source": [
        "df.groupby(['Christmas','Type'])['Weekly_Sales'].mean()  # Avg weekly sales for types on Christmas"
      ],
      "metadata": {
        "execution": {
          "iopub.status.busy": "2022-04-22T05:36:41.920384Z",
          "iopub.execute_input": "2022-04-22T05:36:41.920878Z",
          "iopub.status.idle": "2022-04-22T05:36:42.019675Z",
          "shell.execute_reply.started": "2022-04-22T05:36:41.920834Z",
          "shell.execute_reply": "2022-04-22T05:36:42.018768Z"
        },
        "trusted": true,
        "id": "Tz5UmboZnA2x"
      },
      "execution_count": null,
      "outputs": []
    },
    {
      "cell_type": "code",
      "source": [
        "df.groupby(['Labor_Day','Type'])['Weekly_Sales'].mean()  # Avg weekly sales for types on Labor Day"
      ],
      "metadata": {
        "execution": {
          "iopub.status.busy": "2022-04-22T05:36:42.023268Z",
          "iopub.execute_input": "2022-04-22T05:36:42.025058Z",
          "iopub.status.idle": "2022-04-22T05:36:42.114944Z",
          "shell.execute_reply.started": "2022-04-22T05:36:42.024953Z",
          "shell.execute_reply": "2022-04-22T05:36:42.113811Z"
        },
        "trusted": true,
        "id": "Vnxf5k_VnA2x"
      },
      "execution_count": null,
      "outputs": []
    },
    {
      "cell_type": "code",
      "source": [
        "df.groupby(['Thanksgiving','Type'])['Weekly_Sales'].mean()  # Avg weekly sales for types on Thanksgiving"
      ],
      "metadata": {
        "execution": {
          "iopub.status.busy": "2022-04-22T05:36:42.116652Z",
          "iopub.execute_input": "2022-04-22T05:36:42.117051Z",
          "iopub.status.idle": "2022-04-22T05:36:42.205231Z",
          "shell.execute_reply.started": "2022-04-22T05:36:42.117005Z",
          "shell.execute_reply": "2022-04-22T05:36:42.204305Z"
        },
        "trusted": true,
        "id": "UNTKdt_6nA2x"
      },
      "execution_count": null,
      "outputs": []
    },
    {
      "cell_type": "code",
      "source": [
        "df.groupby(['Super_Bowl','Type'])['Weekly_Sales'].mean()  # Avg weekly sales for types on Super Bowl"
      ],
      "metadata": {
        "execution": {
          "iopub.status.busy": "2022-04-22T05:36:42.2071Z",
          "iopub.execute_input": "2022-04-22T05:36:42.207391Z",
          "iopub.status.idle": "2022-04-22T05:36:42.293743Z",
          "shell.execute_reply.started": "2022-04-22T05:36:42.207352Z",
          "shell.execute_reply": "2022-04-22T05:36:42.292864Z"
        },
        "trusted": true,
        "id": "vD1-HS-6nA2x"
      },
      "execution_count": null,
      "outputs": []
    },
    {
      "cell_type": "markdown",
      "source": [
        "I want to see percentages of store types."
      ],
      "metadata": {
        "id": "jSuwodYCnA2x"
      }
    },
    {
      "cell_type": "code",
      "source": [
        "my_data = [48.88, 37.77 , 13.33 ]  #percentages\n",
        "my_labels = 'Type A','Type B', 'Type C' # labels\n",
        "plt.pie(my_data,labels=my_labels,autopct='%1.1f%%', textprops={'fontsize': 15}) #plot pie type and bigger the labels\n",
        "plt.axis('equal')\n",
        "mpl.rcParams.update({'font.size': 20}) #bigger percentage labels\n",
        "\n",
        "plt.show()"
      ],
      "metadata": {
        "execution": {
          "iopub.status.busy": "2022-04-22T05:36:42.29564Z",
          "iopub.execute_input": "2022-04-22T05:36:42.296074Z",
          "iopub.status.idle": "2022-04-22T05:36:42.420353Z",
          "shell.execute_reply.started": "2022-04-22T05:36:42.296028Z",
          "shell.execute_reply": "2022-04-22T05:36:42.419133Z"
        },
        "trusted": true,
        "id": "sZ9DzoTFnA2x"
      },
      "execution_count": null,
      "outputs": []
    },
    {
      "cell_type": "code",
      "source": [
        "df.groupby('IsHoliday')['Weekly_Sales'].mean()"
      ],
      "metadata": {
        "execution": {
          "iopub.status.busy": "2022-04-22T05:36:42.422428Z",
          "iopub.execute_input": "2022-04-22T05:36:42.423052Z",
          "iopub.status.idle": "2022-04-22T05:36:42.454352Z",
          "shell.execute_reply.started": "2022-04-22T05:36:42.423005Z",
          "shell.execute_reply": "2022-04-22T05:36:42.453421Z"
        },
        "trusted": true,
        "id": "n8gi9Nq3nA2x"
      },
      "execution_count": null,
      "outputs": []
    },
    {
      "cell_type": "markdown",
      "source": [
        "Nearly, half of the stores are belongs to Type A."
      ],
      "metadata": {
        "id": "qToftDEknA2y"
      }
    },
    {
      "cell_type": "code",
      "source": [
        "# Plotting avg wekkly sales according to holidays by types\n",
        "plt.style.use('seaborn-poster')\n",
        "labels = ['Thanksgiving', 'Super_Bowl', 'Labor_Day', 'Christmas']\n",
        "A_means = [27397.77, 20612.75, 20004.26, 18310.16]\n",
        "B_means = [18733.97, 12463.41, 12080.75, 11483.97]\n",
        "C_means = [9696.56,10179.27,9893.45,8031.52]\n",
        "\n",
        "x = np.arange(len(labels))  # the label locations\n",
        "width = 0.25  # the width of the bars\n",
        "\n",
        "fig, ax = plt.subplots(figsize=(16, 8))\n",
        "rects1 = ax.bar(x - width, A_means, width, label='Type_A')\n",
        "rects2 = ax.bar(x , B_means, width, label='Type_B')\n",
        "rects3 = ax.bar(x + width, C_means, width, label='Type_C')\n",
        "\n",
        "# Add some text for labels, title and custom x-axis tick labels, etc.\n",
        "ax.set_ylabel('Weekly Avg Sales')\n",
        "ax.set_xticks(x)\n",
        "ax.set_xticklabels(labels)\n",
        "ax.legend()\n",
        "\n",
        "\n",
        "def autolabel(rects):\n",
        "    \"\"\"Attach a text label above each bar in *rects*, displaying its height.\"\"\"\n",
        "    for rect in rects:\n",
        "        height = rect.get_height()\n",
        "        ax.annotate('{}'.format(height),\n",
        "                    xy=(rect.get_x() + rect.get_width() / 2, height),\n",
        "                    xytext=(0, 3),  # 3 points vertical offset\n",
        "                    textcoords=\"offset points\",\n",
        "                    ha='center', va='bottom')\n",
        "\n",
        "\n",
        "autolabel(rects1)\n",
        "autolabel(rects2)\n",
        "autolabel(rects3)\n",
        "\n",
        "plt.axhline(y=17094.30,color='r') # holidays avg\n",
        "plt.axhline(y=15952.82,color='green') # not-holiday avg\n",
        "\n",
        "fig.tight_layout()\n",
        "\n",
        "plt.show()"
      ],
      "metadata": {
        "scrolled": true,
        "execution": {
          "iopub.status.busy": "2022-04-22T05:36:42.458205Z",
          "iopub.execute_input": "2022-04-22T05:36:42.46234Z",
          "iopub.status.idle": "2022-04-22T05:36:42.915454Z",
          "shell.execute_reply.started": "2022-04-22T05:36:42.46229Z",
          "shell.execute_reply": "2022-04-22T05:36:42.91471Z"
        },
        "trusted": true,
        "id": "uVSpHUwqnA2y"
      },
      "execution_count": null,
      "outputs": []
    },
    {
      "cell_type": "markdown",
      "source": [
        "It is seen from the graph that, highest sale average is in the Thanksgiving week between holidays. And, for all holidays Type A stores has highest sales."
      ],
      "metadata": {
        "id": "g7UuQbminA2y"
      }
    },
    {
      "cell_type": "code",
      "source": [
        "df.sort_values(by='Weekly_Sales',ascending=False).head(5)"
      ],
      "metadata": {
        "scrolled": true,
        "execution": {
          "iopub.status.busy": "2022-04-22T05:36:42.916832Z",
          "iopub.execute_input": "2022-04-22T05:36:42.917213Z",
          "iopub.status.idle": "2022-04-22T05:36:43.090303Z",
          "shell.execute_reply.started": "2022-04-22T05:36:42.917171Z",
          "shell.execute_reply": "2022-04-22T05:36:43.089518Z"
        },
        "trusted": true,
        "id": "Y6ipxoePnA2y"
      },
      "execution_count": null,
      "outputs": []
    },
    {
      "cell_type": "markdown",
      "source": [
        "Also, it is not surprise that top 5 highest weekly sales are belongs to Thanksgiving weeks."
      ],
      "metadata": {
        "id": "-Msj11sVnA2y"
      }
    },
    {
      "cell_type": "markdown",
      "source": [
        "# To See the Size - Type Relation"
      ],
      "metadata": {
        "id": "o6F7yG4UnA2z"
      }
    },
    {
      "cell_type": "code",
      "source": [
        "df_store.groupby('Type').describe()['Size'].round(2) # See the Size-Type relation"
      ],
      "metadata": {
        "execution": {
          "iopub.status.busy": "2022-04-22T05:36:43.091605Z",
          "iopub.execute_input": "2022-04-22T05:36:43.092504Z",
          "iopub.status.idle": "2022-04-22T05:36:43.135556Z",
          "shell.execute_reply.started": "2022-04-22T05:36:43.092461Z",
          "shell.execute_reply": "2022-04-22T05:36:43.134725Z"
        },
        "trusted": true,
        "id": "g_ra69PcnA2z"
      },
      "execution_count": null,
      "outputs": []
    },
    {
      "cell_type": "code",
      "source": [
        "plt.figure(figsize=(10,8)) # To see the type-size relation\n",
        "fig = sns.boxplot(x='Type', y='Size', data=df, showfliers=False)"
      ],
      "metadata": {
        "execution": {
          "iopub.status.busy": "2022-04-22T05:36:43.144467Z",
          "iopub.execute_input": "2022-04-22T05:36:43.144696Z",
          "iopub.status.idle": "2022-04-22T05:36:43.67721Z",
          "shell.execute_reply.started": "2022-04-22T05:36:43.144667Z",
          "shell.execute_reply": "2022-04-22T05:36:43.676461Z"
        },
        "trusted": true,
        "id": "ejXFp6VPnA2z"
      },
      "execution_count": null,
      "outputs": []
    },
    {
      "cell_type": "markdown",
      "source": [
        "Size of the type of stores are consistent with sales, as expected. Higher size stores has higher sales. And, Walmart classify stores according to their sizes according to graph. After the smallest size value of Type A, Type B begins. After the smallest size value of Type B, Type C begins."
      ],
      "metadata": {
        "id": "I5UuT5JgnA2z"
      }
    },
    {
      "cell_type": "markdown",
      "source": [
        "# Markdown Columns"
      ],
      "metadata": {
        "id": "9r203n_QnA2z"
      }
    },
    {
      "cell_type": "markdown",
      "source": [
        "Walmart gave markdown columns to see the effect if markdowns on sales. When I check columns, there are many NaN values for markdowns. I decided to change them with 0, because if there is markdown in the row, it is shown with numbres. So, if I can write 0, it shows there is no markdown at that date."
      ],
      "metadata": {
        "id": "EHKyE_oKnA2z"
      }
    },
    {
      "cell_type": "code",
      "source": [
        "df.isna().sum()"
      ],
      "metadata": {
        "execution": {
          "iopub.status.busy": "2022-04-22T05:36:43.678494Z",
          "iopub.execute_input": "2022-04-22T05:36:43.679094Z",
          "iopub.status.idle": "2022-04-22T05:36:43.976721Z",
          "shell.execute_reply.started": "2022-04-22T05:36:43.679052Z",
          "shell.execute_reply": "2022-04-22T05:36:43.97594Z"
        },
        "trusted": true,
        "id": "RMAlNB65nA20"
      },
      "execution_count": null,
      "outputs": []
    },
    {
      "cell_type": "code",
      "source": [
        "df = df.fillna(0) # filling null's with 0"
      ],
      "metadata": {
        "execution": {
          "iopub.status.busy": "2022-04-22T05:36:43.978208Z",
          "iopub.execute_input": "2022-04-22T05:36:43.978663Z",
          "iopub.status.idle": "2022-04-22T05:36:44.412598Z",
          "shell.execute_reply.started": "2022-04-22T05:36:43.978618Z",
          "shell.execute_reply": "2022-04-22T05:36:44.41179Z"
        },
        "trusted": true,
        "id": "w9qITYEEnA20"
      },
      "execution_count": null,
      "outputs": []
    },
    {
      "cell_type": "code",
      "source": [
        "df.isna().sum() # last null check"
      ],
      "metadata": {
        "execution": {
          "iopub.status.busy": "2022-04-22T05:36:44.414147Z",
          "iopub.execute_input": "2022-04-22T05:36:44.414707Z",
          "iopub.status.idle": "2022-04-22T05:36:44.527294Z",
          "shell.execute_reply.started": "2022-04-22T05:36:44.414662Z",
          "shell.execute_reply": "2022-04-22T05:36:44.526389Z"
        },
        "trusted": true,
        "id": "zNvOVFR_nA20"
      },
      "execution_count": null,
      "outputs": []
    },
    {
      "cell_type": "code",
      "source": [
        "df.describe() # to see weird statistical things"
      ],
      "metadata": {
        "execution": {
          "iopub.status.busy": "2022-04-22T05:36:44.528905Z",
          "iopub.execute_input": "2022-04-22T05:36:44.529198Z",
          "iopub.status.idle": "2022-04-22T05:36:44.703887Z",
          "shell.execute_reply.started": "2022-04-22T05:36:44.529156Z",
          "shell.execute_reply": "2022-04-22T05:36:44.702977Z"
        },
        "trusted": true,
        "id": "4ewL3ZUanA20"
      },
      "execution_count": null,
      "outputs": []
    },
    {
      "cell_type": "markdown",
      "source": [
        "Minimum value for weekly sales is 0.01. Most probably, this value is not true but I prefer not to change them now. Because, there are many departments and many stores. It takes too much time to check each department for each store (45 store for 81 departments). So, I take averages for EDA."
      ],
      "metadata": {
        "id": "m-P3eKcjnA20"
      }
    },
    {
      "cell_type": "markdown",
      "source": [
        "# Deeper Look in Sales"
      ],
      "metadata": {
        "id": "MngO9WRdnA20"
      }
    },
    {
      "cell_type": "code",
      "source": [
        "x = df['Dept']\n",
        "y = df['Weekly_Sales']\n",
        "plt.figure(figsize=(15,5))\n",
        "plt.title('Weekly Sales by Department')\n",
        "plt.xlabel('Departments')\n",
        "plt.ylabel('Weekly Sales')\n",
        "plt.scatter(x,y)\n",
        "plt.show()"
      ],
      "metadata": {
        "execution": {
          "iopub.status.busy": "2022-04-22T05:36:44.7055Z",
          "iopub.execute_input": "2022-04-22T05:36:44.7058Z",
          "iopub.status.idle": "2022-04-22T05:36:46.27343Z",
          "shell.execute_reply.started": "2022-04-22T05:36:44.705761Z",
          "shell.execute_reply": "2022-04-22T05:36:46.272639Z"
        },
        "trusted": true,
        "id": "vd3T-9qvnA20"
      },
      "execution_count": null,
      "outputs": []
    },
    {
      "cell_type": "code",
      "source": [
        "plt.figure(figsize=(30,10))\n",
        "fig = sns.barplot(x='Dept', y='Weekly_Sales', data=df)"
      ],
      "metadata": {
        "scrolled": true,
        "execution": {
          "iopub.status.busy": "2022-04-22T05:36:46.274932Z",
          "iopub.execute_input": "2022-04-22T05:36:46.275215Z",
          "iopub.status.idle": "2022-04-22T05:36:54.930423Z",
          "shell.execute_reply.started": "2022-04-22T05:36:46.275176Z",
          "shell.execute_reply": "2022-04-22T05:36:54.929634Z"
        },
        "trusted": true,
        "id": "BGA9JdrRnA20"
      },
      "execution_count": null,
      "outputs": []
    },
    {
      "cell_type": "markdown",
      "source": [
        "From the first graph, it is seen that one department between 60-80(I assume it is 72), has higher sales values. But, when we take the averages, it is seen that department 92 has higher mean sales. Department 72 is seasonal department, I think. It has higher values is some seasons but on average 92 is higher."
      ],
      "metadata": {
        "id": "KyiFApEunA21"
      }
    },
    {
      "cell_type": "code",
      "source": [
        "x = df['Store']\n",
        "y = df['Weekly_Sales']\n",
        "plt.figure(figsize=(15,5))\n",
        "plt.title('Weekly Sales by Store')\n",
        "plt.xlabel('Stores')\n",
        "plt.ylabel('Weekly Sales')\n",
        "plt.scatter(x,y)\n",
        "plt.show()"
      ],
      "metadata": {
        "execution": {
          "iopub.status.busy": "2022-04-22T05:36:54.931868Z",
          "iopub.execute_input": "2022-04-22T05:36:54.933435Z",
          "iopub.status.idle": "2022-04-22T05:36:56.48095Z",
          "shell.execute_reply.started": "2022-04-22T05:36:54.933389Z",
          "shell.execute_reply": "2022-04-22T05:36:56.480189Z"
        },
        "trusted": true,
        "id": "h7W42pp9nA21"
      },
      "execution_count": null,
      "outputs": []
    },
    {
      "cell_type": "code",
      "source": [
        "plt.figure(figsize=(20,6))\n",
        "fig = sns.barplot(x='Store', y='Weekly_Sales', data=df)"
      ],
      "metadata": {
        "execution": {
          "iopub.status.busy": "2022-04-22T05:36:56.482128Z",
          "iopub.execute_input": "2022-04-22T05:36:56.482599Z",
          "iopub.status.idle": "2022-04-22T05:37:03.835427Z",
          "shell.execute_reply.started": "2022-04-22T05:36:56.482558Z",
          "shell.execute_reply": "2022-04-22T05:37:03.834622Z"
        },
        "trusted": true,
        "id": "kGiZCVt6nA21"
      },
      "execution_count": null,
      "outputs": []
    },
    {
      "cell_type": "markdown",
      "source": [
        "Same thing happens in stores. From the first graph, some stores has higher sales but on average store 20 is the best and 4 and 14 following it."
      ],
      "metadata": {
        "id": "dtoUJM_OnA21"
      }
    },
    {
      "cell_type": "markdown",
      "source": [
        "# Changing Date to Datetime and Creating New Columns"
      ],
      "metadata": {
        "id": "RX4SxXI3nA21"
      }
    },
    {
      "cell_type": "code",
      "source": [
        "df[\"Date\"] = pd.to_datetime(df[\"Date\"]) # convert to datetime\n",
        "df['week'] =df['Date'].dt.week\n",
        "df['month'] =df['Date'].dt.month\n",
        "df['year'] =df['Date'].dt.year"
      ],
      "metadata": {
        "execution": {
          "iopub.status.busy": "2022-04-22T05:37:03.837053Z",
          "iopub.execute_input": "2022-04-22T05:37:03.837365Z",
          "iopub.status.idle": "2022-04-22T05:37:04.146496Z",
          "shell.execute_reply.started": "2022-04-22T05:37:03.837323Z",
          "shell.execute_reply": "2022-04-22T05:37:04.145641Z"
        },
        "trusted": true,
        "id": "tdEyNUyVnA21"
      },
      "execution_count": null,
      "outputs": []
    },
    {
      "cell_type": "code",
      "source": [
        "df.groupby('month')['Weekly_Sales'].mean() # to see the best months for sales"
      ],
      "metadata": {
        "execution": {
          "iopub.status.busy": "2022-04-22T05:37:04.14816Z",
          "iopub.execute_input": "2022-04-22T05:37:04.148481Z",
          "iopub.status.idle": "2022-04-22T05:37:04.167475Z",
          "shell.execute_reply.started": "2022-04-22T05:37:04.148442Z",
          "shell.execute_reply": "2022-04-22T05:37:04.166713Z"
        },
        "trusted": true,
        "id": "Y2tJ1pSbnA21"
      },
      "execution_count": null,
      "outputs": []
    },
    {
      "cell_type": "code",
      "source": [
        "df.groupby('year')['Weekly_Sales'].mean() # to see the best years for sales"
      ],
      "metadata": {
        "execution": {
          "iopub.status.busy": "2022-04-22T05:37:04.16868Z",
          "iopub.execute_input": "2022-04-22T05:37:04.168997Z",
          "iopub.status.idle": "2022-04-22T05:37:04.187634Z",
          "shell.execute_reply.started": "2022-04-22T05:37:04.168956Z",
          "shell.execute_reply": "2022-04-22T05:37:04.186912Z"
        },
        "trusted": true,
        "id": "X4zK_6kznA21"
      },
      "execution_count": null,
      "outputs": []
    },
    {
      "cell_type": "code",
      "source": [
        "monthly_sales = pd.pivot_table(df, values = \"Weekly_Sales\", columns = \"year\", index = \"month\")\n",
        "monthly_sales.plot()"
      ],
      "metadata": {
        "execution": {
          "iopub.status.busy": "2022-04-22T05:37:04.188723Z",
          "iopub.execute_input": "2022-04-22T05:37:04.189529Z",
          "iopub.status.idle": "2022-04-22T05:37:04.520332Z",
          "shell.execute_reply.started": "2022-04-22T05:37:04.189488Z",
          "shell.execute_reply": "2022-04-22T05:37:04.519588Z"
        },
        "trusted": true,
        "id": "hi_O44OenA21"
      },
      "execution_count": null,
      "outputs": []
    },
    {
      "cell_type": "markdown",
      "source": [
        "From the graph, it is seen that 2011 has lower sales than 2010 generally. When we look at the mean sales it is seen that 2010 has higher values, but 2012 has no information about November and December which have higher sales. Despite of 2012 has no last two months sales, it's mean is near to 2010. Most probably, it will take the first place if we get 2012 results and add them."
      ],
      "metadata": {
        "id": "2CEGQbKcnA21"
      }
    },
    {
      "cell_type": "code",
      "source": [
        "fig = sns.barplot(x='month', y='Weekly_Sales', data=df)"
      ],
      "metadata": {
        "execution": {
          "iopub.status.busy": "2022-04-22T05:37:04.521824Z",
          "iopub.execute_input": "2022-04-22T05:37:04.522349Z",
          "iopub.status.idle": "2022-04-22T05:37:09.493489Z",
          "shell.execute_reply.started": "2022-04-22T05:37:04.522306Z",
          "shell.execute_reply": "2022-04-22T05:37:09.492603Z"
        },
        "trusted": true,
        "id": "3lQa9ZebnA22"
      },
      "execution_count": null,
      "outputs": []
    },
    {
      "cell_type": "markdown",
      "source": [
        "When we look at the graph above, the best sales are in December and November, as expected. The highest values are belongs to Thankgiving holiday but when we take average it is obvious that December has the best value."
      ],
      "metadata": {
        "id": "vU4wkgqmnA22"
      }
    },
    {
      "cell_type": "code",
      "source": [
        "df.groupby('week')['Weekly_Sales'].mean().sort_values(ascending=False).head()"
      ],
      "metadata": {
        "execution": {
          "iopub.status.busy": "2022-04-22T05:37:09.494838Z",
          "iopub.execute_input": "2022-04-22T05:37:09.495118Z",
          "iopub.status.idle": "2022-04-22T05:37:09.513485Z",
          "shell.execute_reply.started": "2022-04-22T05:37:09.495077Z",
          "shell.execute_reply": "2022-04-22T05:37:09.512676Z"
        },
        "trusted": true,
        "id": "yLQg71lXnA22"
      },
      "execution_count": null,
      "outputs": []
    },
    {
      "cell_type": "markdown",
      "source": [
        "Top 5 sales averages by weekly belongs to 1-2 weeks before Christmas, Thanksgiving, Black Friday and end of May, when the schools are closed."
      ],
      "metadata": {
        "id": "LghgVmZenA22"
      }
    },
    {
      "cell_type": "code",
      "source": [
        "weekly_sales = pd.pivot_table(df, values = \"Weekly_Sales\", columns = \"year\", index = \"week\")\n",
        "weekly_sales.plot()"
      ],
      "metadata": {
        "execution": {
          "iopub.status.busy": "2022-04-22T05:37:09.514931Z",
          "iopub.execute_input": "2022-04-22T05:37:09.515481Z",
          "iopub.status.idle": "2022-04-22T05:37:09.980529Z",
          "shell.execute_reply.started": "2022-04-22T05:37:09.515436Z",
          "shell.execute_reply": "2022-04-22T05:37:09.97978Z"
        },
        "trusted": true,
        "id": "a_6sEFptnA22"
      },
      "execution_count": null,
      "outputs": []
    },
    {
      "cell_type": "code",
      "source": [
        "plt.figure(figsize=(20,6))\n",
        "fig = sns.barplot(x='week', y='Weekly_Sales', data=df)"
      ],
      "metadata": {
        "execution": {
          "iopub.status.busy": "2022-04-22T05:37:09.981768Z",
          "iopub.execute_input": "2022-04-22T05:37:09.982379Z",
          "iopub.status.idle": "2022-04-22T05:37:17.333759Z",
          "shell.execute_reply.started": "2022-04-22T05:37:09.982333Z",
          "shell.execute_reply": "2022-04-22T05:37:17.332987Z"
        },
        "trusted": true,
        "id": "SQMawuGEnA22"
      },
      "execution_count": null,
      "outputs": []
    },
    {
      "cell_type": "markdown",
      "source": [
        "From graphs, it is seen that 51th week and 47th weeks have significantly higher averages as Christmas, Thankgiving and Black Friday effects."
      ],
      "metadata": {
        "id": "he6sd9K9nA22"
      }
    },
    {
      "cell_type": "markdown",
      "source": [
        "# Fuel Price, CPI , Unemployment , Temperature Effects"
      ],
      "metadata": {
        "id": "GrytMhVqnA22"
      }
    },
    {
      "cell_type": "code",
      "source": [
        "fuel_price = pd.pivot_table(df, values = \"Weekly_Sales\", index= \"Fuel_Price\")\n",
        "fuel_price.plot()"
      ],
      "metadata": {
        "execution": {
          "iopub.status.busy": "2022-04-22T05:37:17.33508Z",
          "iopub.execute_input": "2022-04-22T05:37:17.335702Z",
          "iopub.status.idle": "2022-04-22T05:37:17.64033Z",
          "shell.execute_reply.started": "2022-04-22T05:37:17.335655Z",
          "shell.execute_reply": "2022-04-22T05:37:17.639591Z"
        },
        "trusted": true,
        "id": "IXAxSdUjnA22"
      },
      "execution_count": null,
      "outputs": []
    },
    {
      "cell_type": "code",
      "source": [
        "temp = pd.pivot_table(df, values = \"Weekly_Sales\", index= \"Temperature\")\n",
        "temp.plot()"
      ],
      "metadata": {
        "execution": {
          "iopub.status.busy": "2022-04-22T05:37:17.641866Z",
          "iopub.execute_input": "2022-04-22T05:37:17.642319Z",
          "iopub.status.idle": "2022-04-22T05:37:17.975351Z",
          "shell.execute_reply.started": "2022-04-22T05:37:17.642278Z",
          "shell.execute_reply": "2022-04-22T05:37:17.974608Z"
        },
        "trusted": true,
        "id": "sjrFRhDKnA22"
      },
      "execution_count": null,
      "outputs": []
    },
    {
      "cell_type": "code",
      "source": [
        "CPI = pd.pivot_table(df, values = \"Weekly_Sales\", index= \"CPI\")\n",
        "CPI.plot()"
      ],
      "metadata": {
        "execution": {
          "iopub.status.busy": "2022-04-22T05:37:17.976966Z",
          "iopub.execute_input": "2022-04-22T05:37:17.977512Z",
          "iopub.status.idle": "2022-04-22T05:37:18.279367Z",
          "shell.execute_reply.started": "2022-04-22T05:37:17.977469Z",
          "shell.execute_reply": "2022-04-22T05:37:18.278633Z"
        },
        "trusted": true,
        "id": "C-N05WxfnA22"
      },
      "execution_count": null,
      "outputs": []
    },
    {
      "cell_type": "code",
      "source": [
        "unemployment = pd.pivot_table(df, values = \"Weekly_Sales\", index= \"Unemployment\")\n",
        "unemployment.plot()"
      ],
      "metadata": {
        "scrolled": true,
        "execution": {
          "iopub.status.busy": "2022-04-22T05:37:18.280904Z",
          "iopub.execute_input": "2022-04-22T05:37:18.28141Z",
          "iopub.status.idle": "2022-04-22T05:37:18.567376Z",
          "shell.execute_reply.started": "2022-04-22T05:37:18.281367Z",
          "shell.execute_reply": "2022-04-22T05:37:18.566625Z"
        },
        "trusted": true,
        "id": "7Mwf54x-nA23"
      },
      "execution_count": null,
      "outputs": []
    },
    {
      "cell_type": "markdown",
      "source": [
        "From graphs, it is seen that there are no significant patterns between CPI, temperature, unemployment rate, fuel price vs weekly sales. There is no data for CPI between 140-180 also."
      ],
      "metadata": {
        "id": "Kb7-wdkxnA23"
      }
    },
    {
      "cell_type": "code",
      "source": [
        "df.to_csv('clean_data.csv') # assign new data frame to csv for using after here"
      ],
      "metadata": {
        "execution": {
          "iopub.status.busy": "2022-04-22T05:37:18.568711Z",
          "iopub.execute_input": "2022-04-22T05:37:18.569532Z",
          "iopub.status.idle": "2022-04-22T05:37:27.503905Z",
          "shell.execute_reply.started": "2022-04-22T05:37:18.569487Z",
          "shell.execute_reply": "2022-04-22T05:37:27.503019Z"
        },
        "trusted": true,
        "id": "vluCv66vnA23"
      },
      "execution_count": null,
      "outputs": []
    },
    {
      "cell_type": "markdown",
      "source": [
        "# Findings and Explorations"
      ],
      "metadata": {
        "id": "aggGGx85nA23"
      }
    },
    {
      "cell_type": "markdown",
      "source": [
        "# Cleaning Process"
      ],
      "metadata": {
        "id": "RAQAXdlinA23"
      }
    },
    {
      "cell_type": "markdown",
      "source": [
        "- The data has no too much missing values. All columns was checked.\n",
        "- I choose rows which has higher than 0 weekly sales. Minus values are 0.3% of data. So, I dropped them.\n",
        "- Null values in markdowns changed to zero. Because, they were written as null if there were no markdown on this department."
      ],
      "metadata": {
        "id": "a7HCfG-tnA23"
      }
    },
    {
      "cell_type": "markdown",
      "source": [
        "# Explorations & Findings"
      ],
      "metadata": {
        "id": "EhdXV6YtnA23"
      }
    },
    {
      "cell_type": "markdown",
      "source": [
        "- There are 45 stores and 81 department in data. Departments are not same in all stores.\n",
        "- Although department 72 has higher weekly sales values, on average department 92 is the best. It shows us, some departments has higher values as seasonal like Thanksgiving. It is consistant when we look at the top 5 sales in data, all of them belongs to 72th department at Thanksgiving holiday time.\n",
        "- Although stores 10 and 35 have higher weekly sales values sometimes, in general average store 20 and store 4 are on the first and second rank. It means that some areas has higher seasonal sales.\n",
        "- Stores has 3 types as A, B and C according to their sizes. Almost half of the stores are bigger than 150000 and categorized as A. According to type, sales of the stores are changing.\n",
        "- As expected, holiday average sales are higher than normal dates.\n",
        "- Christmas holiday introduces as the last days of the year. But people generally shop at 51th week. So, when we look at the total sales of holidays, Thankgiving has higher sales between them which was assigned by Walmart.\n",
        "- Year 2010 has higher sales than 2011 and 2012. But, November and December sales are not in the data for 2012. Even without highest sale months, 2012 is not significantly less than 2010, so after adding last two months, it can be first.\n",
        "- It is obviously seen that week 51 and 47 have higher values and 50-48 weeks follow them. Interestingly, 5th top sales belongs to 22th week of the year. This results show that Christmas, Thankgiving and Black Friday are very important than other weeks for sales and 5th important time is 22th week of the year and it is end of the May, when schools are closed. Most probably, people are preparing for holiday at the end of the May.\n",
        "- January sales are significantly less than other months. This is the result of November and December high sales. After two high sales month, people prefer to pay less on January.\n",
        "- CPI, temperature, unemployment rate and fuel price have no pattern on weekly sales.\n"
      ],
      "metadata": {
        "id": "DcHdK4BdnA23"
      }
    },
    {
      "cell_type": "markdown",
      "source": [
        "# First Trial with Random Forest"
      ],
      "metadata": {
        "id": "N_CU38p6nA23"
      }
    },
    {
      "cell_type": "markdown",
      "source": [
        "Generally, Rondom Forest Regressor gives good results when we tune it well. So, to find simple baseline model, I will use RandomForestRegressor in this notebook. Also, feature importance for model can be found in this notebook.\n",
        "\n",
        "Our metric for this project is weighted mean absolute error (WMAE):"
      ],
      "metadata": {
        "id": "7AIaA4pCnA23"
      }
    },
    {
      "cell_type": "markdown",
      "source": [
        "![title](https://miro.medium.com/max/990/1*VKYKK85ViLYUUjyOWVURfw.jpeg)"
      ],
      "metadata": {
        "id": "iUkr7wURnA23"
      }
    },
    {
      "cell_type": "markdown",
      "source": [
        "where\n",
        "\n",
        "- n is the number of rows\n",
        "- ŷ i is the predicted sales\n",
        "- yi is the actual sales\n",
        "- wi are weights. w = 5 if the week is a holiday week, 1 otherwise"
      ],
      "metadata": {
        "id": "Sm8y73xYnA23"
      }
    },
    {
      "cell_type": "markdown",
      "source": [
        "With this metric, the error at holiday weeks has 5 times weight more than normal weeks. So, it is more important to predict sales at holiday weeks accurately.\n",
        "All results for trails can be found at the end of this notebook."
      ],
      "metadata": {
        "id": "5HGVM9KxnA24"
      }
    },
    {
      "cell_type": "code",
      "source": [
        "pd.options.display.max_columns=100 # to see columns"
      ],
      "metadata": {
        "execution": {
          "iopub.status.busy": "2022-04-22T05:37:27.505389Z",
          "iopub.execute_input": "2022-04-22T05:37:27.505665Z",
          "iopub.status.idle": "2022-04-22T05:37:27.511289Z",
          "shell.execute_reply.started": "2022-04-22T05:37:27.505627Z",
          "shell.execute_reply": "2022-04-22T05:37:27.510391Z"
        },
        "trusted": true,
        "id": "5LwWp0HKnA24"
      },
      "execution_count": null,
      "outputs": []
    },
    {
      "cell_type": "code",
      "source": [
        "df = pd.read_csv('./clean_data.csv')"
      ],
      "metadata": {
        "execution": {
          "iopub.status.busy": "2022-04-22T05:37:27.513139Z",
          "iopub.execute_input": "2022-04-22T05:37:27.513886Z",
          "iopub.status.idle": "2022-04-22T05:37:28.645902Z",
          "shell.execute_reply.started": "2022-04-22T05:37:27.513837Z",
          "shell.execute_reply": "2022-04-22T05:37:28.645034Z"
        },
        "trusted": true,
        "id": "pvwfzz9onA24"
      },
      "execution_count": null,
      "outputs": []
    },
    {
      "cell_type": "code",
      "source": [
        "df.drop(columns=['Unnamed: 0'],inplace=True)"
      ],
      "metadata": {
        "execution": {
          "iopub.status.busy": "2022-04-22T05:37:28.647506Z",
          "iopub.execute_input": "2022-04-22T05:37:28.647846Z",
          "iopub.status.idle": "2022-04-22T05:37:28.674081Z",
          "shell.execute_reply.started": "2022-04-22T05:37:28.647795Z",
          "shell.execute_reply": "2022-04-22T05:37:28.672914Z"
        },
        "trusted": true,
        "id": "m5OgiPI_nA24"
      },
      "execution_count": null,
      "outputs": []
    },
    {
      "cell_type": "code",
      "source": [
        "df['Date'] = pd.to_datetime(df['Date']) # changing datetime to divide if needs"
      ],
      "metadata": {
        "execution": {
          "iopub.status.busy": "2022-04-22T05:37:28.675852Z",
          "iopub.execute_input": "2022-04-22T05:37:28.676204Z",
          "iopub.status.idle": "2022-04-22T05:37:28.768675Z",
          "shell.execute_reply.started": "2022-04-22T05:37:28.676161Z",
          "shell.execute_reply": "2022-04-22T05:37:28.767852Z"
        },
        "trusted": true,
        "id": "2Ai0FrcMnA24"
      },
      "execution_count": null,
      "outputs": []
    },
    {
      "cell_type": "markdown",
      "source": [
        "# Encoding the Data"
      ],
      "metadata": {
        "id": "bkWniL1dnA24"
      }
    },
    {
      "cell_type": "markdown",
      "source": [
        "For preprocessing our data, I will change holidays boolean values to 0-1 and replace type of the stores from A, B, C to 1, 2, 3."
      ],
      "metadata": {
        "id": "McQK9NDbnA24"
      }
    },
    {
      "cell_type": "code",
      "source": [
        "df_encoded = df.copy() # to keep original dataframe taking copy of it"
      ],
      "metadata": {
        "execution": {
          "iopub.status.busy": "2022-04-22T05:37:28.769912Z",
          "iopub.execute_input": "2022-04-22T05:37:28.77059Z",
          "iopub.status.idle": "2022-04-22T05:37:28.796927Z",
          "shell.execute_reply.started": "2022-04-22T05:37:28.770547Z",
          "shell.execute_reply": "2022-04-22T05:37:28.796087Z"
        },
        "trusted": true,
        "id": "i-kPPMrXnA24"
      },
      "execution_count": null,
      "outputs": []
    },
    {
      "cell_type": "code",
      "source": [
        "type_group = {'A':1, 'B': 2, 'C': 3}  # changing A,B,C to 1-2-3\n",
        "df_encoded['Type'] = df_encoded['Type'].replace(type_group)"
      ],
      "metadata": {
        "execution": {
          "iopub.status.busy": "2022-04-22T05:37:28.798367Z",
          "iopub.execute_input": "2022-04-22T05:37:28.798826Z",
          "iopub.status.idle": "2022-04-22T05:37:29.069546Z",
          "shell.execute_reply.started": "2022-04-22T05:37:28.798776Z",
          "shell.execute_reply": "2022-04-22T05:37:29.068754Z"
        },
        "trusted": true,
        "id": "de_WIq1cnA24"
      },
      "execution_count": null,
      "outputs": []
    },
    {
      "cell_type": "code",
      "source": [
        "df_encoded['Super_Bowl'] = df_encoded['Super_Bowl'].astype(bool).astype(int) # changing T,F to 0-1"
      ],
      "metadata": {
        "execution": {
          "iopub.status.busy": "2022-04-22T05:37:29.07282Z",
          "iopub.execute_input": "2022-04-22T05:37:29.073062Z",
          "iopub.status.idle": "2022-04-22T05:37:29.080717Z",
          "shell.execute_reply.started": "2022-04-22T05:37:29.073032Z",
          "shell.execute_reply": "2022-04-22T05:37:29.079731Z"
        },
        "trusted": true,
        "id": "w0rpvEXInA24"
      },
      "execution_count": null,
      "outputs": []
    },
    {
      "cell_type": "code",
      "source": [
        "df_encoded['Thanksgiving'] = df_encoded['Thanksgiving'].astype(bool).astype(int) # changing T,F to 0-1"
      ],
      "metadata": {
        "execution": {
          "iopub.status.busy": "2022-04-22T05:37:29.082257Z",
          "iopub.execute_input": "2022-04-22T05:37:29.082902Z",
          "iopub.status.idle": "2022-04-22T05:37:29.093472Z",
          "shell.execute_reply.started": "2022-04-22T05:37:29.082861Z",
          "shell.execute_reply": "2022-04-22T05:37:29.092552Z"
        },
        "trusted": true,
        "id": "4kotg7hGnA25"
      },
      "execution_count": null,
      "outputs": []
    },
    {
      "cell_type": "code",
      "source": [
        "df_encoded['Labor_Day'] = df_encoded['Labor_Day'].astype(bool).astype(int) # changing T,F to 0-1"
      ],
      "metadata": {
        "execution": {
          "iopub.status.busy": "2022-04-22T05:37:29.095294Z",
          "iopub.execute_input": "2022-04-22T05:37:29.095617Z",
          "iopub.status.idle": "2022-04-22T05:37:29.105028Z",
          "shell.execute_reply.started": "2022-04-22T05:37:29.095576Z",
          "shell.execute_reply": "2022-04-22T05:37:29.104091Z"
        },
        "trusted": true,
        "id": "RFselUTynA25"
      },
      "execution_count": null,
      "outputs": []
    },
    {
      "cell_type": "code",
      "source": [
        "df_encoded['Christmas'] = df_encoded['Christmas'].astype(bool).astype(int) # changing T,F to 0-1"
      ],
      "metadata": {
        "execution": {
          "iopub.status.busy": "2022-04-22T05:37:29.106612Z",
          "iopub.execute_input": "2022-04-22T05:37:29.107174Z",
          "iopub.status.idle": "2022-04-22T05:37:29.115877Z",
          "shell.execute_reply.started": "2022-04-22T05:37:29.107073Z",
          "shell.execute_reply": "2022-04-22T05:37:29.115032Z"
        },
        "trusted": true,
        "id": "BTNuaSvwnA25"
      },
      "execution_count": null,
      "outputs": []
    },
    {
      "cell_type": "code",
      "source": [
        "df_encoded['IsHoliday'] = df_encoded['IsHoliday'].astype(bool).astype(int) # changing T,F to 0-1"
      ],
      "metadata": {
        "execution": {
          "iopub.status.busy": "2022-04-22T05:37:29.119199Z",
          "iopub.execute_input": "2022-04-22T05:37:29.11947Z",
          "iopub.status.idle": "2022-04-22T05:37:29.128669Z",
          "shell.execute_reply.started": "2022-04-22T05:37:29.119439Z",
          "shell.execute_reply": "2022-04-22T05:37:29.127787Z"
        },
        "trusted": true,
        "id": "Tuttn3CQnA25"
      },
      "execution_count": null,
      "outputs": []
    },
    {
      "cell_type": "code",
      "source": [
        "df_new = df_encoded.copy() # taking the copy of encoded df to keep it original"
      ],
      "metadata": {
        "execution": {
          "iopub.status.busy": "2022-04-22T05:37:29.131888Z",
          "iopub.execute_input": "2022-04-22T05:37:29.132377Z",
          "iopub.status.idle": "2022-04-22T05:37:29.198168Z",
          "shell.execute_reply.started": "2022-04-22T05:37:29.132337Z",
          "shell.execute_reply": "2022-04-22T05:37:29.197277Z"
        },
        "trusted": true,
        "id": "wXD8TwrVnA25"
      },
      "execution_count": null,
      "outputs": []
    },
    {
      "cell_type": "markdown",
      "source": [
        "# Observation of Interactions between Features"
      ],
      "metadata": {
        "id": "-eY0IgsXnA25"
      }
    },
    {
      "cell_type": "markdown",
      "source": [
        "Firstly, i will drop divided holiday columns from my data and try without them. To keep my encoded data safe, I assigned my dataframe to new one and I will use for this."
      ],
      "metadata": {
        "id": "Aime7Ce2nA25"
      }
    },
    {
      "cell_type": "code",
      "source": [
        "drop_col = ['Super_Bowl','Labor_Day','Thanksgiving','Christmas']\n",
        "df_new.drop(drop_col, axis=1, inplace=True) # dropping columns"
      ],
      "metadata": {
        "execution": {
          "iopub.status.busy": "2022-04-22T05:37:29.199777Z",
          "iopub.execute_input": "2022-04-22T05:37:29.200071Z",
          "iopub.status.idle": "2022-04-22T05:37:29.225389Z",
          "shell.execute_reply.started": "2022-04-22T05:37:29.200032Z",
          "shell.execute_reply": "2022-04-22T05:37:29.224545Z"
        },
        "trusted": true,
        "id": "QJArWTzrnA25"
      },
      "execution_count": null,
      "outputs": []
    },
    {
      "cell_type": "code",
      "source": [
        "plt.figure(figsize = (12,10))\n",
        "sns.heatmap(df_new.corr().abs())    # To see the correlations\n",
        "plt.show()"
      ],
      "metadata": {
        "execution": {
          "iopub.status.busy": "2022-04-22T05:37:29.229016Z",
          "iopub.execute_input": "2022-04-22T05:37:29.229266Z",
          "iopub.status.idle": "2022-04-22T05:37:30.099387Z",
          "shell.execute_reply.started": "2022-04-22T05:37:29.229237Z",
          "shell.execute_reply": "2022-04-22T05:37:30.098625Z"
        },
        "trusted": true,
        "id": "CofAaNGhnA25"
      },
      "execution_count": null,
      "outputs": []
    },
    {
      "cell_type": "markdown",
      "source": [
        "Temperature, unemployment, CPI have no significant effect on weekly sales, so I will drop them. Also, Markdown 4 and 5 highly correlated with Markdown 1. So, I will drop them also. It can create multicollinearity problem, maybe. So, first I will try without them."
      ],
      "metadata": {
        "id": "gWM6cH7qnA25"
      }
    },
    {
      "cell_type": "code",
      "source": [
        "drop_col = ['Temperature','MarkDown4','MarkDown5','CPI','Unemployment']\n",
        "df_new.drop(drop_col, axis=1, inplace=True) # dropping columns"
      ],
      "metadata": {
        "execution": {
          "iopub.status.busy": "2022-04-22T05:37:30.100972Z",
          "iopub.execute_input": "2022-04-22T05:37:30.101485Z",
          "iopub.status.idle": "2022-04-22T05:37:30.124465Z",
          "shell.execute_reply.started": "2022-04-22T05:37:30.101441Z",
          "shell.execute_reply": "2022-04-22T05:37:30.123058Z"
        },
        "trusted": true,
        "id": "xzzTRuYQnA26"
      },
      "execution_count": null,
      "outputs": []
    },
    {
      "cell_type": "code",
      "source": [
        "plt.figure(figsize = (12,10))\n",
        "sns.heatmap(df_new.corr().abs())    # To see the correlations without dropping columns\n",
        "plt.show()"
      ],
      "metadata": {
        "execution": {
          "iopub.status.busy": "2022-04-22T05:37:30.126136Z",
          "iopub.execute_input": "2022-04-22T05:37:30.126492Z",
          "iopub.status.idle": "2022-04-22T05:37:30.905279Z",
          "shell.execute_reply.started": "2022-04-22T05:37:30.126447Z",
          "shell.execute_reply": "2022-04-22T05:37:30.904488Z"
        },
        "trusted": true,
        "id": "24Gnn3oEnA26"
      },
      "execution_count": null,
      "outputs": []
    },
    {
      "cell_type": "markdown",
      "source": [
        "Size and type are highly correlated with weekly sales. Also, department and store are correlated with sales."
      ],
      "metadata": {
        "id": "EyVrUDlOnA26"
      }
    },
    {
      "cell_type": "code",
      "source": [
        "df_new = df_new.sort_values(by='Date', ascending=True) # sorting according to date"
      ],
      "metadata": {
        "execution": {
          "iopub.status.busy": "2022-04-22T05:37:30.909615Z",
          "iopub.execute_input": "2022-04-22T05:37:30.911711Z",
          "iopub.status.idle": "2022-04-22T05:37:30.997619Z",
          "shell.execute_reply.started": "2022-04-22T05:37:30.911667Z",
          "shell.execute_reply": "2022-04-22T05:37:30.996653Z"
        },
        "trusted": true,
        "id": "E16a7o5InA26"
      },
      "execution_count": null,
      "outputs": []
    },
    {
      "cell_type": "markdown",
      "source": [
        "# Creating Train-Test Splits"
      ],
      "metadata": {
        "id": "0uAOTTWjnA26"
      }
    },
    {
      "cell_type": "markdown",
      "source": [
        "Our date column has continuos values, to keep the date features continue, I will not take random splitting. so, I split data manually according to 70%."
      ],
      "metadata": {
        "id": "u6vNhuIMnA26"
      }
    },
    {
      "cell_type": "code",
      "source": [
        "train_data = df_new[:int(0.7*(len(df_new)))] # taking train part\n",
        "test_data = df_new[int(0.7*(len(df_new))):] # taking test part\n",
        "\n",
        "target = \"Weekly_Sales\"\n",
        "used_cols = [c for c in df_new.columns.to_list() if c not in [target]] # all columns except weekly sales\n",
        "\n",
        "X_train = train_data[used_cols]\n",
        "X_test = test_data[used_cols]\n",
        "y_train = train_data[target]\n",
        "y_test = test_data[target]"
      ],
      "metadata": {
        "execution": {
          "iopub.status.busy": "2022-04-22T05:37:30.998925Z",
          "iopub.execute_input": "2022-04-22T05:37:30.999346Z",
          "iopub.status.idle": "2022-04-22T05:37:31.022195Z",
          "shell.execute_reply.started": "2022-04-22T05:37:30.999305Z",
          "shell.execute_reply": "2022-04-22T05:37:31.021372Z"
        },
        "trusted": true,
        "id": "5vBUwAP9nA26"
      },
      "execution_count": null,
      "outputs": []
    },
    {
      "cell_type": "code",
      "source": [
        "X = df_new[used_cols] # to keep train and test X values together"
      ],
      "metadata": {
        "execution": {
          "iopub.status.busy": "2022-04-22T05:37:31.027668Z",
          "iopub.execute_input": "2022-04-22T05:37:31.028348Z",
          "iopub.status.idle": "2022-04-22T05:37:31.058069Z",
          "shell.execute_reply.started": "2022-04-22T05:37:31.028308Z",
          "shell.execute_reply": "2022-04-22T05:37:31.057177Z"
        },
        "trusted": true,
        "id": "TdOXB48_nA26"
      },
      "execution_count": null,
      "outputs": []
    },
    {
      "cell_type": "markdown",
      "source": [
        "We have enough information in our date such as week of the year. So, I drop date columns."
      ],
      "metadata": {
        "id": "9lyOIrWpnA26"
      }
    },
    {
      "cell_type": "code",
      "source": [
        "X_train = X_train.drop(['Date'], axis=1) # dropping date from train\n",
        "X_test = X_test.drop(['Date'], axis=1) # dropping date from test"
      ],
      "metadata": {
        "execution": {
          "iopub.status.busy": "2022-04-22T05:37:31.062885Z",
          "iopub.execute_input": "2022-04-22T05:37:31.065006Z",
          "iopub.status.idle": "2022-04-22T05:37:31.09555Z",
          "shell.execute_reply.started": "2022-04-22T05:37:31.064961Z",
          "shell.execute_reply": "2022-04-22T05:37:31.094796Z"
        },
        "trusted": true,
        "id": "xOzLOWGNnA26"
      },
      "execution_count": null,
      "outputs": []
    },
    {
      "cell_type": "markdown",
      "source": [
        "# Metric Definition Function"
      ],
      "metadata": {
        "id": "YshcN7LGnA26"
      }
    },
    {
      "cell_type": "markdown",
      "source": [
        "Our metric is not calculated as default from ready models. It is weighed error so, I will use function below to calculate it."
      ],
      "metadata": {
        "id": "fJp98N-DnA26"
      }
    },
    {
      "cell_type": "code",
      "source": [
        "def wmae_test(test, pred): # WMAE for test\n",
        "    weights = X_test['IsHoliday'].apply(lambda is_holiday:5 if is_holiday else 1)\n",
        "    error = np.sum(weights * np.abs(test - pred), axis=0) / np.sum(weights)\n",
        "    return error"
      ],
      "metadata": {
        "execution": {
          "iopub.status.busy": "2022-04-22T05:37:31.100533Z",
          "iopub.execute_input": "2022-04-22T05:37:31.103028Z",
          "iopub.status.idle": "2022-04-22T05:37:31.111279Z",
          "shell.execute_reply.started": "2022-04-22T05:37:31.102975Z",
          "shell.execute_reply": "2022-04-22T05:37:31.110433Z"
        },
        "trusted": true,
        "id": "H9maRLqxnA27"
      },
      "execution_count": null,
      "outputs": []
    },
    {
      "cell_type": "markdown",
      "source": [
        "# Random Forest Regressor"
      ],
      "metadata": {
        "id": "L_7GDmYFnA27"
      }
    },
    {
      "cell_type": "markdown",
      "source": [
        "To tune the regressor, I can use gridsearch but it takes too much time for this type of data which has many rows and columns. So, I choose regressor parameters manually. I changed the parameters each time and try to find the best result."
      ],
      "metadata": {
        "id": "x8yeIC2CnA27"
      }
    },
    {
      "cell_type": "code",
      "source": [
        "rf = RandomForestRegressor(n_estimators=50, random_state=42, n_jobs=-1, max_depth=35,\n",
        "                           max_features = 'sqrt',min_samples_split = 10)\n",
        "\n",
        "from sklearn.preprocessing import RobustScaler\n",
        "scaler = RobustScaler()\n",
        "\n",
        "\n",
        "\n",
        "#making pipe tp use scaler and regressor together\n",
        "pipe = make_pipeline(scaler,rf)\n",
        "\n",
        "pipe.fit(X_train, y_train)\n",
        "\n",
        "# predictions on train set\n",
        "y_pred = pipe.predict(X_train)\n",
        "\n",
        "# predictions on test set\n",
        "y_pred_test = pipe.predict(X_test)"
      ],
      "metadata": {
        "execution": {
          "iopub.status.busy": "2022-04-22T05:37:31.113123Z",
          "iopub.execute_input": "2022-04-22T05:37:31.113666Z",
          "iopub.status.idle": "2022-04-22T05:37:44.031199Z",
          "shell.execute_reply.started": "2022-04-22T05:37:31.113622Z",
          "shell.execute_reply": "2022-04-22T05:37:44.030363Z"
        },
        "trusted": true,
        "id": "9QiFB7NmnA27"
      },
      "execution_count": null,
      "outputs": []
    },
    {
      "cell_type": "code",
      "source": [
        "wmae_test(y_test, y_pred_test)"
      ],
      "metadata": {
        "execution": {
          "iopub.status.busy": "2022-04-22T05:37:44.032468Z",
          "iopub.execute_input": "2022-04-22T05:37:44.032755Z",
          "iopub.status.idle": "2022-04-22T05:37:44.106989Z",
          "shell.execute_reply.started": "2022-04-22T05:37:44.032701Z",
          "shell.execute_reply": "2022-04-22T05:37:44.1061Z"
        },
        "trusted": true,
        "id": "InCJ_7kSnA27"
      },
      "execution_count": null,
      "outputs": []
    },
    {
      "cell_type": "markdown",
      "source": [
        "For the first trial, my weighted error is around 5850."
      ],
      "metadata": {
        "id": "AALKM0h0nA27"
      }
    },
    {
      "cell_type": "markdown",
      "source": [
        "# To See Feature Importance"
      ],
      "metadata": {
        "id": "a7hBq8WBnA27"
      }
    },
    {
      "cell_type": "code",
      "source": [
        "X = X.drop(['Date'], axis=1) #dropping date column from X"
      ],
      "metadata": {
        "execution": {
          "iopub.status.busy": "2022-04-22T05:37:44.108567Z",
          "iopub.execute_input": "2022-04-22T05:37:44.108959Z",
          "iopub.status.idle": "2022-04-22T05:37:44.121875Z",
          "shell.execute_reply.started": "2022-04-22T05:37:44.108916Z",
          "shell.execute_reply": "2022-04-22T05:37:44.121155Z"
        },
        "trusted": true,
        "id": "ZnYzyFtenA27"
      },
      "execution_count": null,
      "outputs": []
    },
    {
      "cell_type": "markdown",
      "source": [
        "Below code cell was taken from our instructor Bryan Arnold's notebook. I changed the code according to my data and see the plot."
      ],
      "metadata": {
        "id": "oOCMRUTknA28"
      }
    },
    {
      "cell_type": "code",
      "source": [
        "importances = rf.feature_importances_\n",
        "std = np.std([tree.feature_importances_ for tree in rf.estimators_],\n",
        "             axis=0)\n",
        "indices = np.argsort(importances)[::-1]\n",
        "\n",
        "# Printing the feature ranking\n",
        "print(\"Feature ranking:\")\n",
        "\n",
        "for f in range(X.shape[1]):\n",
        "    print(\"%d. feature %d (%f)\" % (f + 1, indices[f], importances[indices[f]]))\n",
        "\n",
        "# Plotting the feature importances of the forest\n",
        "plt.figure()\n",
        "plt.title(\"Feature importances\")\n",
        "plt.bar(range(X.shape[1]), importances[indices],\n",
        "       color=\"r\", yerr=std[indices], align=\"center\")\n",
        "plt.xticks(range(X.shape[1]), indices)\n",
        "plt.xlim([-1, X.shape[1]])\n",
        "plt.show()"
      ],
      "metadata": {
        "execution": {
          "iopub.status.busy": "2022-04-22T05:37:44.123068Z",
          "iopub.execute_input": "2022-04-22T05:37:44.123703Z",
          "iopub.status.idle": "2022-04-22T05:37:44.528946Z",
          "shell.execute_reply.started": "2022-04-22T05:37:44.123666Z",
          "shell.execute_reply": "2022-04-22T05:37:44.528154Z"
        },
        "trusted": true,
        "id": "RRZKlM7fnA28"
      },
      "execution_count": null,
      "outputs": []
    },
    {
      "cell_type": "markdown",
      "source": [
        "After looking feature importance, I dropped least important 3-4 features and tried the model. I found the best result when I dropped month column which is highly correlated with week."
      ],
      "metadata": {
        "id": "YVuDX5hxnA28"
      }
    },
    {
      "cell_type": "code",
      "source": [
        "X1_train = X_train.drop(['month'], axis=1) # dropping month\n",
        "X1_test = X_test.drop(['month'], axis=1)"
      ],
      "metadata": {
        "execution": {
          "iopub.status.busy": "2022-04-22T05:37:44.530488Z",
          "iopub.execute_input": "2022-04-22T05:37:44.530787Z",
          "iopub.status.idle": "2022-04-22T05:37:44.544646Z",
          "shell.execute_reply.started": "2022-04-22T05:37:44.530746Z",
          "shell.execute_reply": "2022-04-22T05:37:44.543849Z"
        },
        "trusted": true,
        "id": "hAlFRv0fnA28"
      },
      "execution_count": null,
      "outputs": []
    },
    {
      "cell_type": "markdown",
      "source": [
        "# Model Again without Month"
      ],
      "metadata": {
        "id": "AmxoSL31nA28"
      }
    },
    {
      "cell_type": "code",
      "source": [
        "rf = RandomForestRegressor(n_estimators=50, random_state=42, n_jobs=-1, max_depth=35,\n",
        "                           max_features = 'sqrt',min_samples_split = 10)\n",
        "\n",
        "scaler=RobustScaler()\n",
        "pipe = make_pipeline(scaler,rf)\n",
        "\n",
        "pipe.fit(X1_train, y_train)\n",
        "\n",
        "# predictions on train set\n",
        "y_pred = pipe.predict(X1_train)\n",
        "\n",
        "# predictions on test set\n",
        "y_pred_test = pipe.predict(X1_test)"
      ],
      "metadata": {
        "execution": {
          "iopub.status.busy": "2022-04-22T05:37:44.545714Z",
          "iopub.execute_input": "2022-04-22T05:37:44.546361Z",
          "iopub.status.idle": "2022-04-22T05:37:56.935285Z",
          "shell.execute_reply.started": "2022-04-22T05:37:44.546318Z",
          "shell.execute_reply": "2022-04-22T05:37:56.934507Z"
        },
        "trusted": true,
        "id": "UdstIh8xnA28"
      },
      "execution_count": null,
      "outputs": []
    },
    {
      "cell_type": "code",
      "source": [
        "wmae_test(y_test, y_pred_test)"
      ],
      "metadata": {
        "execution": {
          "iopub.status.busy": "2022-04-22T05:37:56.93857Z",
          "iopub.execute_input": "2022-04-22T05:37:56.938818Z",
          "iopub.status.idle": "2022-04-22T05:37:57.060778Z",
          "shell.execute_reply.started": "2022-04-22T05:37:56.938781Z",
          "shell.execute_reply": "2022-04-22T05:37:57.059658Z"
        },
        "trusted": true,
        "id": "smVzzFCInA28"
      },
      "execution_count": null,
      "outputs": []
    },
    {
      "cell_type": "markdown",
      "source": [
        "It gives better results than baseline."
      ],
      "metadata": {
        "id": "u2T-Dp2HnA29"
      }
    },
    {
      "cell_type": "markdown",
      "source": [
        "# Model with Whole Data"
      ],
      "metadata": {
        "id": "csWJddxvnA29"
      }
    },
    {
      "cell_type": "markdown",
      "source": [
        "Now, I want to make sure that my model will learn from the columns which I dropped or not. So, I will apply my model to whole encoded data again."
      ],
      "metadata": {
        "id": "pGXZ-KkrnA29"
      }
    },
    {
      "cell_type": "code",
      "source": [
        "# splitting train-test to whole dataset\n",
        "train_data_enc = df_encoded[:int(0.7*(len(df_encoded)))]\n",
        "test_data_enc = df_encoded[int(0.7*(len(df_encoded))):]\n",
        "\n",
        "target = \"Weekly_Sales\"\n",
        "used_cols1 = [c for c in df_encoded.columns.to_list() if c not in [target]] # all columns except price\n",
        "\n",
        "X_train_enc = train_data_enc[used_cols1]\n",
        "X_test_enc = test_data_enc[used_cols1]\n",
        "y_train_enc = train_data_enc[target]\n",
        "y_test_enc = test_data_enc[target]"
      ],
      "metadata": {
        "execution": {
          "iopub.status.busy": "2022-04-22T05:37:57.065375Z",
          "iopub.execute_input": "2022-04-22T05:37:57.065773Z",
          "iopub.status.idle": "2022-04-22T05:37:57.141154Z",
          "shell.execute_reply.started": "2022-04-22T05:37:57.065716Z",
          "shell.execute_reply": "2022-04-22T05:37:57.140234Z"
        },
        "trusted": true,
        "id": "IN-WGsfjnA29"
      },
      "execution_count": null,
      "outputs": []
    },
    {
      "cell_type": "code",
      "source": [
        "X_enc = df_encoded[used_cols1] # to get together train,test splits"
      ],
      "metadata": {
        "execution": {
          "iopub.status.busy": "2022-04-22T05:37:57.142371Z",
          "iopub.execute_input": "2022-04-22T05:37:57.142641Z",
          "iopub.status.idle": "2022-04-22T05:37:57.219481Z",
          "shell.execute_reply.started": "2022-04-22T05:37:57.142604Z",
          "shell.execute_reply": "2022-04-22T05:37:57.2183Z"
        },
        "trusted": true,
        "id": "ers5_ufWnA29"
      },
      "execution_count": null,
      "outputs": []
    },
    {
      "cell_type": "code",
      "source": [
        "X_enc = X_enc.drop(['Date'], axis=1) #dropping date column for whole X"
      ],
      "metadata": {
        "execution": {
          "iopub.status.busy": "2022-04-22T05:37:57.22107Z",
          "iopub.execute_input": "2022-04-22T05:37:57.221338Z",
          "iopub.status.idle": "2022-04-22T05:37:57.257546Z",
          "shell.execute_reply.started": "2022-04-22T05:37:57.221299Z",
          "shell.execute_reply": "2022-04-22T05:37:57.256693Z"
        },
        "trusted": true,
        "id": "BU6xeNGrnA29"
      },
      "execution_count": null,
      "outputs": []
    },
    {
      "cell_type": "code",
      "source": [
        "X_train_enc = X_train_enc.drop(['Date'], axis=1) # dropping date from train and test\n",
        "X_test_enc= X_test_enc.drop(['Date'], axis=1)"
      ],
      "metadata": {
        "execution": {
          "iopub.status.busy": "2022-04-22T05:37:57.259036Z",
          "iopub.execute_input": "2022-04-22T05:37:57.259445Z",
          "iopub.status.idle": "2022-04-22T05:37:57.28366Z",
          "shell.execute_reply.started": "2022-04-22T05:37:57.259404Z",
          "shell.execute_reply": "2022-04-22T05:37:57.282944Z"
        },
        "trusted": true,
        "id": "3_LAFEnxnA29"
      },
      "execution_count": null,
      "outputs": []
    },
    {
      "cell_type": "code",
      "source": [
        "rf = RandomForestRegressor(n_estimators=50, random_state=42, n_jobs=-1, max_depth=35,\n",
        "                           max_features = 'sqrt',min_samples_split = 10)\n",
        "\n",
        "scaler=RobustScaler()\n",
        "pipe = make_pipeline(scaler,rf)\n",
        "\n",
        "pipe.fit(X_train_enc, y_train_enc)\n",
        "\n",
        "# predictions on train set\n",
        "y_pred_enc = pipe.predict(X_train_enc)\n",
        "\n",
        "# predictions on test set\n",
        "y_pred_test_enc = pipe.predict(X_test_enc)"
      ],
      "metadata": {
        "execution": {
          "iopub.status.busy": "2022-04-22T05:37:57.285077Z",
          "iopub.execute_input": "2022-04-22T05:37:57.285484Z",
          "iopub.status.idle": "2022-04-22T05:38:11.97864Z",
          "shell.execute_reply.started": "2022-04-22T05:37:57.285445Z",
          "shell.execute_reply": "2022-04-22T05:38:11.977805Z"
        },
        "trusted": true,
        "id": "ExBz-QvynA29"
      },
      "execution_count": null,
      "outputs": []
    },
    {
      "cell_type": "code",
      "source": [
        "wmae_test(y_test_enc, y_pred_test_enc)"
      ],
      "metadata": {
        "execution": {
          "iopub.status.busy": "2022-04-22T05:38:11.980208Z",
          "iopub.execute_input": "2022-04-22T05:38:11.980483Z",
          "iopub.status.idle": "2022-04-22T05:38:12.082441Z",
          "shell.execute_reply.started": "2022-04-22T05:38:11.980445Z",
          "shell.execute_reply": "2022-04-22T05:38:12.081507Z"
        },
        "trusted": true,
        "id": "S4DC4qpwnA29"
      },
      "execution_count": null,
      "outputs": []
    },
    {
      "cell_type": "markdown",
      "source": [
        "We found better results for whole data, it means our model can learn from columns which I dropped before."
      ],
      "metadata": {
        "id": "ViOs2WEanA29"
      }
    },
    {
      "cell_type": "markdown",
      "source": [
        "# Feature Importance for Whole Encoded Dataset"
      ],
      "metadata": {
        "id": "UvJy__B3nA29"
      }
    },
    {
      "cell_type": "code",
      "source": [
        "importances = rf.feature_importances_\n",
        "std = np.std([tree.feature_importances_ for tree in rf.estimators_],\n",
        "             axis=0)\n",
        "indices = np.argsort(importances)[::-1]\n",
        "\n",
        "# Printing the feature ranking\n",
        "print(\"Feature ranking:\")\n",
        "\n",
        "for f in range(X_enc.shape[1]):\n",
        "    print(\"%d. feature %d (%f)\" % (f + 1, indices[f], importances[indices[f]]))\n",
        "\n",
        "# Plotting the feature importances of the forest\n",
        "plt.figure()\n",
        "plt.title(\"Feature importances\")\n",
        "plt.bar(range(X_enc.shape[1]), importances[indices],\n",
        "       color=\"r\", yerr=std[indices], align=\"center\")\n",
        "plt.xticks(range(X_enc.shape[1]), indices)\n",
        "plt.xlim([-1, X_enc.shape[1]])\n",
        "plt.show()"
      ],
      "metadata": {
        "execution": {
          "iopub.status.busy": "2022-04-22T05:38:12.083964Z",
          "iopub.execute_input": "2022-04-22T05:38:12.084412Z",
          "iopub.status.idle": "2022-04-22T05:38:12.548568Z",
          "shell.execute_reply.started": "2022-04-22T05:38:12.08437Z",
          "shell.execute_reply": "2022-04-22T05:38:12.547791Z"
        },
        "trusted": true,
        "id": "yH7IQ010nA29"
      },
      "execution_count": null,
      "outputs": []
    },
    {
      "cell_type": "markdown",
      "source": [
        "According to feature importance, I dropped some columns from whole set and try my model again."
      ],
      "metadata": {
        "id": "gEZ8mKpsnA2-"
      }
    },
    {
      "cell_type": "code",
      "source": [
        "df_encoded_new = df_encoded.copy() # taking copy of encoded data to keep it without change.\n",
        "df_encoded_new.drop(drop_col, axis=1, inplace=True)"
      ],
      "metadata": {
        "execution": {
          "iopub.status.busy": "2022-04-22T05:38:12.549825Z",
          "iopub.execute_input": "2022-04-22T05:38:12.550115Z",
          "iopub.status.idle": "2022-04-22T05:38:12.599322Z",
          "shell.execute_reply.started": "2022-04-22T05:38:12.550074Z",
          "shell.execute_reply": "2022-04-22T05:38:12.598429Z"
        },
        "trusted": true,
        "id": "zygQEAtVnA2-"
      },
      "execution_count": null,
      "outputs": []
    },
    {
      "cell_type": "markdown",
      "source": [
        "# Model According to Feature Importance"
      ],
      "metadata": {
        "id": "MltGGwxFnA2-"
      }
    },
    {
      "cell_type": "code",
      "source": [
        "#train-test splitting\n",
        "train_data_enc_new = df_encoded_new[:int(0.7*(len(df_encoded_new)))]\n",
        "test_data_enc_new = df_encoded_new[int(0.7*(len(df_encoded_new))):]\n",
        "\n",
        "target = \"Weekly_Sales\"\n",
        "used_cols2 = [c for c in df_encoded_new.columns.to_list() if c not in [target]] # all columns except price\n",
        "\n",
        "X_train_enc1 = train_data_enc_new[used_cols2]\n",
        "X_test_enc1 = test_data_enc_new[used_cols2]\n",
        "y_train_enc1 = train_data_enc_new[target]\n",
        "y_test_enc1 = test_data_enc_new[target]\n",
        "\n",
        "#droping date from train-test\n",
        "X_train_enc1 = X_train_enc1.drop(['Date'], axis=1)\n",
        "X_test_enc1= X_test_enc1.drop(['Date'], axis=1)"
      ],
      "metadata": {
        "execution": {
          "iopub.status.busy": "2022-04-22T05:38:12.600571Z",
          "iopub.execute_input": "2022-04-22T05:38:12.601316Z",
          "iopub.status.idle": "2022-04-22T05:38:12.643547Z",
          "shell.execute_reply.started": "2022-04-22T05:38:12.601262Z",
          "shell.execute_reply": "2022-04-22T05:38:12.64267Z"
        },
        "trusted": true,
        "id": "8OKXerT3nA2-"
      },
      "execution_count": null,
      "outputs": []
    },
    {
      "cell_type": "code",
      "source": [
        "rf = RandomForestRegressor(n_estimators=50, random_state=42, n_jobs=-1, max_depth=40,\n",
        "                           max_features = 'log2',min_samples_split = 10)\n",
        "\n",
        "scaler=RobustScaler()\n",
        "pipe = make_pipeline(scaler,rf)\n",
        "\n",
        "pipe.fit(X_train_enc1, y_train_enc1)\n",
        "\n",
        "# predictions on train set\n",
        "y_pred_enc = pipe.predict(X_train_enc1)\n",
        "\n",
        "# predictions on test set\n",
        "y_pred_test_enc = pipe.predict(X_test_enc1)"
      ],
      "metadata": {
        "execution": {
          "iopub.status.busy": "2022-04-22T05:38:12.644884Z",
          "iopub.execute_input": "2022-04-22T05:38:12.645597Z",
          "iopub.status.idle": "2022-04-22T05:38:25.583335Z",
          "shell.execute_reply.started": "2022-04-22T05:38:12.645551Z",
          "shell.execute_reply": "2022-04-22T05:38:25.582507Z"
        },
        "trusted": true,
        "id": "-OEE3Hn1nA2-"
      },
      "execution_count": null,
      "outputs": []
    },
    {
      "cell_type": "code",
      "source": [
        "pipe.score(X_test_enc1,y_test_enc1)"
      ],
      "metadata": {
        "execution": {
          "iopub.status.busy": "2022-04-22T05:38:25.584569Z",
          "iopub.execute_input": "2022-04-22T05:38:25.584878Z",
          "iopub.status.idle": "2022-04-22T05:38:26.0136Z",
          "shell.execute_reply.started": "2022-04-22T05:38:25.584839Z",
          "shell.execute_reply": "2022-04-22T05:38:26.012882Z"
        },
        "trusted": true,
        "id": "Md1sn3xznA2-"
      },
      "execution_count": null,
      "outputs": []
    },
    {
      "cell_type": "code",
      "source": [
        "wmae_test(y_test_enc1, y_pred_test_enc)"
      ],
      "metadata": {
        "execution": {
          "iopub.status.busy": "2022-04-22T05:38:26.015421Z",
          "iopub.execute_input": "2022-04-22T05:38:26.015723Z",
          "iopub.status.idle": "2022-04-22T05:38:26.1176Z",
          "shell.execute_reply.started": "2022-04-22T05:38:26.015682Z",
          "shell.execute_reply": "2022-04-22T05:38:26.116606Z"
        },
        "trusted": true,
        "id": "SwEBHb3unA2-"
      },
      "execution_count": null,
      "outputs": []
    },
    {
      "cell_type": "markdown",
      "source": [
        "I found best results with doing feature selection from whole encoded dataset."
      ],
      "metadata": {
        "id": "zoaozU6mnA2-"
      }
    },
    {
      "cell_type": "markdown",
      "source": [
        "# Model with Dropping Month Column"
      ],
      "metadata": {
        "id": "b28lm1mFnA2_"
      }
    },
    {
      "cell_type": "markdown",
      "source": [
        "With the same dateset before, I try to model again without month column."
      ],
      "metadata": {
        "id": "aptDnJuXnA2_"
      }
    },
    {
      "cell_type": "code",
      "source": [
        "df_encoded_new1 = df_encoded.copy()\n",
        "df_encoded_new1.drop(drop_col, axis=1, inplace=True)"
      ],
      "metadata": {
        "execution": {
          "iopub.status.busy": "2022-04-22T05:38:26.119422Z",
          "iopub.execute_input": "2022-04-22T05:38:26.119717Z",
          "iopub.status.idle": "2022-04-22T05:38:26.168473Z",
          "shell.execute_reply.started": "2022-04-22T05:38:26.119678Z",
          "shell.execute_reply": "2022-04-22T05:38:26.167639Z"
        },
        "trusted": true,
        "id": "xjtwAi3GnA2_"
      },
      "execution_count": null,
      "outputs": []
    },
    {
      "cell_type": "code",
      "source": [
        "df_encoded_new1 = df_encoded_new1.drop(['Date'], axis=1)"
      ],
      "metadata": {
        "execution": {
          "iopub.status.busy": "2022-04-22T05:38:26.170115Z",
          "iopub.execute_input": "2022-04-22T05:38:26.170419Z",
          "iopub.status.idle": "2022-04-22T05:38:26.19345Z",
          "shell.execute_reply.started": "2022-04-22T05:38:26.170377Z",
          "shell.execute_reply": "2022-04-22T05:38:26.192601Z"
        },
        "trusted": true,
        "id": "Hy3cd317nA2_"
      },
      "execution_count": null,
      "outputs": []
    },
    {
      "cell_type": "code",
      "source": [
        "df_encoded_new1 = df_encoded_new1.drop(['month'], axis=1)"
      ],
      "metadata": {
        "execution": {
          "iopub.status.busy": "2022-04-22T05:38:26.194805Z",
          "iopub.execute_input": "2022-04-22T05:38:26.195386Z",
          "iopub.status.idle": "2022-04-22T05:38:26.225548Z",
          "shell.execute_reply.started": "2022-04-22T05:38:26.195341Z",
          "shell.execute_reply": "2022-04-22T05:38:26.224625Z"
        },
        "trusted": true,
        "id": "C6P3OnN5nA2_"
      },
      "execution_count": null,
      "outputs": []
    },
    {
      "cell_type": "code",
      "source": [
        "#train-test split\n",
        "train_data_enc_new1 = df_encoded_new1[:int(0.7*(len(df_encoded_new1)))]\n",
        "test_data_enc_new1 = df_encoded_new1[int(0.7*(len(df_encoded_new1))):]\n",
        "\n",
        "target = \"Weekly_Sales\"\n",
        "used_cols3 = [c for c in df_encoded_new1.columns.to_list() if c not in [target]] # all columns except price\n",
        "\n",
        "X_train_enc2 = train_data_enc_new1[used_cols3]\n",
        "X_test_enc2 = test_data_enc_new1[used_cols3]\n",
        "y_train_enc2 = train_data_enc_new1[target]\n",
        "y_test_enc2 = test_data_enc_new1[target]"
      ],
      "metadata": {
        "execution": {
          "iopub.status.busy": "2022-04-22T05:38:26.227236Z",
          "iopub.execute_input": "2022-04-22T05:38:26.227677Z",
          "iopub.status.idle": "2022-04-22T05:38:26.252212Z",
          "shell.execute_reply.started": "2022-04-22T05:38:26.227589Z",
          "shell.execute_reply": "2022-04-22T05:38:26.251397Z"
        },
        "trusted": true,
        "id": "_myH1kB3nA2_"
      },
      "execution_count": null,
      "outputs": []
    },
    {
      "cell_type": "code",
      "source": [
        "#modeling part\n",
        "pipe = make_pipeline(scaler,rf)\n",
        "\n",
        "pipe.fit(X_train_enc2, y_train_enc2)\n",
        "\n",
        "# predictions on train set\n",
        "y_pred_enc = pipe.predict(X_train_enc2)\n",
        "\n",
        "# predictions on test set\n",
        "y_pred_test_enc = pipe.predict(X_test_enc2)"
      ],
      "metadata": {
        "execution": {
          "iopub.status.busy": "2022-04-22T05:38:26.253589Z",
          "iopub.execute_input": "2022-04-22T05:38:26.253965Z",
          "iopub.status.idle": "2022-04-22T05:38:37.811417Z",
          "shell.execute_reply.started": "2022-04-22T05:38:26.253922Z",
          "shell.execute_reply": "2022-04-22T05:38:37.810569Z"
        },
        "trusted": true,
        "id": "-MgdTVVLnA2_"
      },
      "execution_count": null,
      "outputs": []
    },
    {
      "cell_type": "code",
      "source": [
        "pipe.score(X_test_enc2,y_test_enc2)"
      ],
      "metadata": {
        "execution": {
          "iopub.status.busy": "2022-04-22T05:38:37.812995Z",
          "iopub.execute_input": "2022-04-22T05:38:37.813304Z",
          "iopub.status.idle": "2022-04-22T05:38:38.241434Z",
          "shell.execute_reply.started": "2022-04-22T05:38:37.813262Z",
          "shell.execute_reply": "2022-04-22T05:38:38.240697Z"
        },
        "trusted": true,
        "id": "SGFYlrsrnA3A"
      },
      "execution_count": null,
      "outputs": []
    },
    {
      "cell_type": "code",
      "source": [
        "wmae_test(y_test_enc2, y_pred_test_enc)"
      ],
      "metadata": {
        "execution": {
          "iopub.status.busy": "2022-04-22T05:38:38.242837Z",
          "iopub.execute_input": "2022-04-22T05:38:38.243103Z",
          "iopub.status.idle": "2022-04-22T05:38:38.344527Z",
          "shell.execute_reply.started": "2022-04-22T05:38:38.243064Z",
          "shell.execute_reply": "2022-04-22T05:38:38.34378Z"
        },
        "trusted": true,
        "id": "0rLkNNNGnA3A"
      },
      "execution_count": null,
      "outputs": []
    },
    {
      "cell_type": "markdown",
      "source": [
        "It did not give better results than before."
      ],
      "metadata": {
        "id": "XQYdrZLZnA3A"
      }
    },
    {
      "cell_type": "code",
      "source": [
        "df_results = pd.DataFrame(columns=[\"Model\", \"Info\",'WMAE']) # result df for showing results together"
      ],
      "metadata": {
        "execution": {
          "iopub.status.busy": "2022-04-22T05:38:38.345915Z",
          "iopub.execute_input": "2022-04-22T05:38:38.346188Z",
          "iopub.status.idle": "2022-04-22T05:38:38.353015Z",
          "shell.execute_reply.started": "2022-04-22T05:38:38.346148Z",
          "shell.execute_reply": "2022-04-22T05:38:38.35223Z"
        },
        "trusted": true,
        "id": "WimMFLChnA3A"
      },
      "execution_count": null,
      "outputs": []
    },
    {
      "cell_type": "code",
      "source": [
        "# writing results to df\n",
        "df_results = df_results.append({\n",
        "     \"Model\": 'RandomForestRegressor' ,\n",
        "      \"Info\": 'w/out divided holiday columns' ,\n",
        "       'WMAE' : 5850}, ignore_index=True)"
      ],
      "metadata": {
        "execution": {
          "iopub.status.busy": "2022-04-22T05:38:38.354645Z",
          "iopub.execute_input": "2022-04-22T05:38:38.355194Z",
          "iopub.status.idle": "2022-04-22T05:38:38.365997Z",
          "shell.execute_reply.started": "2022-04-22T05:38:38.355154Z",
          "shell.execute_reply": "2022-04-22T05:38:38.365127Z"
        },
        "trusted": true,
        "id": "xKqLdo6CnA3A"
      },
      "execution_count": null,
      "outputs": []
    },
    {
      "cell_type": "code",
      "source": [
        "df_results = df_results.append({\n",
        "     \"Model\": 'RandomForestRegressor' ,\n",
        "      \"Info\": 'w/out month column' ,\n",
        "       'WMAE' : 5494}, ignore_index=True)\n",
        "df_results = df_results.append({\n",
        "     \"Model\": 'RandomForestRegressor' ,\n",
        "      \"Info\": 'whole data' ,\n",
        "       'WMAE' : 2450}, ignore_index=True)\n",
        "df_results = df_results.append({\n",
        "     \"Model\": 'RandomForestRegressor' ,\n",
        "      \"Info\": 'whole data with feature selection' ,\n",
        "       'WMAE' : 1801}, ignore_index=True)\n",
        "df_results = df_results.append({\n",
        "     \"Model\": 'RandomForestRegressor' ,\n",
        "      \"Info\": 'whole data with feature selection w/out month' ,\n",
        "       'WMAE' : 2093}, ignore_index=True)"
      ],
      "metadata": {
        "execution": {
          "iopub.status.busy": "2022-04-22T05:38:38.367556Z",
          "iopub.execute_input": "2022-04-22T05:38:38.368106Z",
          "iopub.status.idle": "2022-04-22T05:38:38.386722Z",
          "shell.execute_reply.started": "2022-04-22T05:38:38.368065Z",
          "shell.execute_reply": "2022-04-22T05:38:38.385883Z"
        },
        "trusted": true,
        "id": "8s2tu0UJnA3A"
      },
      "execution_count": null,
      "outputs": []
    },
    {
      "cell_type": "code",
      "source": [
        "df_results"
      ],
      "metadata": {
        "execution": {
          "iopub.status.busy": "2022-04-22T05:38:38.388389Z",
          "iopub.execute_input": "2022-04-22T05:38:38.389012Z",
          "iopub.status.idle": "2022-04-22T05:38:38.401623Z",
          "shell.execute_reply.started": "2022-04-22T05:38:38.388969Z",
          "shell.execute_reply": "2022-04-22T05:38:38.400687Z"
        },
        "trusted": true,
        "id": "VrppZnRcnA3A"
      },
      "execution_count": null,
      "outputs": []
    },
    {
      "cell_type": "markdown",
      "source": [
        "The best results belongs to whole data set with feature selection. Now, I will try time series models."
      ],
      "metadata": {
        "id": "XCGGujU2nA3A"
      }
    },
    {
      "cell_type": "markdown",
      "source": [
        "# Time Series Models"
      ],
      "metadata": {
        "id": "GJP83cNpnA3A"
      }
    },
    {
      "cell_type": "code",
      "source": [
        "df.head() # to see my data"
      ],
      "metadata": {
        "execution": {
          "iopub.status.busy": "2022-04-22T05:38:38.403959Z",
          "iopub.execute_input": "2022-04-22T05:38:38.404258Z",
          "iopub.status.idle": "2022-04-22T05:38:38.432817Z",
          "shell.execute_reply.started": "2022-04-22T05:38:38.404217Z",
          "shell.execute_reply": "2022-04-22T05:38:38.431703Z"
        },
        "trusted": true,
        "id": "AK89EkUinA3A"
      },
      "execution_count": null,
      "outputs": []
    },
    {
      "cell_type": "code",
      "source": [
        "df[\"Date\"] = pd.to_datetime(df[\"Date\"]) #changing data to datetime for decomposing"
      ],
      "metadata": {
        "execution": {
          "iopub.status.busy": "2022-04-22T05:38:38.434412Z",
          "iopub.execute_input": "2022-04-22T05:38:38.43475Z",
          "iopub.status.idle": "2022-04-22T05:38:38.464842Z",
          "shell.execute_reply.started": "2022-04-22T05:38:38.434693Z",
          "shell.execute_reply": "2022-04-22T05:38:38.464082Z"
        },
        "trusted": true,
        "id": "kTnb2p1knA3A"
      },
      "execution_count": null,
      "outputs": []
    },
    {
      "cell_type": "code",
      "source": [
        "df.set_index('Date', inplace=True) #seting date as index"
      ],
      "metadata": {
        "execution": {
          "iopub.status.busy": "2022-04-22T05:38:38.466875Z",
          "iopub.execute_input": "2022-04-22T05:38:38.467279Z",
          "iopub.status.idle": "2022-04-22T05:38:38.473106Z",
          "shell.execute_reply.started": "2022-04-22T05:38:38.46724Z",
          "shell.execute_reply": "2022-04-22T05:38:38.472328Z"
        },
        "trusted": true,
        "id": "MTJ-82TUnA3A"
      },
      "execution_count": null,
      "outputs": []
    },
    {
      "cell_type": "markdown",
      "source": [
        "# Plotting Sales"
      ],
      "metadata": {
        "id": "cRlgD4aAnA3A"
      }
    },
    {
      "cell_type": "code",
      "source": [
        "plt.figure(figsize=(16,6))\n",
        "df['Weekly_Sales'].plot()\n",
        "plt.show()"
      ],
      "metadata": {
        "execution": {
          "iopub.status.busy": "2022-04-22T05:38:38.476337Z",
          "iopub.execute_input": "2022-04-22T05:38:38.476807Z",
          "iopub.status.idle": "2022-04-22T05:38:42.15739Z",
          "shell.execute_reply.started": "2022-04-22T05:38:38.476757Z",
          "shell.execute_reply": "2022-04-22T05:38:42.156602Z"
        },
        "trusted": true,
        "id": "VB16BRSZnA3B"
      },
      "execution_count": null,
      "outputs": []
    },
    {
      "cell_type": "markdown",
      "source": [
        "In this data, there are lots of same data values. So, I will collect them together as weekly."
      ],
      "metadata": {
        "id": "rHcrrET4nA3B"
      }
    },
    {
      "cell_type": "code",
      "source": [
        "df_week = df.resample('W').mean() #resample data as weekly"
      ],
      "metadata": {
        "execution": {
          "iopub.status.busy": "2022-04-22T05:38:42.158955Z",
          "iopub.execute_input": "2022-04-22T05:38:42.159476Z",
          "iopub.status.idle": "2022-04-22T05:38:42.357707Z",
          "shell.execute_reply.started": "2022-04-22T05:38:42.15943Z",
          "shell.execute_reply": "2022-04-22T05:38:42.356906Z"
        },
        "trusted": true,
        "id": "vr9-T4FxnA3B"
      },
      "execution_count": null,
      "outputs": []
    },
    {
      "cell_type": "code",
      "source": [
        "plt.figure(figsize=(16,6))\n",
        "df_week['Weekly_Sales'].plot()\n",
        "plt.title('Average Sales - Weekly')\n",
        "plt.show()"
      ],
      "metadata": {
        "execution": {
          "iopub.status.busy": "2022-04-22T05:38:42.359261Z",
          "iopub.execute_input": "2022-04-22T05:38:42.359532Z",
          "iopub.status.idle": "2022-04-22T05:38:42.682368Z",
          "shell.execute_reply.started": "2022-04-22T05:38:42.359494Z",
          "shell.execute_reply": "2022-04-22T05:38:42.681597Z"
        },
        "trusted": true,
        "id": "AJnvPXqFnA3B"
      },
      "execution_count": null,
      "outputs": []
    },
    {
      "cell_type": "markdown",
      "source": [
        "With the collecting data as weekly, I can see average sales clearly. To see monthly pattern , I resampled my data to monthly also."
      ],
      "metadata": {
        "id": "PwT308X7nA3B"
      }
    },
    {
      "cell_type": "code",
      "source": [
        "df_month = df.resample('MS').mean() # resampling as monthly"
      ],
      "metadata": {
        "execution": {
          "iopub.status.busy": "2022-04-22T05:38:42.683893Z",
          "iopub.execute_input": "2022-04-22T05:38:42.684372Z",
          "iopub.status.idle": "2022-04-22T05:38:42.827764Z",
          "shell.execute_reply.started": "2022-04-22T05:38:42.684331Z",
          "shell.execute_reply": "2022-04-22T05:38:42.826965Z"
        },
        "trusted": true,
        "id": "Pjmz9ZAInA3C"
      },
      "execution_count": null,
      "outputs": []
    },
    {
      "cell_type": "code",
      "source": [
        "plt.figure(figsize=(16,6))\n",
        "df_month['Weekly_Sales'].plot()\n",
        "plt.title('Average Sales - Monthly')\n",
        "plt.show()"
      ],
      "metadata": {
        "execution": {
          "iopub.status.busy": "2022-04-22T05:38:42.82932Z",
          "iopub.execute_input": "2022-04-22T05:38:42.829615Z",
          "iopub.status.idle": "2022-04-22T05:38:43.139534Z",
          "shell.execute_reply.started": "2022-04-22T05:38:42.829576Z",
          "shell.execute_reply": "2022-04-22T05:38:43.138808Z"
        },
        "trusted": true,
        "id": "uyVmZyCbnA3C"
      },
      "execution_count": null,
      "outputs": []
    },
    {
      "cell_type": "markdown",
      "source": [
        "When I turned data to monthly, I realized that I lost some patterns in weekly data. So, I will continue with weekly resampled data."
      ],
      "metadata": {
        "id": "fkHrpqn4nA3C"
      }
    },
    {
      "cell_type": "markdown",
      "source": [
        "# To Observe 2-weeks Rolling Mean and Std"
      ],
      "metadata": {
        "id": "Ai30CSuNnA3C"
      }
    },
    {
      "cell_type": "markdown",
      "source": [
        "My data is non-stationary. So, I will try to find more stationary version on it."
      ],
      "metadata": {
        "id": "PrxaKIxTnA3C"
      }
    },
    {
      "cell_type": "code",
      "source": [
        "# finding 2-weeks rolling mean and std\n",
        "roll_mean = df_week['Weekly_Sales'].rolling(window=2, center=False).mean()\n",
        "roll_std = df_week['Weekly_Sales'].rolling(window=2, center=False).std()"
      ],
      "metadata": {
        "execution": {
          "iopub.status.busy": "2022-04-22T05:38:43.150103Z",
          "iopub.execute_input": "2022-04-22T05:38:43.150518Z",
          "iopub.status.idle": "2022-04-22T05:38:43.15837Z",
          "shell.execute_reply.started": "2022-04-22T05:38:43.150467Z",
          "shell.execute_reply": "2022-04-22T05:38:43.157558Z"
        },
        "trusted": true,
        "id": "0our13PGnA3D"
      },
      "execution_count": null,
      "outputs": []
    },
    {
      "cell_type": "code",
      "source": [
        "fig, ax = plt.subplots(figsize=(13, 6))\n",
        "ax.plot(df_week['Weekly_Sales'], color='blue',label='Average Weekly Sales')\n",
        "ax.plot(roll_mean, color='red', label='Rolling 2-Week Mean')\n",
        "ax.plot(roll_std, color='black', label='Rolling 2-Week Standard Deviation')\n",
        "ax.legend()\n",
        "fig.tight_layout()"
      ],
      "metadata": {
        "execution": {
          "iopub.status.busy": "2022-04-22T05:38:43.160999Z",
          "iopub.execute_input": "2022-04-22T05:38:43.161645Z",
          "iopub.status.idle": "2022-04-22T05:38:43.56638Z",
          "shell.execute_reply.started": "2022-04-22T05:38:43.161599Z",
          "shell.execute_reply": "2022-04-22T05:38:43.565614Z"
        },
        "trusted": true,
        "id": "qGYd-cpxnA3H"
      },
      "execution_count": null,
      "outputs": []
    },
    {
      "cell_type": "markdown",
      "source": [
        "# Adfuller Test to Make Sure"
      ],
      "metadata": {
        "id": "x9SgbBTCnA3H"
      }
    },
    {
      "cell_type": "code",
      "source": [
        "adfuller(df_week['Weekly_Sales'])"
      ],
      "metadata": {
        "execution": {
          "iopub.status.busy": "2022-04-22T05:38:43.567716Z",
          "iopub.execute_input": "2022-04-22T05:38:43.568574Z",
          "iopub.status.idle": "2022-04-22T05:38:43.589456Z",
          "shell.execute_reply.started": "2022-04-22T05:38:43.568528Z",
          "shell.execute_reply": "2022-04-22T05:38:43.588664Z"
        },
        "trusted": true,
        "id": "txLXLWW8nA3H"
      },
      "execution_count": null,
      "outputs": []
    },
    {
      "cell_type": "markdown",
      "source": [
        "From test and my observations my data is not stationary. So, I will try to find more stationary version of it."
      ],
      "metadata": {
        "id": "Yq23nqAfnA3I"
      }
    },
    {
      "cell_type": "markdown",
      "source": [
        "# Train - Test Split of Weekly Data"
      ],
      "metadata": {
        "id": "mcZshEZcnA3I"
      }
    },
    {
      "cell_type": "markdown",
      "source": [
        "To take train-test splits continuosly, I split them manually, not random."
      ],
      "metadata": {
        "id": "ky-NA4QXnA3I"
      }
    },
    {
      "cell_type": "code",
      "source": [
        "train_data = df_week[:int(0.7*(len(df_week)))]\n",
        "test_data = df_week[int(0.7*(len(df_week))):]\n",
        "\n",
        "print('Train:', train_data.shape)\n",
        "print('Test:', test_data.shape)"
      ],
      "metadata": {
        "execution": {
          "iopub.status.busy": "2022-04-22T05:38:43.590883Z",
          "iopub.execute_input": "2022-04-22T05:38:43.591175Z",
          "iopub.status.idle": "2022-04-22T05:38:43.599757Z",
          "shell.execute_reply.started": "2022-04-22T05:38:43.591137Z",
          "shell.execute_reply": "2022-04-22T05:38:43.598878Z"
        },
        "trusted": true,
        "id": "Qr5fNbT7nA3I"
      },
      "execution_count": null,
      "outputs": []
    },
    {
      "cell_type": "code",
      "source": [
        "target = \"Weekly_Sales\"\n",
        "used_cols = [c for c in df_week.columns.to_list() if c not in [target]] # all columns except price\n",
        "\n",
        "# assigning train-test X-y values\n",
        "\n",
        "X_train = train_data[used_cols]\n",
        "X_test = test_data[used_cols]\n",
        "y_train = train_data[target]\n",
        "y_test = test_data[target]"
      ],
      "metadata": {
        "execution": {
          "iopub.status.busy": "2022-04-22T05:38:43.603239Z",
          "iopub.execute_input": "2022-04-22T05:38:43.603712Z",
          "iopub.status.idle": "2022-04-22T05:38:43.61268Z",
          "shell.execute_reply.started": "2022-04-22T05:38:43.603666Z",
          "shell.execute_reply": "2022-04-22T05:38:43.611789Z"
        },
        "trusted": true,
        "id": "A0JN_t2LnA3I"
      },
      "execution_count": null,
      "outputs": []
    },
    {
      "cell_type": "code",
      "source": [
        "train_data['Weekly_Sales'].plot(figsize=(20,8), title= 'Weekly_Sales', fontsize=14)\n",
        "test_data['Weekly_Sales'].plot(figsize=(20,8), title= 'Weekly_Sales', fontsize=14)\n",
        "plt.show()"
      ],
      "metadata": {
        "execution": {
          "iopub.status.busy": "2022-04-22T05:38:43.614293Z",
          "iopub.execute_input": "2022-04-22T05:38:43.614618Z",
          "iopub.status.idle": "2022-04-22T05:38:43.975503Z",
          "shell.execute_reply.started": "2022-04-22T05:38:43.61458Z",
          "shell.execute_reply": "2022-04-22T05:38:43.974759Z"
        },
        "trusted": true,
        "id": "_d7fjI8XnA3I"
      },
      "execution_count": null,
      "outputs": []
    },
    {
      "cell_type": "markdown",
      "source": [
        "Blue line represents my train data, yellow is test data."
      ],
      "metadata": {
        "id": "fWM7ZwgLnA3I"
      }
    },
    {
      "cell_type": "markdown",
      "source": [
        "# Decomposing Weekly Data to Observe Seasonality"
      ],
      "metadata": {
        "id": "EBIBkq1TnA3I"
      }
    },
    {
      "cell_type": "code",
      "source": [
        "decomposed = decompose(df_week['Weekly_Sales'].values, 'additive', m=20) #decomposing of weekly data"
      ],
      "metadata": {
        "execution": {
          "iopub.status.busy": "2022-04-22T05:38:43.977079Z",
          "iopub.execute_input": "2022-04-22T05:38:43.977378Z",
          "iopub.status.idle": "2022-04-22T05:38:43.983741Z",
          "shell.execute_reply.started": "2022-04-22T05:38:43.977337Z",
          "shell.execute_reply": "2022-04-22T05:38:43.982803Z"
        },
        "trusted": true,
        "id": "dGA0wurEnA3I"
      },
      "execution_count": null,
      "outputs": []
    },
    {
      "cell_type": "code",
      "source": [
        "decomposed_plot(decomposed, figure_kwargs={'figsize': (16, 10)})\n",
        "plt.show()"
      ],
      "metadata": {
        "execution": {
          "iopub.status.busy": "2022-04-22T05:38:43.985294Z",
          "iopub.execute_input": "2022-04-22T05:38:43.985875Z",
          "iopub.status.idle": "2022-04-22T05:38:44.485369Z",
          "shell.execute_reply.started": "2022-04-22T05:38:43.985686Z",
          "shell.execute_reply": "2022-04-22T05:38:44.48463Z"
        },
        "trusted": true,
        "id": "dhMMKK9dnA3I"
      },
      "execution_count": null,
      "outputs": []
    },
    {
      "cell_type": "markdown",
      "source": [
        "From the graphs above, every 20 step seasonality converges to beginning point. This helps me to tune my model."
      ],
      "metadata": {
        "id": "zvv4tvT_nA3I"
      }
    },
    {
      "cell_type": "markdown",
      "source": [
        "# Trying To Make Data More Stationary"
      ],
      "metadata": {
        "id": "9x1ITHWinA3J"
      }
    },
    {
      "cell_type": "markdown",
      "source": [
        "Now, I will try to make my data more stationary. To do this, I will try model with differenced, logged and shifted data."
      ],
      "metadata": {
        "id": "8jd30YdanA3J"
      }
    },
    {
      "cell_type": "markdown",
      "source": [
        "## 1. Difference"
      ],
      "metadata": {
        "id": "Qt5rTM1KnA3J"
      }
    },
    {
      "cell_type": "code",
      "source": [
        "df_week_diff = df_week['Weekly_Sales'].diff().dropna() #creating difference values"
      ],
      "metadata": {
        "execution": {
          "iopub.status.busy": "2022-04-22T05:38:44.486554Z",
          "iopub.execute_input": "2022-04-22T05:38:44.487466Z",
          "iopub.status.idle": "2022-04-22T05:38:44.494642Z",
          "shell.execute_reply.started": "2022-04-22T05:38:44.487412Z",
          "shell.execute_reply": "2022-04-22T05:38:44.493792Z"
        },
        "trusted": true,
        "id": "s6cHaqgtnA3J"
      },
      "execution_count": null,
      "outputs": []
    },
    {
      "cell_type": "code",
      "source": [
        "# taking mean and std of differenced data\n",
        "diff_roll_mean = df_week_diff.rolling(window=2, center=False).mean()\n",
        "diff_roll_std = df_week_diff.rolling(window=2, center=False).std()"
      ],
      "metadata": {
        "execution": {
          "iopub.status.busy": "2022-04-22T05:38:44.496406Z",
          "iopub.execute_input": "2022-04-22T05:38:44.49671Z",
          "iopub.status.idle": "2022-04-22T05:38:44.506499Z",
          "shell.execute_reply.started": "2022-04-22T05:38:44.496672Z",
          "shell.execute_reply": "2022-04-22T05:38:44.505675Z"
        },
        "trusted": true,
        "id": "rmiCl72XnA3J"
      },
      "execution_count": null,
      "outputs": []
    },
    {
      "cell_type": "code",
      "source": [
        "fig, ax = plt.subplots(figsize=(13, 6))\n",
        "ax.plot(df_week_diff, color='blue',label='Difference')\n",
        "ax.plot(diff_roll_mean, color='red', label='Rolling Mean')\n",
        "ax.plot(diff_roll_std, color='black', label='Rolling Standard Deviation')\n",
        "ax.legend()\n",
        "fig.tight_layout()"
      ],
      "metadata": {
        "execution": {
          "iopub.status.busy": "2022-04-22T05:38:44.50814Z",
          "iopub.execute_input": "2022-04-22T05:38:44.508447Z",
          "iopub.status.idle": "2022-04-22T05:38:44.950399Z",
          "shell.execute_reply.started": "2022-04-22T05:38:44.508397Z",
          "shell.execute_reply": "2022-04-22T05:38:44.949579Z"
        },
        "trusted": true,
        "id": "jWlb_8ZknA3J"
      },
      "execution_count": null,
      "outputs": []
    },
    {
      "cell_type": "markdown",
      "source": [
        "## 2.Shift"
      ],
      "metadata": {
        "id": "wm_cPyRknA3J"
      }
    },
    {
      "cell_type": "code",
      "source": [
        "df_week_lag = df_week['Weekly_Sales'].shift().dropna() #shifting the data"
      ],
      "metadata": {
        "execution": {
          "iopub.status.busy": "2022-04-22T05:38:44.951967Z",
          "iopub.execute_input": "2022-04-22T05:38:44.952716Z",
          "iopub.status.idle": "2022-04-22T05:38:44.958685Z",
          "shell.execute_reply.started": "2022-04-22T05:38:44.952671Z",
          "shell.execute_reply": "2022-04-22T05:38:44.957802Z"
        },
        "trusted": true,
        "id": "DkUAzXj0nA3J"
      },
      "execution_count": null,
      "outputs": []
    },
    {
      "cell_type": "code",
      "source": [
        "lag_roll_mean = df_week_lag.rolling(window=2, center=False).mean()\n",
        "lag_roll_std = df_week_lag.rolling(window=2, center=False).std()"
      ],
      "metadata": {
        "execution": {
          "iopub.status.busy": "2022-04-22T05:38:44.960362Z",
          "iopub.execute_input": "2022-04-22T05:38:44.96065Z",
          "iopub.status.idle": "2022-04-22T05:38:44.970318Z",
          "shell.execute_reply.started": "2022-04-22T05:38:44.960603Z",
          "shell.execute_reply": "2022-04-22T05:38:44.969462Z"
        },
        "trusted": true,
        "id": "lYRNw8xfnA3J"
      },
      "execution_count": null,
      "outputs": []
    },
    {
      "cell_type": "code",
      "source": [
        "fig, ax = plt.subplots(figsize=(13, 6))\n",
        "ax.plot(df_week_lag, color='blue',label='Difference')\n",
        "ax.plot(lag_roll_mean, color='red', label='Rolling Mean')\n",
        "ax.plot(lag_roll_std, color='black', label='Rolling Standard Deviation')\n",
        "ax.legend()\n",
        "fig.tight_layout()"
      ],
      "metadata": {
        "execution": {
          "iopub.status.busy": "2022-04-22T05:38:44.971852Z",
          "iopub.execute_input": "2022-04-22T05:38:44.972159Z",
          "iopub.status.idle": "2022-04-22T05:38:45.371029Z",
          "shell.execute_reply.started": "2022-04-22T05:38:44.972111Z",
          "shell.execute_reply": "2022-04-22T05:38:45.370287Z"
        },
        "trusted": true,
        "id": "cbK0Ot5jnA3J"
      },
      "execution_count": null,
      "outputs": []
    },
    {
      "cell_type": "markdown",
      "source": [
        "## 3.Log"
      ],
      "metadata": {
        "id": "fl1fdIj1nA3J"
      }
    },
    {
      "cell_type": "code",
      "source": [
        "logged_week = np.log1p(df_week['Weekly_Sales']).dropna() #taking log of data"
      ],
      "metadata": {
        "execution": {
          "iopub.status.busy": "2022-04-22T05:38:45.372184Z",
          "iopub.execute_input": "2022-04-22T05:38:45.372943Z",
          "iopub.status.idle": "2022-04-22T05:38:45.378972Z",
          "shell.execute_reply.started": "2022-04-22T05:38:45.3729Z",
          "shell.execute_reply": "2022-04-22T05:38:45.377934Z"
        },
        "trusted": true,
        "id": "nMrjUVIXnA3J"
      },
      "execution_count": null,
      "outputs": []
    },
    {
      "cell_type": "code",
      "source": [
        "log_roll_mean = logged_week.rolling(window=2, center=False).mean()\n",
        "log_roll_std = logged_week.rolling(window=2, center=False).std()"
      ],
      "metadata": {
        "execution": {
          "iopub.status.busy": "2022-04-22T05:38:45.38032Z",
          "iopub.execute_input": "2022-04-22T05:38:45.38095Z",
          "iopub.status.idle": "2022-04-22T05:38:45.390052Z",
          "shell.execute_reply.started": "2022-04-22T05:38:45.380902Z",
          "shell.execute_reply": "2022-04-22T05:38:45.389309Z"
        },
        "trusted": true,
        "id": "4FrlHHbxnA3J"
      },
      "execution_count": null,
      "outputs": []
    },
    {
      "cell_type": "code",
      "source": [
        "fig, ax = plt.subplots(figsize=(13, 6))\n",
        "ax.plot(logged_week, color='blue',label='Logged')\n",
        "ax.plot(log_roll_mean, color='red', label='Rolling Mean')\n",
        "ax.plot(log_roll_std, color='black', label='Rolling Standard Deviation')\n",
        "ax.legend()\n",
        "fig.tight_layout()"
      ],
      "metadata": {
        "execution": {
          "iopub.status.busy": "2022-04-22T05:38:45.392632Z",
          "iopub.execute_input": "2022-04-22T05:38:45.393774Z",
          "iopub.status.idle": "2022-04-22T05:38:45.775087Z",
          "shell.execute_reply.started": "2022-04-22T05:38:45.393719Z",
          "shell.execute_reply": "2022-04-22T05:38:45.774296Z"
        },
        "trusted": true,
        "id": "k6PeaNH5nA3J"
      },
      "execution_count": null,
      "outputs": []
    },
    {
      "cell_type": "markdown",
      "source": [
        "# Auto-ARIMA MODEL"
      ],
      "metadata": {
        "id": "LpW8kPUknA3K"
      }
    },
    {
      "cell_type": "markdown",
      "source": [
        "I tried my data without any changes, then tried with shifting, taking log and difference version of data. Differenced data gave best results. So, I decided to take difference and use this data."
      ],
      "metadata": {
        "id": "APptGJvOnA3K"
      }
    },
    {
      "cell_type": "markdown",
      "source": [
        "# Train-Test Split"
      ],
      "metadata": {
        "id": "YlLwzI-enA3K"
      }
    },
    {
      "cell_type": "code",
      "source": [
        "train_data_diff = df_week_diff [:int(0.7*(len(df_week_diff )))]\n",
        "test_data_diff = df_week_diff [int(0.7*(len(df_week_diff ))):]"
      ],
      "metadata": {
        "execution": {
          "iopub.status.busy": "2022-04-22T05:38:45.77626Z",
          "iopub.execute_input": "2022-04-22T05:38:45.777036Z",
          "iopub.status.idle": "2022-04-22T05:38:45.78327Z",
          "shell.execute_reply.started": "2022-04-22T05:38:45.776984Z",
          "shell.execute_reply": "2022-04-22T05:38:45.782288Z"
        },
        "trusted": true,
        "id": "gbv69e09nA3K"
      },
      "execution_count": null,
      "outputs": []
    },
    {
      "cell_type": "code",
      "source": [
        "# train_data = train_data['Weekly_Sales']\n",
        "# test_data = test_data['Weekly_Sales']\n",
        "\n",
        "model_auto_arima = auto_arima(train_data_diff, trace=True,start_p=0, start_q=0, start_P=0, start_Q=0,\n",
        "                  max_p=20, max_q=20, max_P=20, max_Q=20, seasonal=True,maxiter=200,\n",
        "                  information_criterion='aic',stepwise=False, suppress_warnings=True, D=1, max_D=10,\n",
        "                  error_action='ignore',approximation = False)\n",
        "model_auto_arima.fit(train_data_diff)"
      ],
      "metadata": {
        "execution": {
          "iopub.status.busy": "2022-04-22T05:38:45.785074Z",
          "iopub.execute_input": "2022-04-22T05:38:45.785391Z",
          "iopub.status.idle": "2022-04-22T05:38:51.89804Z",
          "shell.execute_reply.started": "2022-04-22T05:38:45.785347Z",
          "shell.execute_reply": "2022-04-22T05:38:51.897182Z"
        },
        "trusted": true,
        "id": "nT7MGJAjnA3K"
      },
      "execution_count": null,
      "outputs": []
    },
    {
      "cell_type": "code",
      "source": [
        "y_pred = model_auto_arima.predict(n_periods=len(test_data_diff))\n",
        "y_pred = pd.DataFrame(y_pred,index = test_data.index,columns=['Prediction'])\n",
        "plt.figure(figsize=(20,6))\n",
        "plt.title('Prediction of Weekly Sales Using Auto-ARIMA', fontsize=20)\n",
        "plt.plot(train_data_diff, label='Train')\n",
        "plt.plot(test_data_diff, label='Test')\n",
        "plt.plot(y_pred, label='Prediction of ARIMA')\n",
        "plt.legend(loc='best')\n",
        "plt.xlabel('Date', fontsize=14)\n",
        "plt.ylabel('Weekly Sales', fontsize=14)\n",
        "plt.show()"
      ],
      "metadata": {
        "execution": {
          "iopub.status.busy": "2022-04-22T05:38:51.899397Z",
          "iopub.execute_input": "2022-04-22T05:38:51.899921Z",
          "iopub.status.idle": "2022-04-22T05:38:52.434209Z",
          "shell.execute_reply.started": "2022-04-22T05:38:51.899877Z",
          "shell.execute_reply": "2022-04-22T05:38:52.433486Z"
        },
        "trusted": true,
        "id": "fHmDav5snA3K"
      },
      "execution_count": null,
      "outputs": []
    },
    {
      "cell_type": "markdown",
      "source": [
        "I do not like the pattern of predictions so I decided to try another model."
      ],
      "metadata": {
        "id": "6Wb0-ulEnA3K"
      }
    },
    {
      "cell_type": "markdown",
      "source": [
        "# ExponentialSmoothing"
      ],
      "metadata": {
        "id": "PXY1cRMrnA3K"
      }
    },
    {
      "cell_type": "markdown",
      "source": [
        "I checked suitable Holt-Winters models according tp my data. Exponential Smooting are used when data has trend, and it flattens the trend. The damped trend method adds a damping parameter so, the trend converges to a constant value in the future."
      ],
      "metadata": {
        "id": "N1fKIqnRnA3K"
      }
    },
    {
      "cell_type": "markdown",
      "source": [
        "My difference data has some minus and zero values, so I used additive seasonal and trend instead of multiplicative. Seasonal periods are chosen from the decomposed graphs above. For tuning the model with iterations take too much time so, I changed and tried model for different parameters and found the best parameters and fitted them to model."
      ],
      "metadata": {
        "id": "RaFbXXnynA3K"
      }
    },
    {
      "cell_type": "code",
      "source": [
        "model_holt_winters = ExponentialSmoothing(train_data_diff, seasonal_periods=20, seasonal='additive',\n",
        "                                           trend='additive',damped=True).fit() #Taking additive trend and seasonality.\n",
        "y_pred = model_holt_winters.forecast(len(test_data_diff))# Predict the test data\n",
        "\n",
        "#Visualize train, test and predicted data.\n",
        "plt.figure(figsize=(20,6))\n",
        "plt.title('Prediction of Weekly Sales using ExponentialSmoothing', fontsize=20)\n",
        "plt.plot(train_data_diff, label='Train')\n",
        "plt.plot(test_data_diff, label='Test')\n",
        "plt.plot(y_pred, label='Prediction using ExponentialSmoothing')\n",
        "plt.legend(loc='best')\n",
        "plt.xlabel('Date', fontsize=14)\n",
        "plt.ylabel('Weekly Sales', fontsize=14)\n",
        "plt.show()\n"
      ],
      "metadata": {
        "execution": {
          "iopub.status.busy": "2022-04-22T05:38:52.438389Z",
          "iopub.execute_input": "2022-04-22T05:38:52.440476Z",
          "iopub.status.idle": "2022-04-22T05:38:52.98293Z",
          "shell.execute_reply.started": "2022-04-22T05:38:52.440433Z",
          "shell.execute_reply": "2022-04-22T05:38:52.98218Z"
        },
        "trusted": true,
        "id": "naejsmlfnA3K"
      },
      "execution_count": null,
      "outputs": []
    },
    {
      "cell_type": "code",
      "source": [
        "wmae_test(test_data_diff, y_pred)"
      ],
      "metadata": {
        "execution": {
          "iopub.status.busy": "2022-04-22T05:38:52.98415Z",
          "iopub.execute_input": "2022-04-22T05:38:52.985031Z",
          "iopub.status.idle": "2022-04-22T05:38:52.993858Z",
          "shell.execute_reply.started": "2022-04-22T05:38:52.984985Z",
          "shell.execute_reply": "2022-04-22T05:38:52.993043Z"
        },
        "trusted": true,
        "id": "yB4E3A4snA3K"
      },
      "execution_count": null,
      "outputs": []
    },
    {
      "cell_type": "markdown",
      "source": [
        "At the end, I found best results for my data with Exponential Smoothing Model."
      ],
      "metadata": {
        "id": "Qw_dFYk2nA3K"
      }
    },
    {
      "cell_type": "markdown",
      "source": [
        "My best result for this project is 821. According to sales amounts this value is roughly around 4-5% error. If we can take our average sales and take percentage of 821 errors, it gives 4-5% roughly."
      ],
      "metadata": {
        "id": "QUTVFBiYnA3K"
      }
    }
  ]
}